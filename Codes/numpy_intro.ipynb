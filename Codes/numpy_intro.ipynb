{
 "cells": [
  {
   "cell_type": "code",
   "execution_count": 1,
   "metadata": {
    "colab": {
     "base_uri": "https://localhost:8080/"
    },
    "executionInfo": {
     "elapsed": 2568,
     "status": "ok",
     "timestamp": 1606274556186,
     "user": {
      "displayName": "praj151986",
      "photoUrl": "",
      "userId": "03618971057838723327"
     },
     "user_tz": -330
    },
    "id": "3DE7uJEHHTQw",
    "outputId": "7a136624-c75f-45dc-c7a8-7534508a5036"
   },
   "outputs": [
    {
     "name": "stdout",
     "output_type": "stream",
     "text": [
      "Wall time: 14.9 ms\n",
      "Wall time: 750 ms\n"
     ]
    }
   ],
   "source": [
    "In [7]: import numpy as np\n",
    "In [8]: my_arr = np.arange(1000000)\n",
    "In [9]: my_list = list(range(1000000))\n",
    "In [10]: %time for _ in range(10): my_arr2 = my_arr * 2\n",
    "In [11]: %time for _ in range(10): my_list2 = [x * 2 for x in my_list]\n"
   ]
  },
  {
   "cell_type": "code",
   "execution_count": 4,
   "metadata": {
    "colab": {
     "base_uri": "https://localhost:8080/"
    },
    "executionInfo": {
     "elapsed": 1443,
     "status": "ok",
     "timestamp": 1605262226259,
     "user": {
      "displayName": "prathviraj shetty",
      "photoUrl": "https://lh3.googleusercontent.com/a-/AOh14GhKody4bMBhr3sFjBRSMtPKerrzBoUK7stNKBFvrA=s64",
      "userId": "03618971057838723327"
     },
     "user_tz": -330
    },
    "id": "Orr6dN6tHozc",
    "outputId": "8195b5dd-b82f-4e28-d58e-cde27cc1619c"
   },
   "outputs": [
    {
     "data": {
      "text/plain": [
       "array([[-1.0965832 , -1.2454595 ,  1.38065845],\n",
       "       [ 1.0434779 , -0.32702227, -2.9526889 ]])"
      ]
     },
     "execution_count": 4,
     "metadata": {},
     "output_type": "execute_result"
    }
   ],
   "source": [
    "In [12]: import numpy as np\n",
    "# Generate some random data\n",
    "In [13]: data = np.random.randn(2, 3)\n",
    "In [14]: data"
   ]
  },
  {
   "cell_type": "code",
   "execution_count": 5,
   "metadata": {
    "colab": {
     "base_uri": "https://localhost:8080/"
    },
    "executionInfo": {
     "elapsed": 1565,
     "status": "ok",
     "timestamp": 1605239360718,
     "user": {
      "displayName": "prathviraj shetty",
      "photoUrl": "https://lh3.googleusercontent.com/a-/AOh14GhKody4bMBhr3sFjBRSMtPKerrzBoUK7stNKBFvrA=s64",
      "userId": "03618971057838723327"
     },
     "user_tz": -330
    },
    "id": "M2EqVZmmIjEh",
    "outputId": "d0354a3c-71cd-469d-9895-d3de28df3c99"
   },
   "outputs": [
    {
     "data": {
      "text/plain": [
       "array([[-10.96583203, -12.45459505,  13.8065845 ],\n",
       "       [ 10.43477903,  -3.27022271, -29.52688899]])"
      ]
     },
     "execution_count": 5,
     "metadata": {},
     "output_type": "execute_result"
    }
   ],
   "source": [
    "In [15]: data * 10"
   ]
  },
  {
   "cell_type": "code",
   "execution_count": 10,
   "metadata": {
    "colab": {
     "base_uri": "https://localhost:8080/"
    },
    "executionInfo": {
     "elapsed": 1396,
     "status": "ok",
     "timestamp": 1605239387384,
     "user": {
      "displayName": "prathviraj shetty",
      "photoUrl": "https://lh3.googleusercontent.com/a-/AOh14GhKody4bMBhr3sFjBRSMtPKerrzBoUK7stNKBFvrA=s64",
      "userId": "03618971057838723327"
     },
     "user_tz": -330
    },
    "id": "_J-PIqHMI6PG",
    "outputId": "9c14e1f6-74f0-49b6-92cb-62efc4ddce3d"
   },
   "outputs": [
    {
     "data": {
      "text/plain": [
       "array([[-2.19316641, -2.49091901,  2.7613169 ],\n",
       "       [ 2.08695581, -0.65404454, -5.9053778 ]])"
      ]
     },
     "execution_count": 10,
     "metadata": {},
     "output_type": "execute_result"
    }
   ],
   "source": [
    "In [16]: data + data"
   ]
  },
  {
   "cell_type": "code",
   "execution_count": 18,
   "metadata": {
    "colab": {
     "base_uri": "https://localhost:8080/"
    },
    "executionInfo": {
     "elapsed": 1400,
     "status": "ok",
     "timestamp": 1605239408700,
     "user": {
      "displayName": "prathviraj shetty",
      "photoUrl": "https://lh3.googleusercontent.com/a-/AOh14GhKody4bMBhr3sFjBRSMtPKerrzBoUK7stNKBFvrA=s64",
      "userId": "03618971057838723327"
     },
     "user_tz": -330
    },
    "id": "G2lY-YWgI_QH",
    "outputId": "80abebce-4547-4bdd-dc78-a96cbec012c3"
   },
   "outputs": [
    {
     "data": {
      "text/plain": [
       "2"
      ]
     },
     "execution_count": 18,
     "metadata": {},
     "output_type": "execute_result"
    }
   ],
   "source": [
    "In [17]: data.ndim"
   ]
  },
  {
   "cell_type": "code",
   "execution_count": 12,
   "metadata": {
    "id": "z0M0GSzDJNfg"
   },
   "outputs": [
    {
     "data": {
      "text/plain": [
       "dtype('float64')"
      ]
     },
     "execution_count": 12,
     "metadata": {},
     "output_type": "execute_result"
    }
   ],
   "source": [
    "In [18]: data.dtype"
   ]
  },
  {
   "cell_type": "code",
   "execution_count": 13,
   "metadata": {
    "colab": {
     "base_uri": "https://localhost:8080/"
    },
    "executionInfo": {
     "elapsed": 1410,
     "status": "ok",
     "timestamp": 1605239556094,
     "user": {
      "displayName": "prathviraj shetty",
      "photoUrl": "https://lh3.googleusercontent.com/a-/AOh14GhKody4bMBhr3sFjBRSMtPKerrzBoUK7stNKBFvrA=s64",
      "userId": "03618971057838723327"
     },
     "user_tz": -330
    },
    "id": "TFaT3DpXKFMr",
    "outputId": "0f42c198-4cb8-4e88-ae53-e585397cbb45"
   },
   "outputs": [
    {
     "data": {
      "text/plain": [
       "array([6. , 7.5, 8. , 0. , 1. ])"
      ]
     },
     "execution_count": 13,
     "metadata": {},
     "output_type": "execute_result"
    }
   ],
   "source": [
    "In [19]: data1 = [6, 7.5, 8, 0, 1]\n",
    "In [20]: arr1 = np.array(data1)\n",
    "In [21]: arr1\n"
   ]
  },
  {
   "cell_type": "code",
   "execution_count": 14,
   "metadata": {
    "colab": {
     "base_uri": "https://localhost:8080/"
    },
    "executionInfo": {
     "elapsed": 1386,
     "status": "ok",
     "timestamp": 1605239577727,
     "user": {
      "displayName": "prathviraj shetty",
      "photoUrl": "https://lh3.googleusercontent.com/a-/AOh14GhKody4bMBhr3sFjBRSMtPKerrzBoUK7stNKBFvrA=s64",
      "userId": "03618971057838723327"
     },
     "user_tz": -330
    },
    "id": "b-iJJB8ZKK_8",
    "outputId": "8beec13e-712d-44b0-c90f-0c6ea1a6eafe"
   },
   "outputs": [
    {
     "data": {
      "text/plain": [
       "array([[1, 2, 3, 4],\n",
       "       [5, 6, 7, 8]])"
      ]
     },
     "execution_count": 14,
     "metadata": {},
     "output_type": "execute_result"
    }
   ],
   "source": [
    "In [22]: data2 = [[1, 2, 3, 4], [5, 6, 7, 8]]\n",
    "In [23]: arr2 = np.array(data2)\n",
    "In [24]: arr2\n"
   ]
  },
  {
   "cell_type": "code",
   "execution_count": 15,
   "metadata": {
    "colab": {
     "base_uri": "https://localhost:8080/"
    },
    "executionInfo": {
     "elapsed": 1607,
     "status": "ok",
     "timestamp": 1605239594986,
     "user": {
      "displayName": "prathviraj shetty",
      "photoUrl": "https://lh3.googleusercontent.com/a-/AOh14GhKody4bMBhr3sFjBRSMtPKerrzBoUK7stNKBFvrA=s64",
      "userId": "03618971057838723327"
     },
     "user_tz": -330
    },
    "id": "nhW77nJQKXea",
    "outputId": "b6bbb221-7d8c-4b6e-e54c-f18b525520b1"
   },
   "outputs": [
    {
     "data": {
      "text/plain": [
       "2"
      ]
     },
     "execution_count": 15,
     "metadata": {},
     "output_type": "execute_result"
    }
   ],
   "source": [
    "In [25]: arr2.ndim"
   ]
  },
  {
   "cell_type": "code",
   "execution_count": 19,
   "metadata": {
    "colab": {
     "base_uri": "https://localhost:8080/"
    },
    "executionInfo": {
     "elapsed": 1395,
     "status": "ok",
     "timestamp": 1605239600280,
     "user": {
      "displayName": "prathviraj shetty",
      "photoUrl": "https://lh3.googleusercontent.com/a-/AOh14GhKody4bMBhr3sFjBRSMtPKerrzBoUK7stNKBFvrA=s64",
      "userId": "03618971057838723327"
     },
     "user_tz": -330
    },
    "id": "SQ6cayL8KswW",
    "outputId": "4f84e684-38b0-40e7-bd35-59e024bc0eb9"
   },
   "outputs": [
    {
     "data": {
      "text/plain": [
       "(2, 4)"
      ]
     },
     "execution_count": 19,
     "metadata": {},
     "output_type": "execute_result"
    }
   ],
   "source": [
    "In [26]: arr2.shape"
   ]
  },
  {
   "cell_type": "code",
   "execution_count": 20,
   "metadata": {
    "colab": {
     "base_uri": "https://localhost:8080/"
    },
    "executionInfo": {
     "elapsed": 2393,
     "status": "ok",
     "timestamp": 1605240076832,
     "user": {
      "displayName": "prathviraj shetty",
      "photoUrl": "https://lh3.googleusercontent.com/a-/AOh14GhKody4bMBhr3sFjBRSMtPKerrzBoUK7stNKBFvrA=s64",
      "userId": "03618971057838723327"
     },
     "user_tz": -330
    },
    "id": "K3mi0ICvLb0F",
    "outputId": "e4e4e4f2-e6cf-4ae5-f33c-d3888dbc4f3f"
   },
   "outputs": [
    {
     "data": {
      "text/plain": [
       "array([0., 0., 0., 0., 0., 0., 0., 0., 0., 0.])"
      ]
     },
     "execution_count": 20,
     "metadata": {},
     "output_type": "execute_result"
    }
   ],
   "source": [
    "In [29]: np.zeros(10)"
   ]
  },
  {
   "cell_type": "code",
   "execution_count": 21,
   "metadata": {
    "colab": {
     "base_uri": "https://localhost:8080/"
    },
    "executionInfo": {
     "elapsed": 2421,
     "status": "ok",
     "timestamp": 1605240085851,
     "user": {
      "displayName": "prathviraj shetty",
      "photoUrl": "https://lh3.googleusercontent.com/a-/AOh14GhKody4bMBhr3sFjBRSMtPKerrzBoUK7stNKBFvrA=s64",
      "userId": "03618971057838723327"
     },
     "user_tz": -330
    },
    "id": "ToiI5khSL8mN",
    "outputId": "5a503ff9-0679-4316-f606-5cf2c4a6a4d9"
   },
   "outputs": [
    {
     "data": {
      "text/plain": [
       "array([[0., 0., 0., 0., 0., 0.],\n",
       "       [0., 0., 0., 0., 0., 0.],\n",
       "       [0., 0., 0., 0., 0., 0.]])"
      ]
     },
     "execution_count": 21,
     "metadata": {},
     "output_type": "execute_result"
    }
   ],
   "source": [
    "In [30]: np.zeros((3, 6))"
   ]
  },
  {
   "cell_type": "code",
   "execution_count": 22,
   "metadata": {
    "colab": {
     "base_uri": "https://localhost:8080/"
    },
    "executionInfo": {
     "elapsed": 3915,
     "status": "ok",
     "timestamp": 1605240094852,
     "user": {
      "displayName": "prathviraj shetty",
      "photoUrl": "https://lh3.googleusercontent.com/a-/AOh14GhKody4bMBhr3sFjBRSMtPKerrzBoUK7stNKBFvrA=s64",
      "userId": "03618971057838723327"
     },
     "user_tz": -330
    },
    "id": "TLgdBpL8ME5D",
    "outputId": "f9df5b7d-36ce-4e29-c7a4-f66119c99f8d"
   },
   "outputs": [
    {
     "data": {
      "text/plain": [
       "array([[[0., 0.],\n",
       "        [0., 0.],\n",
       "        [0., 0.]],\n",
       "\n",
       "       [[0., 0.],\n",
       "        [0., 0.],\n",
       "        [0., 0.]],\n",
       "\n",
       "       [[0., 0.],\n",
       "        [0., 0.],\n",
       "        [0., 0.]]])"
      ]
     },
     "execution_count": 22,
     "metadata": {},
     "output_type": "execute_result"
    }
   ],
   "source": [
    "In [31]: np.empty((3, 3, 2))"
   ]
  },
  {
   "cell_type": "code",
   "execution_count": 23,
   "metadata": {
    "colab": {
     "base_uri": "https://localhost:8080/"
    },
    "executionInfo": {
     "elapsed": 1373,
     "status": "ok",
     "timestamp": 1605240138249,
     "user": {
      "displayName": "prathviraj shetty",
      "photoUrl": "https://lh3.googleusercontent.com/a-/AOh14GhKody4bMBhr3sFjBRSMtPKerrzBoUK7stNKBFvrA=s64",
      "userId": "03618971057838723327"
     },
     "user_tz": -330
    },
    "id": "w6p_xxPyMg1I",
    "outputId": "acdf7e66-33af-4e13-a195-5305f861a369"
   },
   "outputs": [
    {
     "data": {
      "text/plain": [
       "array([ 0,  1,  2,  3,  4,  5,  6,  7,  8,  9, 10, 11])"
      ]
     },
     "execution_count": 23,
     "metadata": {},
     "output_type": "execute_result"
    }
   ],
   "source": [
    "In [32]: np.arange(12)"
   ]
  },
  {
   "cell_type": "code",
   "execution_count": 25,
   "metadata": {
    "colab": {
     "base_uri": "https://localhost:8080/"
    },
    "executionInfo": {
     "elapsed": 1429,
     "status": "ok",
     "timestamp": 1605240155902,
     "user": {
      "displayName": "prathviraj shetty",
      "photoUrl": "https://lh3.googleusercontent.com/a-/AOh14GhKody4bMBhr3sFjBRSMtPKerrzBoUK7stNKBFvrA=s64",
      "userId": "03618971057838723327"
     },
     "user_tz": -330
    },
    "id": "E3tW_3FkM0Jk",
    "outputId": "dab1b5e8-58d8-4c96-8002-b5c34da55487"
   },
   "outputs": [
    {
     "data": {
      "text/plain": [
       "dtype('int32')"
      ]
     },
     "execution_count": 25,
     "metadata": {},
     "output_type": "execute_result"
    }
   ],
   "source": [
    "In [37]: arr = np.array([1, 2, 3, 4, 5])\n",
    "In [38]: arr.dtype\n"
   ]
  },
  {
   "cell_type": "code",
   "execution_count": 28,
   "metadata": {
    "colab": {
     "base_uri": "https://localhost:8080/"
    },
    "executionInfo": {
     "elapsed": 1368,
     "status": "ok",
     "timestamp": 1605240208659,
     "user": {
      "displayName": "prathviraj shetty",
      "photoUrl": "https://lh3.googleusercontent.com/a-/AOh14GhKody4bMBhr3sFjBRSMtPKerrzBoUK7stNKBFvrA=s64",
      "userId": "03618971057838723327"
     },
     "user_tz": -330
    },
    "id": "QOprwbU_OThu",
    "outputId": "c502223d-8422-417c-a15b-de83e0b62aec"
   },
   "outputs": [
    {
     "data": {
      "text/plain": [
       "array([1., 2., 3., 4., 5.])"
      ]
     },
     "execution_count": 28,
     "metadata": {},
     "output_type": "execute_result"
    }
   ],
   "source": [
    "In [39]: float_arr = arr.astype(np.float64)\n",
    "In [40]: float_arr.dtype\n",
    "float_arr   "
   ]
  },
  {
   "cell_type": "code",
   "execution_count": null,
   "metadata": {
    "colab": {
     "base_uri": "https://localhost:8080/"
    },
    "executionInfo": {
     "elapsed": 1378,
     "status": "ok",
     "timestamp": 1605240234869,
     "user": {
      "displayName": "prathviraj shetty",
      "photoUrl": "https://lh3.googleusercontent.com/a-/AOh14GhKody4bMBhr3sFjBRSMtPKerrzBoUK7stNKBFvrA=s64",
      "userId": "03618971057838723327"
     },
     "user_tz": -330
    },
    "id": "YiLomAGIOfNP",
    "outputId": "73526d44-1fcc-478f-cef7-6bd9e6e6f89b"
   },
   "outputs": [
    {
     "data": {
      "text/plain": [
       "array([ 3, -1, -2,  0, 12, 10], dtype=int32)"
      ]
     },
     "execution_count": 17,
     "metadata": {
      "tags": []
     },
     "output_type": "execute_result"
    }
   ],
   "source": [
    "In [41]: arr = np.array([3.7, -1.2, -2.6, 0.5, 12.9, 10.1])\n",
    "In [43]: int_arr = arr.astype(np.int32)\n",
    "int_arr\n"
   ]
  },
  {
   "cell_type": "code",
   "execution_count": null,
   "metadata": {
    "colab": {
     "base_uri": "https://localhost:8080/"
    },
    "executionInfo": {
     "elapsed": 2255,
     "status": "ok",
     "timestamp": 1605240262775,
     "user": {
      "displayName": "prathviraj shetty",
      "photoUrl": "https://lh3.googleusercontent.com/a-/AOh14GhKody4bMBhr3sFjBRSMtPKerrzBoUK7stNKBFvrA=s64",
      "userId": "03618971057838723327"
     },
     "user_tz": -330
    },
    "id": "HY2Eql18PBU9",
    "outputId": "ec15ef95-ee2d-472e-d416-335395e7ee9f"
   },
   "outputs": [
    {
     "data": {
      "text/plain": [
       "array([ 1.25, -9.6 , 42.  ])"
      ]
     },
     "execution_count": 18,
     "metadata": {
      "tags": []
     },
     "output_type": "execute_result"
    }
   ],
   "source": [
    "In [44]: numeric_strings = np.array(['1.25', '-9.6', '42'])\n",
    "In [45]: numeric_strings.astype(float)\n"
   ]
  },
  {
   "cell_type": "code",
   "execution_count": null,
   "metadata": {
    "colab": {
     "base_uri": "https://localhost:8080/"
    },
    "executionInfo": {
     "elapsed": 1415,
     "status": "ok",
     "timestamp": 1605240326933,
     "user": {
      "displayName": "prathviraj shetty",
      "photoUrl": "https://lh3.googleusercontent.com/a-/AOh14GhKody4bMBhr3sFjBRSMtPKerrzBoUK7stNKBFvrA=s64",
      "userId": "03618971057838723327"
     },
     "user_tz": -330
    },
    "id": "aaPr7hekPeAP",
    "outputId": "386f1c2b-88fd-4ac1-89d9-9d9ff9e60702"
   },
   "outputs": [
    {
     "data": {
      "text/plain": [
       "array([[ 1.,  4.,  9.],\n",
       "       [16., 25., 36.]])"
      ]
     },
     "execution_count": 19,
     "metadata": {
      "tags": []
     },
     "output_type": "execute_result"
    }
   ],
   "source": [
    "In [51]: arr = np.array([[1., 2., 3.], [4., 5., 6.]])\n",
    "In [53]: arr * arr"
   ]
  },
  {
   "cell_type": "code",
   "execution_count": null,
   "metadata": {
    "colab": {
     "base_uri": "https://localhost:8080/"
    },
    "executionInfo": {
     "elapsed": 1358,
     "status": "ok",
     "timestamp": 1605240342181,
     "user": {
      "displayName": "prathviraj shetty",
      "photoUrl": "https://lh3.googleusercontent.com/a-/AOh14GhKody4bMBhr3sFjBRSMtPKerrzBoUK7stNKBFvrA=s64",
      "userId": "03618971057838723327"
     },
     "user_tz": -330
    },
    "id": "gHBh-UrXUCAj",
    "outputId": "aed5d444-c5c6-4b9e-ab50-2e5a3315412b"
   },
   "outputs": [
    {
     "data": {
      "text/plain": [
       "array([[0., 0., 0.],\n",
       "       [0., 0., 0.]])"
      ]
     },
     "execution_count": 20,
     "metadata": {
      "tags": []
     },
     "output_type": "execute_result"
    }
   ],
   "source": [
    "In [54]: arr - arr"
   ]
  },
  {
   "cell_type": "code",
   "execution_count": null,
   "metadata": {
    "colab": {
     "base_uri": "https://localhost:8080/"
    },
    "executionInfo": {
     "elapsed": 1471,
     "status": "ok",
     "timestamp": 1605240355417,
     "user": {
      "displayName": "prathviraj shetty",
      "photoUrl": "https://lh3.googleusercontent.com/a-/AOh14GhKody4bMBhr3sFjBRSMtPKerrzBoUK7stNKBFvrA=s64",
      "userId": "03618971057838723327"
     },
     "user_tz": -330
    },
    "id": "vUjFdZpvUF2c",
    "outputId": "dc0b8919-45e0-42ec-c590-1616b178629f"
   },
   "outputs": [
    {
     "data": {
      "text/plain": [
       "array([[1.        , 0.5       , 0.33333333],\n",
       "       [0.25      , 0.2       , 0.16666667]])"
      ]
     },
     "execution_count": 21,
     "metadata": {
      "tags": []
     },
     "output_type": "execute_result"
    }
   ],
   "source": [
    "1/arr\n"
   ]
  },
  {
   "cell_type": "code",
   "execution_count": null,
   "metadata": {
    "colab": {
     "base_uri": "https://localhost:8080/"
    },
    "executionInfo": {
     "elapsed": 1392,
     "status": "ok",
     "timestamp": 1605240365412,
     "user": {
      "displayName": "prathviraj shetty",
      "photoUrl": "https://lh3.googleusercontent.com/a-/AOh14GhKody4bMBhr3sFjBRSMtPKerrzBoUK7stNKBFvrA=s64",
      "userId": "03618971057838723327"
     },
     "user_tz": -330
    },
    "id": "oeyKATXgUR_B",
    "outputId": "ebb6224c-cc43-4cb0-9692-a6de783b6305"
   },
   "outputs": [
    {
     "data": {
      "text/plain": [
       "array([[0.5, 1. , 1.5],\n",
       "       [2. , 2.5, 3. ]])"
      ]
     },
     "execution_count": 22,
     "metadata": {
      "tags": []
     },
     "output_type": "execute_result"
    }
   ],
   "source": [
    "In [56]: arr * 0.5"
   ]
  },
  {
   "cell_type": "code",
   "execution_count": null,
   "metadata": {
    "colab": {
     "base_uri": "https://localhost:8080/"
    },
    "executionInfo": {
     "elapsed": 1432,
     "status": "ok",
     "timestamp": 1605240379368,
     "user": {
      "displayName": "prathviraj shetty",
      "photoUrl": "https://lh3.googleusercontent.com/a-/AOh14GhKody4bMBhr3sFjBRSMtPKerrzBoUK7stNKBFvrA=s64",
      "userId": "03618971057838723327"
     },
     "user_tz": -330
    },
    "id": "DDe7E8IgVnNW",
    "outputId": "773c6a76-021e-419c-980b-a7d43d5532eb"
   },
   "outputs": [
    {
     "data": {
      "text/plain": [
       "array([[False,  True, False],\n",
       "       [ True, False,  True]])"
      ]
     },
     "execution_count": 23,
     "metadata": {
      "tags": []
     },
     "output_type": "execute_result"
    }
   ],
   "source": [
    "In [57]: arr2 = np.array([[0., 4., 1.], [7., 2., 12.]])\n",
    "In [59]: arr2 > arr"
   ]
  },
  {
   "cell_type": "code",
   "execution_count": 29,
   "metadata": {
    "colab": {
     "base_uri": "https://localhost:8080/"
    },
    "executionInfo": {
     "elapsed": 2218,
     "status": "ok",
     "timestamp": 1605497122778,
     "user": {
      "displayName": "prathviraj shetty",
      "photoUrl": "https://lh3.googleusercontent.com/a-/AOh14GhKody4bMBhr3sFjBRSMtPKerrzBoUK7stNKBFvrA=s64",
      "userId": "03618971057838723327"
     },
     "user_tz": -330
    },
    "id": "8OpN5ospn-qf",
    "outputId": "da67c70b-5c1d-4f5a-9fa1-aabbb0aecbbb"
   },
   "outputs": [
    {
     "data": {
      "text/plain": [
       "array([ 1,  2,  3,  4,  5,  6,  7,  8,  9, 10, 11, 12, 13, 14, 15, 16, 17,\n",
       "       18, 19, 20, 21, 22, 23, 24, 25, 26, 27, 28, 29, 30, 31, 32, 33, 34,\n",
       "       35, 36, 37, 38, 39, 40, 41, 42, 43, 44, 45, 46, 47, 48, 49, 50, 51,\n",
       "       52, 53, 54, 55, 56, 57, 58, 59, 60, 61, 62, 63, 64, 65, 66, 67, 68,\n",
       "       69, 70, 71, 72, 73, 74, 75, 76, 77, 78, 79, 80, 81, 82, 83, 84, 85,\n",
       "       86, 87, 88, 89, 90, 91, 92, 93, 94, 95, 96, 97, 98, 99])"
      ]
     },
     "execution_count": 29,
     "metadata": {},
     "output_type": "execute_result"
    }
   ],
   "source": [
    "In [60]: arr = np.arange(1, 100)\n",
    "In [61]: arr"
   ]
  },
  {
   "cell_type": "code",
   "execution_count": 30,
   "metadata": {
    "colab": {
     "base_uri": "https://localhost:8080/"
    },
    "executionInfo": {
     "elapsed": 1390,
     "status": "ok",
     "timestamp": 1605240599019,
     "user": {
      "displayName": "prathviraj shetty",
      "photoUrl": "https://lh3.googleusercontent.com/a-/AOh14GhKody4bMBhr3sFjBRSMtPKerrzBoUK7stNKBFvrA=s64",
      "userId": "03618971057838723327"
     },
     "user_tz": -330
    },
    "id": "ae7hjxjGobwP",
    "outputId": "f353300e-655f-4989-bda9-aa26864877a9"
   },
   "outputs": [
    {
     "data": {
      "text/plain": [
       "86"
      ]
     },
     "execution_count": 30,
     "metadata": {},
     "output_type": "execute_result"
    }
   ],
   "source": [
    "arr[85]"
   ]
  },
  {
   "cell_type": "code",
   "execution_count": null,
   "metadata": {
    "colab": {
     "base_uri": "https://localhost:8080/"
    },
    "executionInfo": {
     "elapsed": 1389,
     "status": "ok",
     "timestamp": 1605240628733,
     "user": {
      "displayName": "prathviraj shetty",
      "photoUrl": "https://lh3.googleusercontent.com/a-/AOh14GhKody4bMBhr3sFjBRSMtPKerrzBoUK7stNKBFvrA=s64",
      "userId": "03618971057838723327"
     },
     "user_tz": -330
    },
    "id": "ZVJqLAcxogSV",
    "outputId": "58ba71f7-b446-4194-e18a-2a61ac34bbd9"
   },
   "outputs": [
    {
     "data": {
      "text/plain": [
       "array([5, 6, 7])"
      ]
     },
     "execution_count": 26,
     "metadata": {
      "tags": []
     },
     "output_type": "execute_result"
    }
   ],
   "source": [
    "In [63]: arr[5:8]"
   ]
  },
  {
   "cell_type": "code",
   "execution_count": null,
   "metadata": {
    "colab": {
     "base_uri": "https://localhost:8080/"
    },
    "executionInfo": {
     "elapsed": 1391,
     "status": "ok",
     "timestamp": 1605240663908,
     "user": {
      "displayName": "prathviraj shetty",
      "photoUrl": "https://lh3.googleusercontent.com/a-/AOh14GhKody4bMBhr3sFjBRSMtPKerrzBoUK7stNKBFvrA=s64",
      "userId": "03618971057838723327"
     },
     "user_tz": -330
    },
    "id": "z8aTEZZ0omES",
    "outputId": "9948016a-5b2d-4af7-cf88-7c1e230b0227"
   },
   "outputs": [
    {
     "data": {
      "text/plain": [
       "array([ 0,  1,  2,  3,  4, 12, 12, 12,  8,  9])"
      ]
     },
     "execution_count": 27,
     "metadata": {
      "tags": []
     },
     "output_type": "execute_result"
    }
   ],
   "source": [
    "In [64]: arr[5:8] = 12\n",
    "arr"
   ]
  },
  {
   "cell_type": "code",
   "execution_count": 32,
   "metadata": {
    "colab": {
     "base_uri": "https://localhost:8080/"
    },
    "executionInfo": {
     "elapsed": 1678,
     "status": "ok",
     "timestamp": 1605240742929,
     "user": {
      "displayName": "prathviraj shetty",
      "photoUrl": "https://lh3.googleusercontent.com/a-/AOh14GhKody4bMBhr3sFjBRSMtPKerrzBoUK7stNKBFvrA=s64",
      "userId": "03618971057838723327"
     },
     "user_tz": -330
    },
    "id": "h-Km_FJcozcm",
    "outputId": "6a6f8ad7-6dc0-4d03-a299-91e3c0c45af6"
   },
   "outputs": [
    {
     "data": {
      "text/plain": [
       "array([6, 7, 8])"
      ]
     },
     "execution_count": 32,
     "metadata": {},
     "output_type": "execute_result"
    }
   ],
   "source": [
    "In [66]: arr_slice = arr[5:8]\n",
    "In [67]: arr_slice\n"
   ]
  },
  {
   "cell_type": "code",
   "execution_count": 33,
   "metadata": {
    "colab": {
     "base_uri": "https://localhost:8080/"
    },
    "executionInfo": {
     "elapsed": 1553,
     "status": "ok",
     "timestamp": 1605240834625,
     "user": {
      "displayName": "prathviraj shetty",
      "photoUrl": "https://lh3.googleusercontent.com/a-/AOh14GhKody4bMBhr3sFjBRSMtPKerrzBoUK7stNKBFvrA=s64",
      "userId": "03618971057838723327"
     },
     "user_tz": -330
    },
    "id": "RmC3zRArpSB-",
    "outputId": "f0cac1b1-6284-474c-c826-9b1e1ff2c54d"
   },
   "outputs": [
    {
     "data": {
      "text/plain": [
       "array([    1,     2,     3,     4,     5, 12345,     7,     8,     9,\n",
       "          10,    11,    12,    13,    14,    15,    16,    17,    18,\n",
       "          19,    20,    21,    22,    23,    24,    25,    26,    27,\n",
       "          28,    29,    30,    31,    32,    33,    34,    35,    36,\n",
       "          37,    38,    39,    40,    41,    42,    43,    44,    45,\n",
       "          46,    47,    48,    49,    50,    51,    52,    53,    54,\n",
       "          55,    56,    57,    58,    59,    60,    61,    62,    63,\n",
       "          64,    65,    66,    67,    68,    69,    70,    71,    72,\n",
       "          73,    74,    75,    76,    77,    78,    79,    80,    81,\n",
       "          82,    83,    84,    85,    86,    87,    88,    89,    90,\n",
       "          91,    92,    93,    94,    95,    96,    97,    98,    99])"
      ]
     },
     "execution_count": 33,
     "metadata": {},
     "output_type": "execute_result"
    }
   ],
   "source": [
    "In [68]: arr_slice[0] = 12345\n",
    "In [69]: arr\n"
   ]
  },
  {
   "cell_type": "code",
   "execution_count": 34,
   "metadata": {
    "colab": {
     "base_uri": "https://localhost:8080/"
    },
    "executionInfo": {
     "elapsed": 1377,
     "status": "ok",
     "timestamp": 1605240890911,
     "user": {
      "displayName": "prathviraj shetty",
      "photoUrl": "https://lh3.googleusercontent.com/a-/AOh14GhKody4bMBhr3sFjBRSMtPKerrzBoUK7stNKBFvrA=s64",
      "userId": "03618971057838723327"
     },
     "user_tz": -330
    },
    "id": "Od4wePCqpWFR",
    "outputId": "c4190f2d-7d26-49f3-a739-0d56a101e10f"
   },
   "outputs": [
    {
     "data": {
      "text/plain": [
       "array([ 1,  2,  3,  4,  5, 64, 64, 64,  9, 10, 11, 12, 13, 14, 15, 16, 17,\n",
       "       18, 19, 20, 21, 22, 23, 24, 25, 26, 27, 28, 29, 30, 31, 32, 33, 34,\n",
       "       35, 36, 37, 38, 39, 40, 41, 42, 43, 44, 45, 46, 47, 48, 49, 50, 51,\n",
       "       52, 53, 54, 55, 56, 57, 58, 59, 60, 61, 62, 63, 64, 65, 66, 67, 68,\n",
       "       69, 70, 71, 72, 73, 74, 75, 76, 77, 78, 79, 80, 81, 82, 83, 84, 85,\n",
       "       86, 87, 88, 89, 90, 91, 92, 93, 94, 95, 96, 97, 98, 99])"
      ]
     },
     "execution_count": 34,
     "metadata": {},
     "output_type": "execute_result"
    }
   ],
   "source": [
    "In [70]: arr_slice[:] = 64\n",
    "In [71]: arr\n"
   ]
  },
  {
   "cell_type": "code",
   "execution_count": 53,
   "metadata": {
    "colab": {
     "base_uri": "https://localhost:8080/"
    },
    "executionInfo": {
     "elapsed": 1285,
     "status": "ok",
     "timestamp": 1605497429731,
     "user": {
      "displayName": "prathviraj shetty",
      "photoUrl": "https://lh3.googleusercontent.com/a-/AOh14GhKody4bMBhr3sFjBRSMtPKerrzBoUK7stNKBFvrA=s64",
      "userId": "03618971057838723327"
     },
     "user_tz": -330
    },
    "id": "ad5Mtvtqqqax",
    "outputId": "4ccd35c1-d447-4189-93c3-498223e6189d"
   },
   "outputs": [
    {
     "data": {
      "text/plain": [
       "array([7, 8, 9])"
      ]
     },
     "execution_count": 53,
     "metadata": {},
     "output_type": "execute_result"
    }
   ],
   "source": [
    "In [72]: arr2d = np.array([[1, 2, 3], [4, 5, 6], [7, 8, 9]])\n",
    "In [73]: arr2d[2]\n"
   ]
  },
  {
   "cell_type": "code",
   "execution_count": 36,
   "metadata": {
    "colab": {
     "base_uri": "https://localhost:8080/"
    },
    "executionInfo": {
     "elapsed": 1437,
     "status": "ok",
     "timestamp": 1605241153312,
     "user": {
      "displayName": "prathviraj shetty",
      "photoUrl": "https://lh3.googleusercontent.com/a-/AOh14GhKody4bMBhr3sFjBRSMtPKerrzBoUK7stNKBFvrA=s64",
      "userId": "03618971057838723327"
     },
     "user_tz": -330
    },
    "id": "3NHVJ8FDq5X3",
    "outputId": "20b928c9-8cb2-48a1-b0f6-8d046322d7ba"
   },
   "outputs": [
    {
     "data": {
      "text/plain": [
       "4"
      ]
     },
     "execution_count": 36,
     "metadata": {},
     "output_type": "execute_result"
    }
   ],
   "source": [
    "In [74]: arr2d[1][0]"
   ]
  },
  {
   "cell_type": "code",
   "execution_count": 37,
   "metadata": {
    "colab": {
     "base_uri": "https://localhost:8080/"
    },
    "executionInfo": {
     "elapsed": 1364,
     "status": "ok",
     "timestamp": 1605241181229,
     "user": {
      "displayName": "prathviraj shetty",
      "photoUrl": "https://lh3.googleusercontent.com/a-/AOh14GhKody4bMBhr3sFjBRSMtPKerrzBoUK7stNKBFvrA=s64",
      "userId": "03618971057838723327"
     },
     "user_tz": -330
    },
    "id": "V466xTEprP2m",
    "outputId": "b09dacfe-b6b9-4aa4-9e5f-d940bb9f0dff"
   },
   "outputs": [
    {
     "data": {
      "text/plain": [
       "9"
      ]
     },
     "execution_count": 37,
     "metadata": {},
     "output_type": "execute_result"
    }
   ],
   "source": [
    "In [75]: arr2d[2, 2]"
   ]
  },
  {
   "cell_type": "code",
   "execution_count": 38,
   "metadata": {
    "colab": {
     "base_uri": "https://localhost:8080/"
    },
    "executionInfo": {
     "elapsed": 1530,
     "status": "ok",
     "timestamp": 1605241198377,
     "user": {
      "displayName": "prathviraj shetty",
      "photoUrl": "https://lh3.googleusercontent.com/a-/AOh14GhKody4bMBhr3sFjBRSMtPKerrzBoUK7stNKBFvrA=s64",
      "userId": "03618971057838723327"
     },
     "user_tz": -330
    },
    "id": "6QSO3ryesBdL",
    "outputId": "179bc31b-bd0b-4d40-ef42-08e97ed00bc5"
   },
   "outputs": [
    {
     "data": {
      "text/plain": [
       "array([[[ 1,  2,  3],\n",
       "        [ 4,  5,  6]],\n",
       "\n",
       "       [[ 7,  8,  9],\n",
       "        [10, 11, 12]]])"
      ]
     },
     "execution_count": 38,
     "metadata": {},
     "output_type": "execute_result"
    }
   ],
   "source": [
    "In [76]: arr3d = np.array([[[1, 2, 3], [4, 5, 6]], [[7, 8, 9], [10, 11, 12]]])\n",
    "In [77]: arr3d\n"
   ]
  },
  {
   "cell_type": "code",
   "execution_count": 44,
   "metadata": {
    "colab": {
     "base_uri": "https://localhost:8080/"
    },
    "executionInfo": {
     "elapsed": 1371,
     "status": "ok",
     "timestamp": 1605241253916,
     "user": {
      "displayName": "prathviraj shetty",
      "photoUrl": "https://lh3.googleusercontent.com/a-/AOh14GhKody4bMBhr3sFjBRSMtPKerrzBoUK7stNKBFvrA=s64",
      "userId": "03618971057838723327"
     },
     "user_tz": -330
    },
    "id": "131q0B4PsSf-",
    "outputId": "9f35093e-5c53-4790-86bd-4eb69081e0d1"
   },
   "outputs": [
    {
     "data": {
      "text/plain": [
       "array([[ 7,  8,  9],\n",
       "       [10, 11, 12]])"
      ]
     },
     "execution_count": 44,
     "metadata": {},
     "output_type": "execute_result"
    }
   ],
   "source": [
    "In [78]: arr3d[1]"
   ]
  },
  {
   "cell_type": "code",
   "execution_count": 46,
   "metadata": {
    "colab": {
     "base_uri": "https://localhost:8080/"
    },
    "executionInfo": {
     "elapsed": 1339,
     "status": "ok",
     "timestamp": 1605241387065,
     "user": {
      "displayName": "prathviraj shetty",
      "photoUrl": "https://lh3.googleusercontent.com/a-/AOh14GhKody4bMBhr3sFjBRSMtPKerrzBoUK7stNKBFvrA=s64",
      "userId": "03618971057838723327"
     },
     "user_tz": -330
    },
    "id": "Yns15Mycse42",
    "outputId": "6ef7eff6-2f1f-48cb-c16e-0027d478e3d1"
   },
   "outputs": [
    {
     "data": {
      "text/plain": [
       "array([[[42, 42, 42],\n",
       "        [42, 42, 42]],\n",
       "\n",
       "       [[ 7,  8,  9],\n",
       "        [10, 11, 12]]])"
      ]
     },
     "execution_count": 46,
     "metadata": {},
     "output_type": "execute_result"
    }
   ],
   "source": [
    "In [79]: old_values = arr3d[0].copy()\n",
    "In [80]: arr3d[0] = 42\n",
    "In [81]: arr3d\n",
    "\n"
   ]
  },
  {
   "cell_type": "code",
   "execution_count": 47,
   "metadata": {
    "colab": {
     "base_uri": "https://localhost:8080/"
    },
    "executionInfo": {
     "elapsed": 1485,
     "status": "ok",
     "timestamp": 1605241525755,
     "user": {
      "displayName": "prathviraj shetty",
      "photoUrl": "https://lh3.googleusercontent.com/a-/AOh14GhKody4bMBhr3sFjBRSMtPKerrzBoUK7stNKBFvrA=s64",
      "userId": "03618971057838723327"
     },
     "user_tz": -330
    },
    "id": "uBol4k4xtIQo",
    "outputId": "46aff18b-6d63-4782-fd2b-e2ee102c7c45"
   },
   "outputs": [
    {
     "data": {
      "text/plain": [
       "12"
      ]
     },
     "execution_count": 47,
     "metadata": {},
     "output_type": "execute_result"
    }
   ],
   "source": [
    "In [84]: arr3d[1, 1,2]"
   ]
  },
  {
   "cell_type": "code",
   "execution_count": 48,
   "metadata": {
    "colab": {
     "base_uri": "https://localhost:8080/"
    },
    "executionInfo": {
     "elapsed": 2426,
     "status": "ok",
     "timestamp": 1605241615965,
     "user": {
      "displayName": "prathviraj shetty",
      "photoUrl": "https://lh3.googleusercontent.com/a-/AOh14GhKody4bMBhr3sFjBRSMtPKerrzBoUK7stNKBFvrA=s64",
      "userId": "03618971057838723327"
     },
     "user_tz": -330
    },
    "id": "FI9D7uoRuGq6",
    "outputId": "e24aad0c-b147-4211-ca9d-c7b27c87460d"
   },
   "outputs": [
    {
     "data": {
      "text/plain": [
       "array([42, 42, 42])"
      ]
     },
     "execution_count": 48,
     "metadata": {},
     "output_type": "execute_result"
    }
   ],
   "source": [
    "In [85]: x = arr3d[0]\n",
    "In [87]: x[1]"
   ]
  },
  {
   "cell_type": "code",
   "execution_count": 52,
   "metadata": {
    "colab": {
     "base_uri": "https://localhost:8080/"
    },
    "executionInfo": {
     "elapsed": 1271,
     "status": "ok",
     "timestamp": 1605497394394,
     "user": {
      "displayName": "prathviraj shetty",
      "photoUrl": "https://lh3.googleusercontent.com/a-/AOh14GhKody4bMBhr3sFjBRSMtPKerrzBoUK7stNKBFvrA=s64",
      "userId": "03618971057838723327"
     },
     "user_tz": -330
    },
    "id": "8OgKv0UE3dCb",
    "outputId": "5c31b0a7-2baf-49ae-bd09-5c43d34cedc0"
   },
   "outputs": [
    {
     "data": {
      "text/plain": [
       "array([ 2,  3,  4,  5, 64])"
      ]
     },
     "execution_count": 52,
     "metadata": {},
     "output_type": "execute_result"
    }
   ],
   "source": [
    "arr[1:6]"
   ]
  },
  {
   "cell_type": "code",
   "execution_count": 68,
   "metadata": {},
   "outputs": [
    {
     "data": {
      "text/plain": [
       "array([[20, 21, 22, 23, 24],\n",
       "       [25, 26, 27, 28, 29],\n",
       "       [30, 31, 32, 33, 34],\n",
       "       [35, 36, 37, 38, 39],\n",
       "       [40, 41, 42, 43, 44],\n",
       "       [45, 46, 47, 48, 49]])"
      ]
     },
     "execution_count": 68,
     "metadata": {},
     "output_type": "execute_result"
    }
   ],
   "source": [
    "arr2d = np.arange(20, 50).reshape(6,5)\n",
    "arr2d"
   ]
  },
  {
   "cell_type": "code",
   "execution_count": 72,
   "metadata": {
    "colab": {
     "base_uri": "https://localhost:8080/"
    },
    "executionInfo": {
     "elapsed": 1324,
     "status": "ok",
     "timestamp": 1605497857731,
     "user": {
      "displayName": "prathviraj shetty",
      "photoUrl": "https://lh3.googleusercontent.com/a-/AOh14GhKody4bMBhr3sFjBRSMtPKerrzBoUK7stNKBFvrA=s64",
      "userId": "03618971057838723327"
     },
     "user_tz": -330
    },
    "id": "saS9bc7c32Jq",
    "outputId": "30fa84d2-0fcc-40a7-eb3e-9c3ba42912c3"
   },
   "outputs": [
    {
     "data": {
      "text/plain": [
       "array([[20, 21, 22, 23, 24],\n",
       "       [25, 26, 27, 28, 29]])"
      ]
     },
     "execution_count": 72,
     "metadata": {},
     "output_type": "execute_result"
    }
   ],
   "source": [
    "In [91]: arr2d[:2]"
   ]
  },
  {
   "cell_type": "code",
   "execution_count": 73,
   "metadata": {
    "colab": {
     "base_uri": "https://localhost:8080/"
    },
    "executionInfo": {
     "elapsed": 1528,
     "status": "ok",
     "timestamp": 1605498053632,
     "user": {
      "displayName": "prathviraj shetty",
      "photoUrl": "https://lh3.googleusercontent.com/a-/AOh14GhKody4bMBhr3sFjBRSMtPKerrzBoUK7stNKBFvrA=s64",
      "userId": "03618971057838723327"
     },
     "user_tz": -330
    },
    "id": "dslHIvIR4jB7",
    "outputId": "5e37fc19-b59d-4c23-80df-53a15fa14e97"
   },
   "outputs": [
    {
     "data": {
      "text/plain": [
       "array([[22, 23, 24],\n",
       "       [27, 28, 29]])"
      ]
     },
     "execution_count": 73,
     "metadata": {},
     "output_type": "execute_result"
    }
   ],
   "source": [
    "In [92]: arr2d[:2, 2:]"
   ]
  },
  {
   "cell_type": "code",
   "execution_count": 74,
   "metadata": {
    "colab": {
     "base_uri": "https://localhost:8080/"
    },
    "executionInfo": {
     "elapsed": 1283,
     "status": "ok",
     "timestamp": 1605498185416,
     "user": {
      "displayName": "prathviraj shetty",
      "photoUrl": "https://lh3.googleusercontent.com/a-/AOh14GhKody4bMBhr3sFjBRSMtPKerrzBoUK7stNKBFvrA=s64",
      "userId": "03618971057838723327"
     },
     "user_tz": -330
    },
    "id": "xQ71IrDh43_J",
    "outputId": "b23d9d92-7861-4fba-fe37-0b71119776c4"
   },
   "outputs": [
    {
     "data": {
      "text/plain": [
       "array([30, 31])"
      ]
     },
     "execution_count": 74,
     "metadata": {},
     "output_type": "execute_result"
    }
   ],
   "source": [
    "In [93]: arr2d[2, :2]"
   ]
  },
  {
   "cell_type": "code",
   "execution_count": 75,
   "metadata": {
    "colab": {
     "base_uri": "https://localhost:8080/"
    },
    "executionInfo": {
     "elapsed": 1205,
     "status": "ok",
     "timestamp": 1605498287090,
     "user": {
      "displayName": "prathviraj shetty",
      "photoUrl": "https://lh3.googleusercontent.com/a-/AOh14GhKody4bMBhr3sFjBRSMtPKerrzBoUK7stNKBFvrA=s64",
      "userId": "03618971057838723327"
     },
     "user_tz": -330
    },
    "id": "on-MKcsy5Fns",
    "outputId": "b988010e-d8d0-4c60-9d8f-2b5910b27a94"
   },
   "outputs": [
    {
     "data": {
      "text/plain": [
       "array([21, 26])"
      ]
     },
     "execution_count": 75,
     "metadata": {},
     "output_type": "execute_result"
    }
   ],
   "source": [
    "In [94]: arr2d[:2, 1]"
   ]
  },
  {
   "cell_type": "code",
   "execution_count": 76,
   "metadata": {
    "colab": {
     "base_uri": "https://localhost:8080/"
    },
    "executionInfo": {
     "elapsed": 1391,
     "status": "ok",
     "timestamp": 1605498516588,
     "user": {
      "displayName": "prathviraj shetty",
      "photoUrl": "https://lh3.googleusercontent.com/a-/AOh14GhKody4bMBhr3sFjBRSMtPKerrzBoUK7stNKBFvrA=s64",
      "userId": "03618971057838723327"
     },
     "user_tz": -330
    },
    "id": "MbJdVwXu5WAV",
    "outputId": "e2dfe359-7960-4a9a-f379-b09bb0bddb45"
   },
   "outputs": [
    {
     "data": {
      "text/plain": [
       "array([[20, 21],\n",
       "       [25, 26],\n",
       "       [30, 31],\n",
       "       [35, 36],\n",
       "       [40, 41],\n",
       "       [45, 46]])"
      ]
     },
     "execution_count": 76,
     "metadata": {},
     "output_type": "execute_result"
    }
   ],
   "source": [
    "In [95]: arr2d[:, :2]"
   ]
  },
  {
   "cell_type": "code",
   "execution_count": 77,
   "metadata": {
    "colab": {
     "base_uri": "https://localhost:8080/"
    },
    "executionInfo": {
     "elapsed": 1259,
     "status": "ok",
     "timestamp": 1605499266760,
     "user": {
      "displayName": "prathviraj shetty",
      "photoUrl": "https://lh3.googleusercontent.com/a-/AOh14GhKody4bMBhr3sFjBRSMtPKerrzBoUK7stNKBFvrA=s64",
      "userId": "03618971057838723327"
     },
     "user_tz": -330
    },
    "id": "XKqKAEHM5paX",
    "outputId": "fdf500f8-5128-4f76-881f-cc9c707a10f8"
   },
   "outputs": [
    {
     "data": {
      "text/plain": [
       "array([[1, 2, 3],\n",
       "       [4, 0, 0],\n",
       "       [7, 0, 0]])"
      ]
     },
     "execution_count": 77,
     "metadata": {},
     "output_type": "execute_result"
    }
   ],
   "source": [
    "In [96]: arr2d = np.array([[1, 2, 3], [4, 5, 6], [7, 8, 9]])\n",
    "arr2d[1:, 1:] = 0\n",
    "In [97]: arr2d\n"
   ]
  },
  {
   "cell_type": "markdown",
   "metadata": {
    "id": "n-WL2BFmIQ8e"
   },
   "source": [
    "**Boolean Indexing**"
   ]
  },
  {
   "cell_type": "code",
   "execution_count": 79,
   "metadata": {
    "colab": {
     "base_uri": "https://localhost:8080/"
    },
    "executionInfo": {
     "elapsed": 1239,
     "status": "ok",
     "timestamp": 1605499581673,
     "user": {
      "displayName": "prathviraj shetty",
      "photoUrl": "https://lh3.googleusercontent.com/a-/AOh14GhKody4bMBhr3sFjBRSMtPKerrzBoUK7stNKBFvrA=s64",
      "userId": "03618971057838723327"
     },
     "user_tz": -330
    },
    "id": "F11kZBfz_ecu",
    "outputId": "a364402f-e49b-482a-9c88-5003b0cbfbfd"
   },
   "outputs": [
    {
     "data": {
      "text/plain": [
       "array(['Bob', 'Joe', 'Will', 'Bob', 'Will', 'Joe', 'Joe'], dtype='<U4')"
      ]
     },
     "execution_count": 79,
     "metadata": {},
     "output_type": "execute_result"
    }
   ],
   "source": [
    "In [98]: names = np.array(['Bob', 'Joe', 'Will', 'Bob', 'Will', 'Joe', 'Joe'])\n",
    "In [99]: data = np.random.randn(7, 4)\n",
    "In [100]: names"
   ]
  },
  {
   "cell_type": "code",
   "execution_count": 80,
   "metadata": {
    "colab": {
     "base_uri": "https://localhost:8080/"
    },
    "executionInfo": {
     "elapsed": 1268,
     "status": "ok",
     "timestamp": 1605499597368,
     "user": {
      "displayName": "prathviraj shetty",
      "photoUrl": "https://lh3.googleusercontent.com/a-/AOh14GhKody4bMBhr3sFjBRSMtPKerrzBoUK7stNKBFvrA=s64",
      "userId": "03618971057838723327"
     },
     "user_tz": -330
    },
    "id": "ZTmdhlqJBWJy",
    "outputId": "bc90d581-6483-45f4-9138-1dc9d86412b3"
   },
   "outputs": [
    {
     "data": {
      "text/plain": [
       "array([[-0.35571181,  0.62661042,  1.05731486, -1.14065312],\n",
       "       [-1.290777  , -1.08854899,  0.62455643,  1.5678472 ],\n",
       "       [ 0.14792527,  0.77780439,  1.25748948, -0.36561329],\n",
       "       [-1.05831869,  0.52104071,  0.3251522 ,  0.22090355],\n",
       "       [ 0.9180302 ,  0.16562565, -0.18188444, -1.4506525 ],\n",
       "       [ 0.50787041,  0.81507627,  1.16312066,  0.23999903],\n",
       "       [-1.62159081, -1.15493764, -0.61458209, -1.42759045]])"
      ]
     },
     "execution_count": 80,
     "metadata": {},
     "output_type": "execute_result"
    }
   ],
   "source": [
    "data"
   ]
  },
  {
   "cell_type": "code",
   "execution_count": 81,
   "metadata": {
    "colab": {
     "base_uri": "https://localhost:8080/"
    },
    "executionInfo": {
     "elapsed": 1319,
     "status": "ok",
     "timestamp": 1605499634400,
     "user": {
      "displayName": "prathviraj shetty",
      "photoUrl": "https://lh3.googleusercontent.com/a-/AOh14GhKody4bMBhr3sFjBRSMtPKerrzBoUK7stNKBFvrA=s64",
      "userId": "03618971057838723327"
     },
     "user_tz": -330
    },
    "id": "gEjiUuKxBaw3",
    "outputId": "a222cc60-974d-4116-af54-8c7395195c87"
   },
   "outputs": [
    {
     "data": {
      "text/plain": [
       "array([ True, False, False,  True, False, False, False])"
      ]
     },
     "execution_count": 81,
     "metadata": {},
     "output_type": "execute_result"
    }
   ],
   "source": [
    "In [102]: names == 'Bob'"
   ]
  },
  {
   "cell_type": "code",
   "execution_count": 87,
   "metadata": {
    "colab": {
     "base_uri": "https://localhost:8080/"
    },
    "executionInfo": {
     "elapsed": 3374,
     "status": "ok",
     "timestamp": 1605499935696,
     "user": {
      "displayName": "prathviraj shetty",
      "photoUrl": "https://lh3.googleusercontent.com/a-/AOh14GhKody4bMBhr3sFjBRSMtPKerrzBoUK7stNKBFvrA=s64",
      "userId": "03618971057838723327"
     },
     "user_tz": -330
    },
    "id": "CFvw5i-EBpto",
    "outputId": "6ee4ee8e-6abd-4334-8aee-d0cfe985bb07"
   },
   "outputs": [
    {
     "data": {
      "text/plain": [
       "array([[-0.35571181,  0.62661042,  1.05731486, -1.14065312],\n",
       "       [-1.05831869,  0.52104071,  0.3251522 ,  0.22090355]])"
      ]
     },
     "execution_count": 87,
     "metadata": {},
     "output_type": "execute_result"
    }
   ],
   "source": [
    "In [103]: data[names == 'Bob']"
   ]
  },
  {
   "cell_type": "code",
   "execution_count": 88,
   "metadata": {
    "colab": {
     "base_uri": "https://localhost:8080/"
    },
    "executionInfo": {
     "elapsed": 2257,
     "status": "ok",
     "timestamp": 1605500029160,
     "user": {
      "displayName": "prathviraj shetty",
      "photoUrl": "https://lh3.googleusercontent.com/a-/AOh14GhKody4bMBhr3sFjBRSMtPKerrzBoUK7stNKBFvrA=s64",
      "userId": "03618971057838723327"
     },
     "user_tz": -330
    },
    "id": "HOEVBF_xCPg8",
    "outputId": "86cd04b8-eef9-40ce-a946-ba545c2c62a0"
   },
   "outputs": [
    {
     "data": {
      "text/plain": [
       "array([[ 1.05731486, -1.14065312],\n",
       "       [ 0.3251522 ,  0.22090355]])"
      ]
     },
     "execution_count": 88,
     "metadata": {},
     "output_type": "execute_result"
    }
   ],
   "source": [
    "In [104]: data[names == 'Bob', 2:]"
   ]
  },
  {
   "cell_type": "code",
   "execution_count": 89,
   "metadata": {
    "colab": {
     "base_uri": "https://localhost:8080/"
    },
    "executionInfo": {
     "elapsed": 1318,
     "status": "ok",
     "timestamp": 1605500375995,
     "user": {
      "displayName": "prathviraj shetty",
      "photoUrl": "https://lh3.googleusercontent.com/a-/AOh14GhKody4bMBhr3sFjBRSMtPKerrzBoUK7stNKBFvrA=s64",
      "userId": "03618971057838723327"
     },
     "user_tz": -330
    },
    "id": "hfW0yXWBCSqZ",
    "outputId": "900cbf5b-0b12-4dec-ea7e-a37aee881bd4"
   },
   "outputs": [
    {
     "data": {
      "text/plain": [
       "array([-1.14065312,  0.22090355])"
      ]
     },
     "execution_count": 89,
     "metadata": {},
     "output_type": "execute_result"
    }
   ],
   "source": [
    "In [105]: data[names == 'Bob', 3]"
   ]
  },
  {
   "cell_type": "code",
   "execution_count": 90,
   "metadata": {
    "colab": {
     "base_uri": "https://localhost:8080/"
    },
    "executionInfo": {
     "elapsed": 1269,
     "status": "ok",
     "timestamp": 1605500397987,
     "user": {
      "displayName": "prathviraj shetty",
      "photoUrl": "https://lh3.googleusercontent.com/a-/AOh14GhKody4bMBhr3sFjBRSMtPKerrzBoUK7stNKBFvrA=s64",
      "userId": "03618971057838723327"
     },
     "user_tz": -330
    },
    "id": "iRa6rA88Cfuw",
    "outputId": "6177803d-7c4a-47f7-b499-3d47332027a3"
   },
   "outputs": [
    {
     "data": {
      "text/plain": [
       "array([False,  True,  True, False,  True,  True,  True])"
      ]
     },
     "execution_count": 90,
     "metadata": {},
     "output_type": "execute_result"
    }
   ],
   "source": [
    "In [106]: names != 'Bob'"
   ]
  },
  {
   "cell_type": "code",
   "execution_count": 91,
   "metadata": {
    "colab": {
     "base_uri": "https://localhost:8080/"
    },
    "executionInfo": {
     "elapsed": 1333,
     "status": "ok",
     "timestamp": 1605500422787,
     "user": {
      "displayName": "prathviraj shetty",
      "photoUrl": "https://lh3.googleusercontent.com/a-/AOh14GhKody4bMBhr3sFjBRSMtPKerrzBoUK7stNKBFvrA=s64",
      "userId": "03618971057838723327"
     },
     "user_tz": -330
    },
    "id": "4kS2fSwsClgp",
    "outputId": "199b3e76-bb27-4320-efd2-e9820f418bed"
   },
   "outputs": [
    {
     "data": {
      "text/plain": [
       "array([[-1.290777  , -1.08854899,  0.62455643,  1.5678472 ],\n",
       "       [ 0.14792527,  0.77780439,  1.25748948, -0.36561329],\n",
       "       [ 0.9180302 ,  0.16562565, -0.18188444, -1.4506525 ],\n",
       "       [ 0.50787041,  0.81507627,  1.16312066,  0.23999903],\n",
       "       [-1.62159081, -1.15493764, -0.61458209, -1.42759045]])"
      ]
     },
     "execution_count": 91,
     "metadata": {},
     "output_type": "execute_result"
    }
   ],
   "source": [
    "In [107]: data[~(names == 'Bob')]"
   ]
  },
  {
   "cell_type": "code",
   "execution_count": 92,
   "metadata": {
    "colab": {
     "base_uri": "https://localhost:8080/"
    },
    "executionInfo": {
     "elapsed": 1358,
     "status": "ok",
     "timestamp": 1605500471234,
     "user": {
      "displayName": "prathviraj shetty",
      "photoUrl": "https://lh3.googleusercontent.com/a-/AOh14GhKody4bMBhr3sFjBRSMtPKerrzBoUK7stNKBFvrA=s64",
      "userId": "03618971057838723327"
     },
     "user_tz": -330
    },
    "id": "2egHCjIDCx8B",
    "outputId": "b7477d83-3e3f-44b5-8471-9ddc191da05e"
   },
   "outputs": [
    {
     "data": {
      "text/plain": [
       "array([[-1.290777  , -1.08854899,  0.62455643,  1.5678472 ],\n",
       "       [ 0.14792527,  0.77780439,  1.25748948, -0.36561329],\n",
       "       [ 0.9180302 ,  0.16562565, -0.18188444, -1.4506525 ],\n",
       "       [ 0.50787041,  0.81507627,  1.16312066,  0.23999903],\n",
       "       [-1.62159081, -1.15493764, -0.61458209, -1.42759045]])"
      ]
     },
     "execution_count": 92,
     "metadata": {},
     "output_type": "execute_result"
    }
   ],
   "source": [
    "In [108]: cond = names == 'Bob'\n",
    "In [109]: data[~cond]"
   ]
  },
  {
   "cell_type": "code",
   "execution_count": 93,
   "metadata": {
    "colab": {
     "base_uri": "https://localhost:8080/"
    },
    "executionInfo": {
     "elapsed": 1250,
     "status": "ok",
     "timestamp": 1605500512398,
     "user": {
      "displayName": "prathviraj shetty",
      "photoUrl": "https://lh3.googleusercontent.com/a-/AOh14GhKody4bMBhr3sFjBRSMtPKerrzBoUK7stNKBFvrA=s64",
      "userId": "03618971057838723327"
     },
     "user_tz": -330
    },
    "id": "zGSdBofpC-PF",
    "outputId": "a1ee3546-b7c4-4c22-ec22-005670581987"
   },
   "outputs": [
    {
     "data": {
      "text/plain": [
       "array([ True, False,  True,  True,  True, False, False])"
      ]
     },
     "execution_count": 93,
     "metadata": {},
     "output_type": "execute_result"
    }
   ],
   "source": [
    "In [110]: mask = (names == 'Bob') | (names == 'Will')\n",
    "In [111]: mask"
   ]
  },
  {
   "cell_type": "code",
   "execution_count": 94,
   "metadata": {
    "colab": {
     "base_uri": "https://localhost:8080/"
    },
    "executionInfo": {
     "elapsed": 1278,
     "status": "ok",
     "timestamp": 1605500558238,
     "user": {
      "displayName": "prathviraj shetty",
      "photoUrl": "https://lh3.googleusercontent.com/a-/AOh14GhKody4bMBhr3sFjBRSMtPKerrzBoUK7stNKBFvrA=s64",
      "userId": "03618971057838723327"
     },
     "user_tz": -330
    },
    "id": "FyAFZut0D6ex",
    "outputId": "e6b19d20-d295-47ee-bea8-ece82587a6ee"
   },
   "outputs": [
    {
     "data": {
      "text/plain": [
       "array([[-0.35571181,  0.62661042,  1.05731486, -1.14065312],\n",
       "       [ 0.14792527,  0.77780439,  1.25748948, -0.36561329],\n",
       "       [-1.05831869,  0.52104071,  0.3251522 ,  0.22090355],\n",
       "       [ 0.9180302 ,  0.16562565, -0.18188444, -1.4506525 ]])"
      ]
     },
     "execution_count": 94,
     "metadata": {},
     "output_type": "execute_result"
    }
   ],
   "source": [
    "In [112]: data[mask]"
   ]
  },
  {
   "cell_type": "code",
   "execution_count": 95,
   "metadata": {
    "colab": {
     "base_uri": "https://localhost:8080/"
    },
    "executionInfo": {
     "elapsed": 1354,
     "status": "ok",
     "timestamp": 1605500718353,
     "user": {
      "displayName": "prathviraj shetty",
      "photoUrl": "https://lh3.googleusercontent.com/a-/AOh14GhKody4bMBhr3sFjBRSMtPKerrzBoUK7stNKBFvrA=s64",
      "userId": "03618971057838723327"
     },
     "user_tz": -330
    },
    "id": "BA7PCoeCEAA-",
    "outputId": "093abc22-2031-4a22-b756-83f7c8505d31"
   },
   "outputs": [
    {
     "data": {
      "text/plain": [
       "array([[0.        , 0.62661042, 1.05731486, 0.        ],\n",
       "       [0.        , 0.        , 0.62455643, 1.5678472 ],\n",
       "       [0.14792527, 0.77780439, 1.25748948, 0.        ],\n",
       "       [0.        , 0.52104071, 0.3251522 , 0.22090355],\n",
       "       [0.9180302 , 0.16562565, 0.        , 0.        ],\n",
       "       [0.50787041, 0.81507627, 1.16312066, 0.23999903],\n",
       "       [0.        , 0.        , 0.        , 0.        ]])"
      ]
     },
     "execution_count": 95,
     "metadata": {},
     "output_type": "execute_result"
    }
   ],
   "source": [
    "In [113]: data[data < 0] = 0\n",
    "In [114]: data"
   ]
  },
  {
   "cell_type": "code",
   "execution_count": 96,
   "metadata": {
    "colab": {
     "base_uri": "https://localhost:8080/"
    },
    "executionInfo": {
     "elapsed": 1360,
     "status": "ok",
     "timestamp": 1605500879762,
     "user": {
      "displayName": "prathviraj shetty",
      "photoUrl": "https://lh3.googleusercontent.com/a-/AOh14GhKody4bMBhr3sFjBRSMtPKerrzBoUK7stNKBFvrA=s64",
      "userId": "03618971057838723327"
     },
     "user_tz": -330
    },
    "id": "fhINx5ciE7Hc",
    "outputId": "0a4406dd-4eeb-4979-f286-42dc9e6c8c3d"
   },
   "outputs": [
    {
     "data": {
      "text/plain": [
       "array([[7.        , 7.        , 7.        , 7.        ],\n",
       "       [0.        , 0.        , 0.62455643, 1.5678472 ],\n",
       "       [7.        , 7.        , 7.        , 7.        ],\n",
       "       [7.        , 7.        , 7.        , 7.        ],\n",
       "       [7.        , 7.        , 7.        , 7.        ],\n",
       "       [0.50787041, 0.81507627, 1.16312066, 0.23999903],\n",
       "       [0.        , 0.        , 0.        , 0.        ]])"
      ]
     },
     "execution_count": 96,
     "metadata": {},
     "output_type": "execute_result"
    }
   ],
   "source": [
    "In [115]: data[names != 'Joe'] = 7\n",
    "In [116]: data"
   ]
  },
  {
   "cell_type": "markdown",
   "metadata": {
    "id": "obKUpuT9IBJg"
   },
   "source": [
    "**Fancy Indexing**"
   ]
  },
  {
   "cell_type": "code",
   "execution_count": 108,
   "metadata": {
    "colab": {
     "base_uri": "https://localhost:8080/"
    },
    "executionInfo": {
     "elapsed": 1106,
     "status": "ok",
     "timestamp": 1606102641570,
     "user": {
      "displayName": "prathviraj shetty",
      "photoUrl": "https://lh3.googleusercontent.com/a-/AOh14GhKody4bMBhr3sFjBRSMtPKerrzBoUK7stNKBFvrA=s64",
      "userId": "03618971057838723327"
     },
     "user_tz": -330
    },
    "id": "WpDrbaXPIJlf",
    "outputId": "c1a74b55-9c72-4a20-c717-ca1b2616b45f"
   },
   "outputs": [
    {
     "data": {
      "text/plain": [
       "array([[0., 0., 0., 0.],\n",
       "       [1., 1., 1., 1.],\n",
       "       [2., 2., 2., 2.],\n",
       "       [3., 3., 3., 3.],\n",
       "       [4., 4., 4., 4.],\n",
       "       [5., 5., 5., 5.],\n",
       "       [6., 6., 6., 6.],\n",
       "       [7., 7., 7., 7.]])"
      ]
     },
     "execution_count": 108,
     "metadata": {},
     "output_type": "execute_result"
    }
   ],
   "source": [
    "In [117]: arr = np.empty((8, 4))\n",
    "In [118]: for i in range(8):\n",
    "          arr[i] = i\n",
    "In [119]: arr"
   ]
  },
  {
   "cell_type": "code",
   "execution_count": null,
   "metadata": {
    "colab": {
     "base_uri": "https://localhost:8080/"
    },
    "executionInfo": {
     "elapsed": 1158,
     "status": "ok",
     "timestamp": 1606102743180,
     "user": {
      "displayName": "prathviraj shetty",
      "photoUrl": "https://lh3.googleusercontent.com/a-/AOh14GhKody4bMBhr3sFjBRSMtPKerrzBoUK7stNKBFvrA=s64",
      "userId": "03618971057838723327"
     },
     "user_tz": -330
    },
    "id": "4xhwK82nMENX",
    "outputId": "ed07b0e9-8298-458c-cc23-763e7e3af115"
   },
   "outputs": [
    {
     "data": {
      "text/plain": [
       "array([[4., 4., 4., 4.],\n",
       "       [3., 3., 3., 3.],\n",
       "       [0., 0., 0., 0.],\n",
       "       [6., 6., 6., 6.]])"
      ]
     },
     "execution_count": 5,
     "metadata": {
      "tags": []
     },
     "output_type": "execute_result"
    }
   ],
   "source": [
    "In [120]: arr[[4, 3, 0, 6]]"
   ]
  },
  {
   "cell_type": "code",
   "execution_count": null,
   "metadata": {
    "colab": {
     "base_uri": "https://localhost:8080/"
    },
    "executionInfo": {
     "elapsed": 1414,
     "status": "ok",
     "timestamp": 1606102808235,
     "user": {
      "displayName": "prathviraj shetty",
      "photoUrl": "https://lh3.googleusercontent.com/a-/AOh14GhKody4bMBhr3sFjBRSMtPKerrzBoUK7stNKBFvrA=s64",
      "userId": "03618971057838723327"
     },
     "user_tz": -330
    },
    "id": "418fNX8-OH08",
    "outputId": "08ebf55e-feaa-4970-d3a7-ab79b4dd3510"
   },
   "outputs": [
    {
     "data": {
      "text/plain": [
       "array([[4., 4., 4., 4.],\n",
       "       [2., 2., 2., 2.],\n",
       "       [1., 1., 1., 1.],\n",
       "       [5., 5., 5., 5.]])"
      ]
     },
     "execution_count": 7,
     "metadata": {
      "tags": []
     },
     "output_type": "execute_result"
    }
   ],
   "source": [
    "In [120]: arr[[4, 2, 1, 5]]"
   ]
  },
  {
   "cell_type": "code",
   "execution_count": null,
   "metadata": {
    "colab": {
     "base_uri": "https://localhost:8080/"
    },
    "executionInfo": {
     "elapsed": 1105,
     "status": "ok",
     "timestamp": 1606102876542,
     "user": {
      "displayName": "prathviraj shetty",
      "photoUrl": "https://lh3.googleusercontent.com/a-/AOh14GhKody4bMBhr3sFjBRSMtPKerrzBoUK7stNKBFvrA=s64",
      "userId": "03618971057838723327"
     },
     "user_tz": -330
    },
    "id": "ZXNtkeIZOLA1",
    "outputId": "7e958d5a-7ce9-45b3-a973-586b47af0273"
   },
   "outputs": [
    {
     "data": {
      "text/plain": [
       "array([[5., 5., 5., 5.],\n",
       "       [3., 3., 3., 3.],\n",
       "       [1., 1., 1., 1.]])"
      ]
     },
     "execution_count": 8,
     "metadata": {
      "tags": []
     },
     "output_type": "execute_result"
    }
   ],
   "source": [
    "In [121]: arr[[-3, -5, -7]]"
   ]
  },
  {
   "cell_type": "code",
   "execution_count": 109,
   "metadata": {
    "colab": {
     "base_uri": "https://localhost:8080/"
    },
    "executionInfo": {
     "elapsed": 1135,
     "status": "ok",
     "timestamp": 1606103108997,
     "user": {
      "displayName": "prathviraj shetty",
      "photoUrl": "https://lh3.googleusercontent.com/a-/AOh14GhKody4bMBhr3sFjBRSMtPKerrzBoUK7stNKBFvrA=s64",
      "userId": "03618971057838723327"
     },
     "user_tz": -330
    },
    "id": "c0QN8ZI3OYGl",
    "outputId": "784b5c63-0e52-45d6-ca7e-1127358c33af"
   },
   "outputs": [
    {
     "data": {
      "text/plain": [
       "array([[ 0,  1,  2,  3],\n",
       "       [ 4,  5,  6,  7],\n",
       "       [ 8,  9, 10, 11],\n",
       "       [12, 13, 14, 15],\n",
       "       [16, 17, 18, 19],\n",
       "       [20, 21, 22, 23],\n",
       "       [24, 25, 26, 27],\n",
       "       [28, 29, 30, 31]])"
      ]
     },
     "execution_count": 109,
     "metadata": {},
     "output_type": "execute_result"
    }
   ],
   "source": [
    "In [122]: arr = np.arange(32).reshape((8, 4))\n",
    "In [123]: arr"
   ]
  },
  {
   "cell_type": "code",
   "execution_count": 110,
   "metadata": {
    "colab": {
     "base_uri": "https://localhost:8080/"
    },
    "executionInfo": {
     "elapsed": 1155,
     "status": "ok",
     "timestamp": 1606103198169,
     "user": {
      "displayName": "prathviraj shetty",
      "photoUrl": "https://lh3.googleusercontent.com/a-/AOh14GhKody4bMBhr3sFjBRSMtPKerrzBoUK7stNKBFvrA=s64",
      "userId": "03618971057838723327"
     },
     "user_tz": -330
    },
    "id": "R22usNYHPXWh",
    "outputId": "beff39fd-2895-44c4-dcc9-96479ef6f3bb"
   },
   "outputs": [
    {
     "data": {
      "text/plain": [
       "array([ 4, 23, 29, 10])"
      ]
     },
     "execution_count": 110,
     "metadata": {},
     "output_type": "execute_result"
    }
   ],
   "source": [
    "In [124]: arr[[1, 5, 7, 2], [0, 3, 1, 2]]"
   ]
  },
  {
   "cell_type": "code",
   "execution_count": 111,
   "metadata": {
    "colab": {
     "base_uri": "https://localhost:8080/"
    },
    "executionInfo": {
     "elapsed": 1148,
     "status": "ok",
     "timestamp": 1606104007942,
     "user": {
      "displayName": "prathviraj shetty",
      "photoUrl": "https://lh3.googleusercontent.com/a-/AOh14GhKody4bMBhr3sFjBRSMtPKerrzBoUK7stNKBFvrA=s64",
      "userId": "03618971057838723327"
     },
     "user_tz": -330
    },
    "id": "0X8EY0SmEiyf",
    "outputId": "827dd5f8-0d62-433f-9edb-d62b18d1d277"
   },
   "outputs": [
    {
     "data": {
      "text/plain": [
       "array([[12, 15, 13, 14],\n",
       "       [16, 19, 17, 18],\n",
       "       [20, 23, 21, 22],\n",
       "       [24, 27, 25, 26],\n",
       "       [28, 31, 29, 30]])"
      ]
     },
     "execution_count": 111,
     "metadata": {},
     "output_type": "execute_result"
    }
   ],
   "source": [
    "arr[3:, [0,3,1,2]]"
   ]
  },
  {
   "cell_type": "code",
   "execution_count": 112,
   "metadata": {
    "colab": {
     "base_uri": "https://localhost:8080/"
    },
    "executionInfo": {
     "elapsed": 1143,
     "status": "ok",
     "timestamp": 1606103841855,
     "user": {
      "displayName": "prathviraj shetty",
      "photoUrl": "https://lh3.googleusercontent.com/a-/AOh14GhKody4bMBhr3sFjBRSMtPKerrzBoUK7stNKBFvrA=s64",
      "userId": "03618971057838723327"
     },
     "user_tz": -330
    },
    "id": "v3JCHQV5P6A3",
    "outputId": "059c2131-852b-4f95-d5c2-ffebf942c901"
   },
   "outputs": [
    {
     "data": {
      "text/plain": [
       "array([[ 4,  7,  5,  6],\n",
       "       [20, 23, 21, 22],\n",
       "       [28, 31, 29, 30],\n",
       "       [ 8, 11,  9, 10]])"
      ]
     },
     "execution_count": 112,
     "metadata": {},
     "output_type": "execute_result"
    }
   ],
   "source": [
    "In [125]: arr[[1, 5, 7, 2]][:, [0, 3, 1, 2]]"
   ]
  },
  {
   "cell_type": "code",
   "execution_count": null,
   "metadata": {
    "id": "fKalk5WLR1n1"
   },
   "outputs": [],
   "source": [
    "Transposing Arrays and Swapping Axes"
   ]
  },
  {
   "cell_type": "code",
   "execution_count": 115,
   "metadata": {
    "colab": {
     "base_uri": "https://localhost:8080/"
    },
    "executionInfo": {
     "elapsed": 1148,
     "status": "ok",
     "timestamp": 1606104181209,
     "user": {
      "displayName": "prathviraj shetty",
      "photoUrl": "https://lh3.googleusercontent.com/a-/AOh14GhKody4bMBhr3sFjBRSMtPKerrzBoUK7stNKBFvrA=s64",
      "userId": "03618971057838723327"
     },
     "user_tz": -330
    },
    "id": "4dVrWLWwSFzM",
    "outputId": "4837eaff-4b38-468a-a2b5-f4f951b9c425"
   },
   "outputs": [
    {
     "data": {
      "text/plain": [
       "array([[ 0,  1,  2,  3,  4],\n",
       "       [ 5,  6,  7,  8,  9],\n",
       "       [10, 11, 12, 13, 14]])"
      ]
     },
     "execution_count": 115,
     "metadata": {},
     "output_type": "execute_result"
    }
   ],
   "source": [
    "In [126]: arr = np.arange(15).reshape((3, 5))\n",
    "In [127]: arr"
   ]
  },
  {
   "cell_type": "code",
   "execution_count": 116,
   "metadata": {
    "colab": {
     "base_uri": "https://localhost:8080/"
    },
    "executionInfo": {
     "elapsed": 1155,
     "status": "ok",
     "timestamp": 1606104457834,
     "user": {
      "displayName": "prathviraj shetty",
      "photoUrl": "https://lh3.googleusercontent.com/a-/AOh14GhKody4bMBhr3sFjBRSMtPKerrzBoUK7stNKBFvrA=s64",
      "userId": "03618971057838723327"
     },
     "user_tz": -330
    },
    "id": "-5DUsz89SUzP",
    "outputId": "90fa0573-254f-446b-ac03-401ce905222e"
   },
   "outputs": [
    {
     "data": {
      "text/plain": [
       "array([[ 0,  5, 10],\n",
       "       [ 1,  6, 11],\n",
       "       [ 2,  7, 12],\n",
       "       [ 3,  8, 13],\n",
       "       [ 4,  9, 14]])"
      ]
     },
     "execution_count": 116,
     "metadata": {},
     "output_type": "execute_result"
    }
   ],
   "source": [
    "arr.T"
   ]
  },
  {
   "cell_type": "code",
   "execution_count": 117,
   "metadata": {
    "colab": {
     "base_uri": "https://localhost:8080/"
    },
    "executionInfo": {
     "elapsed": 1155,
     "status": "ok",
     "timestamp": 1606104649389,
     "user": {
      "displayName": "prathviraj shetty",
      "photoUrl": "https://lh3.googleusercontent.com/a-/AOh14GhKody4bMBhr3sFjBRSMtPKerrzBoUK7stNKBFvrA=s64",
      "userId": "03618971057838723327"
     },
     "user_tz": -330
    },
    "id": "doyOid1-SmL3",
    "outputId": "7fbb04a6-5699-4106-c553-63e6597cdefc"
   },
   "outputs": [
    {
     "data": {
      "text/plain": [
       "array([[[ 0,  1,  2,  3],\n",
       "        [ 4,  5,  6,  7]],\n",
       "\n",
       "       [[ 8,  9, 10, 11],\n",
       "        [12, 13, 14, 15]]])"
      ]
     },
     "execution_count": 117,
     "metadata": {},
     "output_type": "execute_result"
    }
   ],
   "source": [
    "In [132]: arr = np.arange(16).reshape((2, 2, 4))\n",
    "In [133]: arr"
   ]
  },
  {
   "cell_type": "code",
   "execution_count": 128,
   "metadata": {
    "colab": {
     "base_uri": "https://localhost:8080/"
    },
    "executionInfo": {
     "elapsed": 1257,
     "status": "ok",
     "timestamp": 1606105031125,
     "user": {
      "displayName": "prathviraj shetty",
      "photoUrl": "https://lh3.googleusercontent.com/a-/AOh14GhKody4bMBhr3sFjBRSMtPKerrzBoUK7stNKBFvrA=s64",
      "userId": "03618971057838723327"
     },
     "user_tz": -330
    },
    "id": "J5QlNHOtSpuG",
    "outputId": "3cad63a6-3d8d-4885-9639-197595e4cb0b"
   },
   "outputs": [
    {
     "data": {
      "text/plain": [
       "array([[[ 0,  1,  2,  3],\n",
       "        [ 8,  9, 10, 11]],\n",
       "\n",
       "       [[ 4,  5,  6,  7],\n",
       "        [12, 13, 14, 15]]])"
      ]
     },
     "execution_count": 128,
     "metadata": {},
     "output_type": "execute_result"
    }
   ],
   "source": [
    "In [134]: arr.transpose((1, 0, 2))"
   ]
  },
  {
   "cell_type": "code",
   "execution_count": 129,
   "metadata": {
    "colab": {
     "base_uri": "https://localhost:8080/"
    },
    "executionInfo": {
     "elapsed": 1155,
     "status": "ok",
     "timestamp": 1606105196308,
     "user": {
      "displayName": "prathviraj shetty",
      "photoUrl": "https://lh3.googleusercontent.com/a-/AOh14GhKody4bMBhr3sFjBRSMtPKerrzBoUK7stNKBFvrA=s64",
      "userId": "03618971057838723327"
     },
     "user_tz": -330
    },
    "id": "aPZI9KOLTiBt",
    "outputId": "ce2762ae-1c05-49bc-cec1-734a7165432e"
   },
   "outputs": [
    {
     "data": {
      "text/plain": [
       "array([[[ 0,  4],\n",
       "        [ 1,  5],\n",
       "        [ 2,  6],\n",
       "        [ 3,  7]],\n",
       "\n",
       "       [[ 8, 12],\n",
       "        [ 9, 13],\n",
       "        [10, 14],\n",
       "        [11, 15]]])"
      ]
     },
     "execution_count": 129,
     "metadata": {},
     "output_type": "execute_result"
    }
   ],
   "source": [
    "In [134]: arr.transpose((0, 2, 1))"
   ]
  },
  {
   "cell_type": "code",
   "execution_count": 130,
   "metadata": {
    "colab": {
     "base_uri": "https://localhost:8080/"
    },
    "executionInfo": {
     "elapsed": 4422,
     "status": "ok",
     "timestamp": 1606105381378,
     "user": {
      "displayName": "prathviraj shetty",
      "photoUrl": "https://lh3.googleusercontent.com/a-/AOh14GhKody4bMBhr3sFjBRSMtPKerrzBoUK7stNKBFvrA=s64",
      "userId": "03618971057838723327"
     },
     "user_tz": -330
    },
    "id": "r2QgYaIcVkui",
    "outputId": "5940659f-15d4-478a-89cd-619248fa7aba"
   },
   "outputs": [
    {
     "data": {
      "text/plain": [
       "array([[[ 0,  1,  2,  3],\n",
       "        [ 4,  5,  6,  7],\n",
       "        [ 8,  9, 10, 11]],\n",
       "\n",
       "       [[12, 13, 14, 15],\n",
       "        [16, 17, 18, 19],\n",
       "        [20, 21, 22, 23]]])"
      ]
     },
     "execution_count": 130,
     "metadata": {},
     "output_type": "execute_result"
    }
   ],
   "source": [
    "data=np.arange(24).reshape((2,3,4))\n",
    "data"
   ]
  },
  {
   "cell_type": "code",
   "execution_count": 132,
   "metadata": {
    "colab": {
     "base_uri": "https://localhost:8080/"
    },
    "executionInfo": {
     "elapsed": 2507,
     "status": "ok",
     "timestamp": 1606105543002,
     "user": {
      "displayName": "prathviraj shetty",
      "photoUrl": "https://lh3.googleusercontent.com/a-/AOh14GhKody4bMBhr3sFjBRSMtPKerrzBoUK7stNKBFvrA=s64",
      "userId": "03618971057838723327"
     },
     "user_tz": -330
    },
    "id": "kAsQBIXeWFO4",
    "outputId": "fedaee2c-b096-46bc-a9e9-18b0f73800d4"
   },
   "outputs": [
    {
     "data": {
      "text/plain": [
       "array([[[ 0,  1,  2,  3],\n",
       "        [12, 13, 14, 15]],\n",
       "\n",
       "       [[ 4,  5,  6,  7],\n",
       "        [16, 17, 18, 19]],\n",
       "\n",
       "       [[ 8,  9, 10, 11],\n",
       "        [20, 21, 22, 23]]])"
      ]
     },
     "execution_count": 132,
     "metadata": {},
     "output_type": "execute_result"
    }
   ],
   "source": [
    "data.transpose((1, 0, 2))"
   ]
  },
  {
   "cell_type": "code",
   "execution_count": 133,
   "metadata": {
    "colab": {
     "base_uri": "https://localhost:8080/"
    },
    "executionInfo": {
     "elapsed": 1184,
     "status": "ok",
     "timestamp": 1606105879207,
     "user": {
      "displayName": "prathviraj shetty",
      "photoUrl": "https://lh3.googleusercontent.com/a-/AOh14GhKody4bMBhr3sFjBRSMtPKerrzBoUK7stNKBFvrA=s64",
      "userId": "03618971057838723327"
     },
     "user_tz": -330
    },
    "id": "AGkrNEfCW9kr",
    "outputId": "75d8bb41-3d6f-4f34-df19-fa981df7f475"
   },
   "outputs": [
    {
     "data": {
      "text/plain": [
       "array([[[ 0,  8],\n",
       "        [ 4, 12]],\n",
       "\n",
       "       [[ 1,  9],\n",
       "        [ 5, 13]],\n",
       "\n",
       "       [[ 2, 10],\n",
       "        [ 6, 14]],\n",
       "\n",
       "       [[ 3, 11],\n",
       "        [ 7, 15]]])"
      ]
     },
     "execution_count": 133,
     "metadata": {},
     "output_type": "execute_result"
    }
   ],
   "source": [
    "arr.transpose((2, 1, 0))"
   ]
  },
  {
   "cell_type": "code",
   "execution_count": 134,
   "metadata": {
    "colab": {
     "base_uri": "https://localhost:8080/"
    },
    "executionInfo": {
     "elapsed": 1130,
     "status": "ok",
     "timestamp": 1606105940196,
     "user": {
      "displayName": "prathviraj shetty",
      "photoUrl": "https://lh3.googleusercontent.com/a-/AOh14GhKody4bMBhr3sFjBRSMtPKerrzBoUK7stNKBFvrA=s64",
      "userId": "03618971057838723327"
     },
     "user_tz": -330
    },
    "id": "GDURBQUJYB2p",
    "outputId": "0c72ef33-8124-4b89-de3b-3466e58d9b6e"
   },
   "outputs": [
    {
     "data": {
      "text/plain": [
       "array([[[ 0,  4],\n",
       "        [ 1,  5],\n",
       "        [ 2,  6],\n",
       "        [ 3,  7]],\n",
       "\n",
       "       [[ 8, 12],\n",
       "        [ 9, 13],\n",
       "        [10, 14],\n",
       "        [11, 15]]])"
      ]
     },
     "execution_count": 134,
     "metadata": {},
     "output_type": "execute_result"
    }
   ],
   "source": [
    "arr.swapaxes(1, 2)"
   ]
  },
  {
   "cell_type": "code",
   "execution_count": null,
   "metadata": {
    "colab": {
     "base_uri": "https://localhost:8080/"
    },
    "executionInfo": {
     "elapsed": 1195,
     "status": "ok",
     "timestamp": 1606105966056,
     "user": {
      "displayName": "prathviraj shetty",
      "photoUrl": "https://lh3.googleusercontent.com/a-/AOh14GhKody4bMBhr3sFjBRSMtPKerrzBoUK7stNKBFvrA=s64",
      "userId": "03618971057838723327"
     },
     "user_tz": -330
    },
    "id": "lDJmETlxYIOH",
    "outputId": "a349a5d7-f3ba-4c28-af9f-453994c3bc64"
   },
   "outputs": [
    {
     "data": {
      "text/plain": [
       "array([[[ 0,  4,  8],\n",
       "        [ 1,  5,  9],\n",
       "        [ 2,  6, 10],\n",
       "        [ 3,  7, 11]],\n",
       "\n",
       "       [[12, 16, 20],\n",
       "        [13, 17, 21],\n",
       "        [14, 18, 22],\n",
       "        [15, 19, 23]]])"
      ]
     },
     "execution_count": 23,
     "metadata": {
      "tags": []
     },
     "output_type": "execute_result"
    }
   ],
   "source": [
    "data.swapaxes(1, 2)"
   ]
  },
  {
   "cell_type": "code",
   "execution_count": null,
   "metadata": {
    "id": "wmOMFLhpYITV"
   },
   "outputs": [],
   "source": []
  },
  {
   "cell_type": "markdown",
   "metadata": {
    "id": "eRRZ_WcvhJ0s"
   },
   "source": [
    "**Universal Functions: Fast Element-Wise Array\n",
    "Functions** "
   ]
  },
  {
   "cell_type": "code",
   "execution_count": 137,
   "metadata": {
    "colab": {
     "base_uri": "https://localhost:8080/"
    },
    "executionInfo": {
     "elapsed": 1060,
     "status": "ok",
     "timestamp": 1606275509541,
     "user": {
      "displayName": "praj151986",
      "photoUrl": "",
      "userId": "03618971057838723327"
     },
     "user_tz": -330
    },
    "id": "FzUlVV-ehQyB",
    "outputId": "16d29be4-f184-4c29-810b-4604ac403496"
   },
   "outputs": [
    {
     "data": {
      "text/plain": [
       "array([0, 1, 2, 3, 4, 5, 6, 7, 8, 9])"
      ]
     },
     "execution_count": 137,
     "metadata": {},
     "output_type": "execute_result"
    }
   ],
   "source": [
    "In [137]: arr = np.arange(10)\n",
    "In [138]: arr"
   ]
  },
  {
   "cell_type": "code",
   "execution_count": 138,
   "metadata": {
    "colab": {
     "base_uri": "https://localhost:8080/"
    },
    "executionInfo": {
     "elapsed": 1535,
     "status": "ok",
     "timestamp": 1606275516606,
     "user": {
      "displayName": "praj151986",
      "photoUrl": "",
      "userId": "03618971057838723327"
     },
     "user_tz": -330
    },
    "id": "pgAgJqyphugZ",
    "outputId": "e92ab69c-615b-41ac-865a-5a5077a3cd3c"
   },
   "outputs": [
    {
     "data": {
      "text/plain": [
       "array([0.        , 1.        , 1.41421356, 1.73205081, 2.        ,\n",
       "       2.23606798, 2.44948974, 2.64575131, 2.82842712, 3.        ])"
      ]
     },
     "execution_count": 138,
     "metadata": {},
     "output_type": "execute_result"
    }
   ],
   "source": [
    "In [139]: np.sqrt(arr)"
   ]
  },
  {
   "cell_type": "code",
   "execution_count": 139,
   "metadata": {
    "colab": {
     "base_uri": "https://localhost:8080/"
    },
    "executionInfo": {
     "elapsed": 1349,
     "status": "ok",
     "timestamp": 1606275529865,
     "user": {
      "displayName": "praj151986",
      "photoUrl": "",
      "userId": "03618971057838723327"
     },
     "user_tz": -330
    },
    "id": "4JtBIDnjhx4G",
    "outputId": "5df6db24-6e66-40fe-cfae-1e82f2b5977b"
   },
   "outputs": [
    {
     "data": {
      "text/plain": [
       "array([1.00000000e+00, 2.71828183e+00, 7.38905610e+00, 2.00855369e+01,\n",
       "       5.45981500e+01, 1.48413159e+02, 4.03428793e+02, 1.09663316e+03,\n",
       "       2.98095799e+03, 8.10308393e+03])"
      ]
     },
     "execution_count": 139,
     "metadata": {},
     "output_type": "execute_result"
    }
   ],
   "source": [
    "In [140]: np.exp(arr)"
   ]
  },
  {
   "cell_type": "code",
   "execution_count": 140,
   "metadata": {
    "colab": {
     "base_uri": "https://localhost:8080/"
    },
    "executionInfo": {
     "elapsed": 1046,
     "status": "ok",
     "timestamp": 1606275560335,
     "user": {
      "displayName": "praj151986",
      "photoUrl": "",
      "userId": "03618971057838723327"
     },
     "user_tz": -330
    },
    "id": "BvLBaPHajGCW",
    "outputId": "cff055b7-625f-4476-fd96-af1df504d9ac"
   },
   "outputs": [
    {
     "data": {
      "text/plain": [
       "array([-0.6817451 , -0.30364934, -2.180619  , -0.7916155 ,  1.00234611,\n",
       "        1.0346768 , -1.50784819, -0.82900877])"
      ]
     },
     "execution_count": 140,
     "metadata": {},
     "output_type": "execute_result"
    }
   ],
   "source": [
    "In [141]: x = np.random.randn(8)\n",
    "In [142]: y = np.random.randn(8)\n",
    "x"
   ]
  },
  {
   "cell_type": "code",
   "execution_count": 141,
   "metadata": {
    "colab": {
     "base_uri": "https://localhost:8080/"
    },
    "executionInfo": {
     "elapsed": 1048,
     "status": "ok",
     "timestamp": 1606275568616,
     "user": {
      "displayName": "praj151986",
      "photoUrl": "",
      "userId": "03618971057838723327"
     },
     "user_tz": -330
    },
    "id": "MfzSs4rMjKpa",
    "outputId": "f4da1b65-174a-4363-92b5-e634e28c8e3f"
   },
   "outputs": [
    {
     "data": {
      "text/plain": [
       "array([ 0.60018311,  0.85300118, -0.55903784,  0.06180426, -0.23905016,\n",
       "        0.5216215 , -0.31502037,  0.22452893])"
      ]
     },
     "execution_count": 141,
     "metadata": {},
     "output_type": "execute_result"
    }
   ],
   "source": [
    "y"
   ]
  },
  {
   "cell_type": "code",
   "execution_count": 142,
   "metadata": {
    "colab": {
     "base_uri": "https://localhost:8080/"
    },
    "executionInfo": {
     "elapsed": 1649,
     "status": "ok",
     "timestamp": 1606275578213,
     "user": {
      "displayName": "praj151986",
      "photoUrl": "",
      "userId": "03618971057838723327"
     },
     "user_tz": -330
    },
    "id": "VHQg-g4ajMBf",
    "outputId": "f20c5256-edc2-407b-b53b-748dcfd24c65"
   },
   "outputs": [
    {
     "data": {
      "text/plain": [
       "array([ 0.60018311,  0.85300118, -0.55903784,  0.06180426,  1.00234611,\n",
       "        1.0346768 , -0.31502037,  0.22452893])"
      ]
     },
     "execution_count": 142,
     "metadata": {},
     "output_type": "execute_result"
    }
   ],
   "source": [
    "In [145]: np.maximum(x, y)"
   ]
  },
  {
   "cell_type": "markdown",
   "metadata": {
    "id": "fFaFDNOZjkO5"
   },
   "source": [
    "**Sorting**"
   ]
  },
  {
   "cell_type": "code",
   "execution_count": 143,
   "metadata": {
    "colab": {
     "base_uri": "https://localhost:8080/"
    },
    "executionInfo": {
     "elapsed": 1171,
     "status": "ok",
     "timestamp": 1606275745774,
     "user": {
      "displayName": "praj151986",
      "photoUrl": "",
      "userId": "03618971057838723327"
     },
     "user_tz": -330
    },
    "id": "RO4G7vo4j3cv",
    "outputId": "27b651fe-41c8-42fc-b757-e4cb2514b6b7"
   },
   "outputs": [
    {
     "data": {
      "text/plain": [
       "array([ 0.29236261,  1.3949853 ,  0.70843099,  1.03160842, -2.21717645,\n",
       "       -0.75262278])"
      ]
     },
     "execution_count": 143,
     "metadata": {},
     "output_type": "execute_result"
    }
   ],
   "source": [
    "In [195]: arr = np.random.randn(6)\n",
    "In [196]: arr"
   ]
  },
  {
   "cell_type": "code",
   "execution_count": 144,
   "metadata": {
    "colab": {
     "base_uri": "https://localhost:8080/"
    },
    "executionInfo": {
     "elapsed": 1067,
     "status": "ok",
     "timestamp": 1606275751605,
     "user": {
      "displayName": "praj151986",
      "photoUrl": "",
      "userId": "03618971057838723327"
     },
     "user_tz": -330
    },
    "id": "1LOIFcEOkHWk",
    "outputId": "98da3fb7-6d73-40c5-8b66-d7061505a6ea"
   },
   "outputs": [
    {
     "data": {
      "text/plain": [
       "array([-2.21717645, -0.75262278,  0.29236261,  0.70843099,  1.03160842,\n",
       "        1.3949853 ])"
      ]
     },
     "execution_count": 144,
     "metadata": {},
     "output_type": "execute_result"
    }
   ],
   "source": [
    "In [197]: arr.sort()\n",
    "In [198]: arr"
   ]
  },
  {
   "cell_type": "code",
   "execution_count": 145,
   "metadata": {
    "colab": {
     "base_uri": "https://localhost:8080/"
    },
    "executionInfo": {
     "elapsed": 1105,
     "status": "ok",
     "timestamp": 1606275771418,
     "user": {
      "displayName": "praj151986",
      "photoUrl": "",
      "userId": "03618971057838723327"
     },
     "user_tz": -330
    },
    "id": "MYylnR8rkWcN",
    "outputId": "0437e6ba-bdee-4fa1-dfe8-dc9454dddd5d"
   },
   "outputs": [
    {
     "data": {
      "text/plain": [
       "array([[ 0.50729579, -0.16940915, -1.34772075],\n",
       "       [ 0.2132291 ,  1.95126667, -0.71462235],\n",
       "       [-1.12017714,  0.52133737,  0.12327901],\n",
       "       [-0.58496098,  0.58260571, -0.04386977],\n",
       "       [-0.69080278,  0.43120792, -0.97351005]])"
      ]
     },
     "execution_count": 145,
     "metadata": {},
     "output_type": "execute_result"
    }
   ],
   "source": [
    "In [199]: arr = np.random.randn(5, 3)\n",
    "In [200]: arr"
   ]
  },
  {
   "cell_type": "code",
   "execution_count": 146,
   "metadata": {
    "colab": {
     "base_uri": "https://localhost:8080/"
    },
    "executionInfo": {
     "elapsed": 1527,
     "status": "ok",
     "timestamp": 1606276041733,
     "user": {
      "displayName": "praj151986",
      "photoUrl": "",
      "userId": "03618971057838723327"
     },
     "user_tz": -330
    },
    "id": "kgskm0G5kdhF",
    "outputId": "f13ae14b-d05b-45e2-a364-501a120be17e"
   },
   "outputs": [
    {
     "data": {
      "text/plain": [
       "array([[-1.34772075, -0.16940915,  0.50729579],\n",
       "       [-0.71462235,  0.2132291 ,  1.95126667],\n",
       "       [-1.12017714,  0.12327901,  0.52133737],\n",
       "       [-0.58496098, -0.04386977,  0.58260571],\n",
       "       [-0.97351005, -0.69080278,  0.43120792]])"
      ]
     },
     "execution_count": 146,
     "metadata": {},
     "output_type": "execute_result"
    }
   ],
   "source": [
    "In [201]: arr.sort(1)\n",
    "In [202]: arr"
   ]
  },
  {
   "cell_type": "markdown",
   "metadata": {
    "id": "QhiZ3bJFlte_"
   },
   "source": [
    "**Unique and Other Set Logic**"
   ]
  },
  {
   "cell_type": "code",
   "execution_count": 148,
   "metadata": {
    "colab": {
     "base_uri": "https://localhost:8080/"
    },
    "executionInfo": {
     "elapsed": 1065,
     "status": "ok",
     "timestamp": 1606276187382,
     "user": {
      "displayName": "praj151986",
      "photoUrl": "",
      "userId": "03618971057838723327"
     },
     "user_tz": -330
    },
    "id": "cTbCODpMlkyy",
    "outputId": "2072b459-b37e-45cd-8ab2-77097696e64c"
   },
   "outputs": [
    {
     "data": {
      "text/plain": [
       "array(['Bob', 'Joe', 'Will'], dtype='<U4')"
      ]
     },
     "execution_count": 148,
     "metadata": {},
     "output_type": "execute_result"
    }
   ],
   "source": [
    "In [206]: names = np.array(['Bob', 'Joe', 'Will', 'Bob', 'Will', 'Joe', 'Joe'])\n",
    "In [207]: np.unique(names)"
   ]
  },
  {
   "cell_type": "code",
   "execution_count": 149,
   "metadata": {
    "colab": {
     "base_uri": "https://localhost:8080/"
    },
    "executionInfo": {
     "elapsed": 996,
     "status": "ok",
     "timestamp": 1606276204107,
     "user": {
      "displayName": "praj151986",
      "photoUrl": "",
      "userId": "03618971057838723327"
     },
     "user_tz": -330
    },
    "id": "T07C1z9ml5hA",
    "outputId": "b3690161-1ea7-4485-f386-3262829c72c4"
   },
   "outputs": [
    {
     "data": {
      "text/plain": [
       "array([1, 2, 3, 4])"
      ]
     },
     "execution_count": 149,
     "metadata": {},
     "output_type": "execute_result"
    }
   ],
   "source": [
    "In [208]: ints = np.array([3, 3, 3, 2, 2, 1, 1, 4, 4])\n",
    "In [209]: np.unique(ints)"
   ]
  },
  {
   "cell_type": "code",
   "execution_count": 150,
   "metadata": {
    "colab": {
     "base_uri": "https://localhost:8080/"
    },
    "executionInfo": {
     "elapsed": 1020,
     "status": "ok",
     "timestamp": 1606276218920,
     "user": {
      "displayName": "praj151986",
      "photoUrl": "",
      "userId": "03618971057838723327"
     },
     "user_tz": -330
    },
    "id": "ky4_FSo8mAEb",
    "outputId": "20ef4628-fb1f-4b3d-a8c7-325e0661056e"
   },
   "outputs": [
    {
     "data": {
      "text/plain": [
       "['Bob', 'Joe', 'Will']"
      ]
     },
     "execution_count": 150,
     "metadata": {},
     "output_type": "execute_result"
    }
   ],
   "source": [
    "In [210]: sorted(set(names))"
   ]
  },
  {
   "cell_type": "code",
   "execution_count": 20,
   "metadata": {
    "colab": {
     "base_uri": "https://localhost:8080/"
    },
    "executionInfo": {
     "elapsed": 2182,
     "status": "ok",
     "timestamp": 1606276580190,
     "user": {
      "displayName": "praj151986",
      "photoUrl": "",
      "userId": "03618971057838723327"
     },
     "user_tz": -330
    },
    "id": "A5EGcf5slwlT",
    "outputId": "50c05ed5-8af0-41c4-bd95-c9a00d0882a9"
   },
   "outputs": [
    {
     "data": {
      "text/plain": [
       "array([False, False, False,  True,  True, False, False])"
      ]
     },
     "execution_count": 20,
     "metadata": {
      "tags": []
     },
     "output_type": "execute_result"
    }
   ],
   "source": [
    "In [211]: values = np.array([6, 0, 0, 3, 2, 5, 6])\n",
    "In [212]: np.in1d(values, [2, 3, 7])"
   ]
  },
  {
   "cell_type": "markdown",
   "metadata": {
    "id": "arq9NVP4l6s7"
   },
   "source": [
    "**File Input and Output with Arrays**"
   ]
  },
  {
   "cell_type": "code",
   "execution_count": 165,
   "metadata": {
    "executionInfo": {
     "elapsed": 1493,
     "status": "ok",
     "timestamp": 1606276846126,
     "user": {
      "displayName": "praj151986",
      "photoUrl": "",
      "userId": "03618971057838723327"
     },
     "user_tz": -330
    },
    "id": "_95V6Wg7mDEy"
   },
   "outputs": [],
   "source": [
    "In [213]: arr = np.arange(10)\n",
    "arr2 = np.arange(20)\n",
    "arr3 = np.arange(2, 10)\n",
    "In [214]: np.save('some_array', arr)"
   ]
  },
  {
   "cell_type": "code",
   "execution_count": 166,
   "metadata": {
    "colab": {
     "base_uri": "https://localhost:8080/"
    },
    "executionInfo": {
     "elapsed": 1346,
     "status": "ok",
     "timestamp": 1606276884533,
     "user": {
      "displayName": "praj151986",
      "photoUrl": "",
      "userId": "03618971057838723327"
     },
     "user_tz": -330
    },
    "id": "qagUpkbbmlnz",
    "outputId": "f515d05f-a12b-4a73-b127-62b6e8d5c55c"
   },
   "outputs": [
    {
     "data": {
      "text/plain": [
       "array([0, 1, 2, 3, 4, 5, 6, 7, 8, 9])"
      ]
     },
     "execution_count": 166,
     "metadata": {},
     "output_type": "execute_result"
    }
   ],
   "source": [
    "In [215]: np.load('some_array.npy')\n"
   ]
  },
  {
   "cell_type": "code",
   "execution_count": 179,
   "metadata": {
    "executionInfo": {
     "elapsed": 1476,
     "status": "ok",
     "timestamp": 1606276948831,
     "user": {
      "displayName": "praj151986",
      "photoUrl": "",
      "userId": "03618971057838723327"
     },
     "user_tz": -330
    },
    "id": "hNbg19pUnCGJ"
   },
   "outputs": [],
   "source": [
    "In [216]: np.savez('array_archive.npz', a=arr, b=arr2, c=arr3)"
   ]
  },
  {
   "cell_type": "code",
   "execution_count": 180,
   "metadata": {
    "colab": {
     "base_uri": "https://localhost:8080/"
    },
    "executionInfo": {
     "elapsed": 1166,
     "status": "ok",
     "timestamp": 1606276986581,
     "user": {
      "displayName": "praj151986",
      "photoUrl": "",
      "userId": "03618971057838723327"
     },
     "user_tz": -330
    },
    "id": "kW3uaWhrnQCv",
    "outputId": "d496a515-7977-4c5c-c42e-78c3984334ef"
   },
   "outputs": [
    {
     "data": {
      "text/plain": [
       "array([2, 3, 4, 5, 6, 7, 8, 9])"
      ]
     },
     "execution_count": 180,
     "metadata": {},
     "output_type": "execute_result"
    }
   ],
   "source": [
    "In [217]: arch = np.load('array_archive.npz')\n",
    "In [218]: arch['c']"
   ]
  },
  {
   "cell_type": "code",
   "execution_count": 26,
   "metadata": {
    "executionInfo": {
     "elapsed": 1414,
     "status": "ok",
     "timestamp": 1606277050208,
     "user": {
      "displayName": "praj151986",
      "photoUrl": "",
      "userId": "03618971057838723327"
     },
     "user_tz": -330
    },
    "id": "jrQMqfT6nXnq"
   },
   "outputs": [],
   "source": [
    "x = np.arange(10)\n",
    "y = np.arange(11, 20)\n",
    "np.savez('temp_arra.npz', a=x, b=y)"
   ]
  },
  {
   "cell_type": "code",
   "execution_count": 28,
   "metadata": {
    "colab": {
     "base_uri": "https://localhost:8080/"
    },
    "executionInfo": {
     "elapsed": 1137,
     "status": "ok",
     "timestamp": 1606277090898,
     "user": {
      "displayName": "praj151986",
      "photoUrl": "",
      "userId": "03618971057838723327"
     },
     "user_tz": -330
    },
    "id": "gRnfcWUGp7JJ",
    "outputId": "76f7729d-357f-4852-b420-347f33c5dc48"
   },
   "outputs": [
    {
     "data": {
      "text/plain": [
       "array([0, 1, 2, 3, 4, 5, 6, 7, 8, 9])"
      ]
     },
     "execution_count": 28,
     "metadata": {
      "tags": []
     },
     "output_type": "execute_result"
    }
   ],
   "source": [
    "arch1=np.load('temp_arra.npz')\n",
    "arch1['a']"
   ]
  },
  {
   "cell_type": "markdown",
   "metadata": {
    "id": "JSL5MDAB2GLP"
   },
   "source": [
    "**Linear Algebra**"
   ]
  },
  {
   "cell_type": "code",
   "execution_count": 171,
   "metadata": {
    "executionInfo": {
     "elapsed": 1662,
     "status": "ok",
     "timestamp": 1606277400549,
     "user": {
      "displayName": "praj151986",
      "photoUrl": "",
      "userId": "03618971057838723327"
     },
     "user_tz": -330
    },
    "id": "iu2rKLMT2OzW"
   },
   "outputs": [],
   "source": [
    "In [223]: x = np.array([[1., 2., 3.], [4., 5., 6.]])\n",
    "In [224]: y = np.array([[6., 23.], [-1, 7], [8, 9]])"
   ]
  },
  {
   "cell_type": "code",
   "execution_count": 172,
   "metadata": {
    "colab": {
     "base_uri": "https://localhost:8080/"
    },
    "executionInfo": {
     "elapsed": 1469,
     "status": "ok",
     "timestamp": 1606277404651,
     "user": {
      "displayName": "praj151986",
      "photoUrl": "",
      "userId": "03618971057838723327"
     },
     "user_tz": -330
    },
    "id": "gcKQi1ee2qLL",
    "outputId": "33be66e7-1814-4457-c645-e797ac2a72b7"
   },
   "outputs": [
    {
     "data": {
      "text/plain": [
       "array([[ 28.,  64.],\n",
       "       [ 67., 181.]])"
      ]
     },
     "execution_count": 172,
     "metadata": {},
     "output_type": "execute_result"
    }
   ],
   "source": [
    "x.dot(y)"
   ]
  },
  {
   "cell_type": "code",
   "execution_count": 173,
   "metadata": {
    "colab": {
     "base_uri": "https://localhost:8080/"
    },
    "executionInfo": {
     "elapsed": 1205,
     "status": "ok",
     "timestamp": 1606277447165,
     "user": {
      "displayName": "praj151986",
      "photoUrl": "",
      "userId": "03618971057838723327"
     },
     "user_tz": -330
    },
    "id": "98qrUXY42rRU",
    "outputId": "e354ece0-79fd-449f-e88b-ce5b7ffd981d"
   },
   "outputs": [
    {
     "data": {
      "text/plain": [
       "array([[ 28.,  64.],\n",
       "       [ 67., 181.]])"
      ]
     },
     "execution_count": 173,
     "metadata": {},
     "output_type": "execute_result"
    }
   ],
   "source": [
    "np.dot(x, y)"
   ]
  },
  {
   "cell_type": "code",
   "execution_count": 174,
   "metadata": {
    "colab": {
     "base_uri": "https://localhost:8080/"
    },
    "executionInfo": {
     "elapsed": 1413,
     "status": "ok",
     "timestamp": 1606277522157,
     "user": {
      "displayName": "praj151986",
      "photoUrl": "",
      "userId": "03618971057838723327"
     },
     "user_tz": -330
    },
    "id": "D4daaGU52uiM",
    "outputId": "f435ae1a-e808-4a67-cc9c-349347994f35"
   },
   "outputs": [
    {
     "data": {
      "text/plain": [
       "array([ 6., 15.])"
      ]
     },
     "execution_count": 174,
     "metadata": {},
     "output_type": "execute_result"
    }
   ],
   "source": [
    "np.dot(x, np.ones(3))"
   ]
  },
  {
   "cell_type": "code",
   "execution_count": 175,
   "metadata": {
    "colab": {
     "base_uri": "https://localhost:8080/"
    },
    "executionInfo": {
     "elapsed": 1141,
     "status": "ok",
     "timestamp": 1606277566125,
     "user": {
      "displayName": "praj151986",
      "photoUrl": "",
      "userId": "03618971057838723327"
     },
     "user_tz": -330
    },
    "id": "131oM9AR23mF",
    "outputId": "5fff2ecd-9b80-4b36-e008-624b30cc2df0"
   },
   "outputs": [
    {
     "data": {
      "text/plain": [
       "array([ 6., 15.])"
      ]
     },
     "execution_count": 175,
     "metadata": {},
     "output_type": "execute_result"
    }
   ],
   "source": [
    "x @ np.ones(3)"
   ]
  },
  {
   "cell_type": "code",
   "execution_count": 177,
   "metadata": {
    "colab": {
     "base_uri": "https://localhost:8080/",
     "height": 197
    },
    "executionInfo": {
     "elapsed": 1212,
     "status": "error",
     "timestamp": 1606277850729,
     "user": {
      "displayName": "praj151986",
      "photoUrl": "",
      "userId": "03618971057838723327"
     },
     "user_tz": -330
    },
    "id": "1-bBcOz33kke",
    "outputId": "b5a0cbc1-98a5-44b6-9a02-2e921e537169"
   },
   "outputs": [
    {
     "name": "stdout",
     "output_type": "stream",
     "text": [
      "[[ 3.14997179 -0.59398398 -0.86290474  2.86583198  2.13707502]\n",
      " [-0.59398398  3.71206767  1.53671319 -1.60209369 -0.95615097]\n",
      " [-0.86290474  1.53671319  1.76472977  1.14027332  0.31571357]\n",
      " [ 2.86583198 -1.60209369  1.14027332 13.97463035  4.2227808 ]\n",
      " [ 2.13707502 -0.95615097  0.31571357  4.2227808   3.72262391]]\n"
     ]
    }
   ],
   "source": [
    "In [232]: X = np.random.randn(5, 5)\n",
    "In [233]: mat = X.T.dot(X)\n",
    "In [234]: print(mat)"
   ]
  },
  {
   "cell_type": "code",
   "execution_count": 36,
   "metadata": {
    "colab": {
     "base_uri": "https://localhost:8080/"
    },
    "executionInfo": {
     "elapsed": 1931,
     "status": "ok",
     "timestamp": 1606278350002,
     "user": {
      "displayName": "praj151986",
      "photoUrl": "",
      "userId": "03618971057838723327"
     },
     "user_tz": -330
    },
    "id": "c8MbIxph5TsY",
    "outputId": "12d4d7df-75e5-487d-fac4-ff53786a7fc9"
   },
   "outputs": [
    {
     "name": "stdout",
     "output_type": "stream",
     "text": [
      "244\n",
      "244\n",
      "607\n"
     ]
    }
   ],
   "source": [
    "\n",
    "import random \n",
    "  \n",
    "random.seed(3) \n",
    " \n",
    "print(random.randint(1, 1000)) \n",
    " \n",
    "random.seed(3)  \n",
    "print(random.randint(1, 1000)) \n",
    " \n",
    "print(random.randint(1, 1000)) \n",
    "\n"
   ]
  },
  {
   "cell_type": "markdown",
   "metadata": {
    "id": "noQTaXzL8XnA"
   },
   "source": [
    "**Example: Random Walks**"
   ]
  },
  {
   "cell_type": "code",
   "execution_count": 178,
   "metadata": {
    "id": "7QVHHHqW8aZL"
   },
   "outputs": [
    {
     "data": {
      "text/plain": [
       "[<matplotlib.lines.Line2D at 0x1f4ce25c808>]"
      ]
     },
     "execution_count": 178,
     "metadata": {},
     "output_type": "execute_result"
    },
    {
     "data": {
      "image/png": "[encoded data removed]",
      "text/plain": [
       "<Figure size 432x288 with 1 Axes>"
      ]
     },
     "metadata": {
      "needs_background": "light"
     },
     "output_type": "display_data"
    }
   ],
   "source": [
    "import random\n",
    "import matplotlib.pyplot as plt\n",
    "position = 0\n",
    "walk = [position]\n",
    "steps = 1000\n",
    "for i in range(steps):\n",
    "  step = 1 if random.randint(0, 1) else -1\n",
    "  position += step\n",
    "  walk.append(position)\n",
    "plt.plot(walk[:100])"
   ]
  },
  {
   "cell_type": "code",
   "execution_count": null,
   "metadata": {},
   "outputs": [],
   "source": []
  }
 ],
 "metadata": {
  "colab": {
   "authorship_tag": "ABX9TyOwhefiqRNhLwklfRiaodVE",
   "name": "numpy_intro.ipynb",
   "provenance": []
  },
  "kernelspec": {
   "display_name": "Python 3",
   "language": "python",
   "name": "python3"
  },
  "language_info": {
   "codemirror_mode": {
    "name": "ipython",
    "version": 3
   },
   "file_extension": ".py",
   "mimetype": "text/x-python",
   "name": "python",
   "nbconvert_exporter": "python",
   "pygments_lexer": "ipython3",
   "version": "3.7.9"
  }
 },
 "nbformat": 4,
 "nbformat_minor": 1
}
