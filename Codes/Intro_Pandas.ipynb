{
 "cells": [
  {
   "cell_type": "markdown",
   "metadata": {
    "id": "e2BBpGsu0HkA"
   },
   "source": [
    "**Series**"
   ]
  },
  {
   "cell_type": "code",
   "execution_count": 2,
   "metadata": {
    "executionInfo": {
     "elapsed": 2488,
     "status": "ok",
     "timestamp": 1607657333564,
     "user": {
      "displayName": "prathviraj shetty",
      "photoUrl": "https://lh3.googleusercontent.com/a-/AOh14GhKody4bMBhr3sFjBRSMtPKerrzBoUK7stNKBFvrA=s64",
      "userId": "03618971057838723327"
     },
     "user_tz": -330
    },
    "id": "AP5Vbo2Q0cZw"
   },
   "outputs": [],
   "source": [
    "import pandas as pd\n",
    "from pandas import Series, DataFrame"
   ]
  },
  {
   "cell_type": "code",
   "execution_count": 6,
   "metadata": {
    "colab": {
     "base_uri": "https://localhost:8080/"
    },
    "executionInfo": {
     "elapsed": 2642,
     "status": "ok",
     "timestamp": 1606449377883,
     "user": {
      "displayName": "prathviraj shetty",
      "photoUrl": "https://lh3.googleusercontent.com/a-/AOh14GhKody4bMBhr3sFjBRSMtPKerrzBoUK7stNKBFvrA=s64",
      "userId": "03618971057838723327"
     },
     "user_tz": -330
    },
    "id": "H7huYFmx02DK",
    "outputId": "ce500a40-fdc0-40b3-a076-719f689ef3f7"
   },
   "outputs": [
    {
     "data": {
      "text/plain": [
       "0    4\n",
       "1    7\n",
       "2   -5\n",
       "3    3\n",
       "dtype: int64"
      ]
     },
     "execution_count": 6,
     "metadata": {},
     "output_type": "execute_result"
    }
   ],
   "source": [
    "In [11]: obj = pd.Series([4, 7, -5, 3])\n",
    "In [12]: obj"
   ]
  },
  {
   "cell_type": "code",
   "execution_count": 7,
   "metadata": {
    "colab": {
     "base_uri": "https://localhost:8080/"
    },
    "executionInfo": {
     "elapsed": 2069,
     "status": "ok",
     "timestamp": 1606449398427,
     "user": {
      "displayName": "prathviraj shetty",
      "photoUrl": "https://lh3.googleusercontent.com/a-/AOh14GhKody4bMBhr3sFjBRSMtPKerrzBoUK7stNKBFvrA=s64",
      "userId": "03618971057838723327"
     },
     "user_tz": -330
    },
    "id": "5IF-DcHf1BE2",
    "outputId": "bf862097-bd0e-4f27-aee6-01e13896a96b"
   },
   "outputs": [
    {
     "data": {
      "text/plain": [
       "array([ 4,  7, -5,  3], dtype=int64)"
      ]
     },
     "execution_count": 7,
     "metadata": {},
     "output_type": "execute_result"
    }
   ],
   "source": [
    "In [13]: obj.values"
   ]
  },
  {
   "cell_type": "code",
   "execution_count": 8,
   "metadata": {
    "colab": {
     "base_uri": "https://localhost:8080/"
    },
    "executionInfo": {
     "elapsed": 2689,
     "status": "ok",
     "timestamp": 1606449403697,
     "user": {
      "displayName": "prathviraj shetty",
      "photoUrl": "https://lh3.googleusercontent.com/a-/AOh14GhKody4bMBhr3sFjBRSMtPKerrzBoUK7stNKBFvrA=s64",
      "userId": "03618971057838723327"
     },
     "user_tz": -330
    },
    "id": "8rvc6s3H1I3A",
    "outputId": "68ae9602-7314-4baf-f15f-ad070362dced"
   },
   "outputs": [
    {
     "data": {
      "text/plain": [
       "RangeIndex(start=0, stop=4, step=1)"
      ]
     },
     "execution_count": 8,
     "metadata": {},
     "output_type": "execute_result"
    }
   ],
   "source": [
    "In [14]: obj.index"
   ]
  },
  {
   "cell_type": "code",
   "execution_count": 14,
   "metadata": {
    "colab": {
     "base_uri": "https://localhost:8080/"
    },
    "executionInfo": {
     "elapsed": 995,
     "status": "ok",
     "timestamp": 1606449508632,
     "user": {
      "displayName": "prathviraj shetty",
      "photoUrl": "https://lh3.googleusercontent.com/a-/AOh14GhKody4bMBhr3sFjBRSMtPKerrzBoUK7stNKBFvrA=s64",
      "userId": "03618971057838723327"
     },
     "user_tz": -330
    },
    "id": "adYodx811b0m",
    "outputId": "f3f66540-e7e5-4676-989c-41d7892179c7"
   },
   "outputs": [
    {
     "data": {
      "text/plain": [
       "d    4\n",
       "b    7\n",
       "a   -5\n",
       "c    3\n",
       "dtype: int64"
      ]
     },
     "execution_count": 14,
     "metadata": {},
     "output_type": "execute_result"
    }
   ],
   "source": [
    "In [15]: obj2 = pd.Series([4, 7, -5, 3], index=['d', 'b', 'a', 'c'])\n",
    "In [16]: obj2"
   ]
  },
  {
   "cell_type": "code",
   "execution_count": 15,
   "metadata": {
    "colab": {
     "base_uri": "https://localhost:8080/"
    },
    "executionInfo": {
     "elapsed": 978,
     "status": "ok",
     "timestamp": 1606449612312,
     "user": {
      "displayName": "prathviraj shetty",
      "photoUrl": "https://lh3.googleusercontent.com/a-/AOh14GhKody4bMBhr3sFjBRSMtPKerrzBoUK7stNKBFvrA=s64",
      "userId": "03618971057838723327"
     },
     "user_tz": -330
    },
    "id": "vDbV781D1hQc",
    "outputId": "e17e6515-baa5-4377-fa15-fec70ca46df5"
   },
   "outputs": [
    {
     "data": {
      "text/plain": [
       "Index(['d', 'b', 'a', 'c'], dtype='object')"
      ]
     },
     "execution_count": 15,
     "metadata": {},
     "output_type": "execute_result"
    }
   ],
   "source": [
    "In [17]: obj2.index"
   ]
  },
  {
   "cell_type": "code",
   "execution_count": 16,
   "metadata": {
    "colab": {
     "base_uri": "https://localhost:8080/"
    },
    "executionInfo": {
     "elapsed": 1057,
     "status": "ok",
     "timestamp": 1606449654906,
     "user": {
      "displayName": "prathviraj shetty",
      "photoUrl": "https://lh3.googleusercontent.com/a-/AOh14GhKody4bMBhr3sFjBRSMtPKerrzBoUK7stNKBFvrA=s64",
      "userId": "03618971057838723327"
     },
     "user_tz": -330
    },
    "id": "SyYD803M10ke",
    "outputId": "a4066502-0a8d-40eb-9717-90656f67508a"
   },
   "outputs": [
    {
     "data": {
      "text/plain": [
       "4"
      ]
     },
     "execution_count": 16,
     "metadata": {},
     "output_type": "execute_result"
    }
   ],
   "source": [
    "In [18]: obj2['d']"
   ]
  },
  {
   "cell_type": "code",
   "execution_count": 17,
   "metadata": {
    "id": "L68SGT9R1-1f"
   },
   "outputs": [],
   "source": [
    "In [19]: obj2['d'] = 6"
   ]
  },
  {
   "cell_type": "code",
   "execution_count": 18,
   "metadata": {},
   "outputs": [
    {
     "data": {
      "text/plain": [
       "d    6\n",
       "b    7\n",
       "a   -5\n",
       "c    3\n",
       "dtype: int64"
      ]
     },
     "execution_count": 18,
     "metadata": {},
     "output_type": "execute_result"
    }
   ],
   "source": [
    "obj2"
   ]
  },
  {
   "cell_type": "code",
   "execution_count": 20,
   "metadata": {
    "colab": {
     "base_uri": "https://localhost:8080/"
    },
    "executionInfo": {
     "elapsed": 1185,
     "status": "ok",
     "timestamp": 1606449700585,
     "user": {
      "displayName": "prathviraj shetty",
      "photoUrl": "https://lh3.googleusercontent.com/a-/AOh14GhKody4bMBhr3sFjBRSMtPKerrzBoUK7stNKBFvrA=s64",
      "userId": "03618971057838723327"
     },
     "user_tz": -330
    },
    "id": "7GcK5RXo2F4m",
    "outputId": "aff8edd8-2e43-4e19-e905-3cc89ac7b8f5"
   },
   "outputs": [
    {
     "data": {
      "text/plain": [
       "c    3\n",
       "a   -5\n",
       "d    6\n",
       "dtype: int64"
      ]
     },
     "execution_count": 20,
     "metadata": {},
     "output_type": "execute_result"
    }
   ],
   "source": [
    "In [20]: obj2[['c', 'a', 'd']]"
   ]
  },
  {
   "cell_type": "code",
   "execution_count": 21,
   "metadata": {
    "colab": {
     "base_uri": "https://localhost:8080/"
    },
    "executionInfo": {
     "elapsed": 985,
     "status": "ok",
     "timestamp": 1606450360276,
     "user": {
      "displayName": "prathviraj shetty",
      "photoUrl": "https://lh3.googleusercontent.com/a-/AOh14GhKody4bMBhr3sFjBRSMtPKerrzBoUK7stNKBFvrA=s64",
      "userId": "03618971057838723327"
     },
     "user_tz": -330
    },
    "id": "DusYdaCz7_8f",
    "outputId": "190869e3-b884-45ab-a514-0266484e50a8"
   },
   "outputs": [
    {
     "data": {
      "text/plain": [
       "d    6\n",
       "b    7\n",
       "dtype: int64"
      ]
     },
     "execution_count": 21,
     "metadata": {},
     "output_type": "execute_result"
    }
   ],
   "source": [
    "In [21]: obj2[obj2 > 3]"
   ]
  },
  {
   "cell_type": "code",
   "execution_count": 22,
   "metadata": {
    "colab": {
     "base_uri": "https://localhost:8080/"
    },
    "executionInfo": {
     "elapsed": 1053,
     "status": "ok",
     "timestamp": 1606450371036,
     "user": {
      "displayName": "prathviraj shetty",
      "photoUrl": "https://lh3.googleusercontent.com/a-/AOh14GhKody4bMBhr3sFjBRSMtPKerrzBoUK7stNKBFvrA=s64",
      "userId": "03618971057838723327"
     },
     "user_tz": -330
    },
    "id": "NmVghceq8tKS",
    "outputId": "75591aee-dfd7-42b2-f879-11826b583ec7"
   },
   "outputs": [
    {
     "data": {
      "text/plain": [
       "d    12\n",
       "b    14\n",
       "a   -10\n",
       "c     6\n",
       "dtype: int64"
      ]
     },
     "execution_count": 22,
     "metadata": {},
     "output_type": "execute_result"
    }
   ],
   "source": [
    "In [22]: obj2 * 2"
   ]
  },
  {
   "cell_type": "code",
   "execution_count": null,
   "metadata": {
    "colab": {
     "base_uri": "https://localhost:8080/"
    },
    "executionInfo": {
     "elapsed": 999,
     "status": "ok",
     "timestamp": 1606450505832,
     "user": {
      "displayName": "prathviraj shetty",
      "photoUrl": "https://lh3.googleusercontent.com/a-/AOh14GhKody4bMBhr3sFjBRSMtPKerrzBoUK7stNKBFvrA=s64",
      "userId": "03618971057838723327"
     },
     "user_tz": -330
    },
    "id": "E7lATUUr8yBm",
    "outputId": "78bb962a-01d2-406f-bcc0-24e8c3471720"
   },
   "outputs": [
    {
     "data": {
      "text/plain": [
       "True"
      ]
     },
     "execution_count": 14,
     "metadata": {
      "tags": []
     },
     "output_type": "execute_result"
    }
   ],
   "source": [
    "In [24]: 'b' in obj2"
   ]
  },
  {
   "cell_type": "code",
   "execution_count": null,
   "metadata": {
    "colab": {
     "base_uri": "https://localhost:8080/"
    },
    "executionInfo": {
     "elapsed": 967,
     "status": "ok",
     "timestamp": 1606450518607,
     "user": {
      "displayName": "prathviraj shetty",
      "photoUrl": "https://lh3.googleusercontent.com/a-/AOh14GhKody4bMBhr3sFjBRSMtPKerrzBoUK7stNKBFvrA=s64",
      "userId": "03618971057838723327"
     },
     "user_tz": -330
    },
    "id": "NNK3uTcz9BwK",
    "outputId": "c51ec20d-04e1-4c92-a465-6dd60cff75cb"
   },
   "outputs": [
    {
     "data": {
      "text/plain": [
       "False"
      ]
     },
     "execution_count": 15,
     "metadata": {
      "tags": []
     },
     "output_type": "execute_result"
    }
   ],
   "source": [
    "In [25]: 'e' in obj2"
   ]
  },
  {
   "cell_type": "code",
   "execution_count": 26,
   "metadata": {
    "colab": {
     "base_uri": "https://localhost:8080/"
    },
    "executionInfo": {
     "elapsed": 1375,
     "status": "ok",
     "timestamp": 1606450586992,
     "user": {
      "displayName": "prathviraj shetty",
      "photoUrl": "https://lh3.googleusercontent.com/a-/AOh14GhKody4bMBhr3sFjBRSMtPKerrzBoUK7stNKBFvrA=s64",
      "userId": "03618971057838723327"
     },
     "user_tz": -330
    },
    "id": "tGL_w60o9ICZ",
    "outputId": "00cfcc3f-6d3d-4548-f63b-2a934c056fae"
   },
   "outputs": [
    {
     "name": "stdout",
     "output_type": "stream",
     "text": [
      "{'Ohio': 35000, 'Texas': 71000, 'Oregon': 16000, 'Utah': 5000}\n"
     ]
    },
    {
     "data": {
      "text/plain": [
       "Ohio      35000\n",
       "Texas     71000\n",
       "Oregon    16000\n",
       "Utah       5000\n",
       "dtype: int64"
      ]
     },
     "execution_count": 26,
     "metadata": {},
     "output_type": "execute_result"
    }
   ],
   "source": [
    "In [26]: sdata = {'Ohio': 35000, 'Texas': 71000, 'Oregon': 16000, 'Utah': 5000}\n",
    "print(sdata)\n",
    "In [27]: obj3 = pd.Series(sdata)\n",
    "In [28]: obj3"
   ]
  },
  {
   "cell_type": "code",
   "execution_count": 39,
   "metadata": {
    "colab": {
     "base_uri": "https://localhost:8080/"
    },
    "executionInfo": {
     "elapsed": 965,
     "status": "ok",
     "timestamp": 1606450845862,
     "user": {
      "displayName": "prathviraj shetty",
      "photoUrl": "https://lh3.googleusercontent.com/a-/AOh14GhKody4bMBhr3sFjBRSMtPKerrzBoUK7stNKBFvrA=s64",
      "userId": "03618971057838723327"
     },
     "user_tz": -330
    },
    "id": "7tGwzI5B920U",
    "outputId": "1da97fdf-3930-44d8-eebe-ec46dc7c3f1c"
   },
   "outputs": [
    {
     "data": {
      "text/plain": [
       "California        NaN\n",
       "Texas         71000.0\n",
       "Oregon        16000.0\n",
       "Utah           5000.0\n",
       "Ohio          35000.0\n",
       "dtype: float64"
      ]
     },
     "execution_count": 39,
     "metadata": {},
     "output_type": "execute_result"
    }
   ],
   "source": [
    "In [29]: states = ['California', 'Texas', 'Oregon', 'Utah', 'Ohio']\n",
    "In [30]: obj4 = pd.Series(sdata, index=states)\n",
    "In [31]: obj4"
   ]
  },
  {
   "cell_type": "code",
   "execution_count": 40,
   "metadata": {
    "colab": {
     "base_uri": "https://localhost:8080/"
    },
    "executionInfo": {
     "elapsed": 1036,
     "status": "ok",
     "timestamp": 1606450909893,
     "user": {
      "displayName": "prathviraj shetty",
      "photoUrl": "https://lh3.googleusercontent.com/a-/AOh14GhKody4bMBhr3sFjBRSMtPKerrzBoUK7stNKBFvrA=s64",
      "userId": "03618971057838723327"
     },
     "user_tz": -330
    },
    "id": "PXIzeo1KEpjG",
    "outputId": "417c422d-b201-43c9-9931-f3b8e27c282b"
   },
   "outputs": [
    {
     "data": {
      "text/plain": [
       "California     True\n",
       "Texas         False\n",
       "Oregon        False\n",
       "Utah          False\n",
       "Ohio          False\n",
       "dtype: bool"
      ]
     },
     "execution_count": 40,
     "metadata": {},
     "output_type": "execute_result"
    }
   ],
   "source": [
    "In [32]: pd.isnull(obj4)"
   ]
  },
  {
   "cell_type": "code",
   "execution_count": 41,
   "metadata": {
    "colab": {
     "base_uri": "https://localhost:8080/"
    },
    "executionInfo": {
     "elapsed": 1139,
     "status": "ok",
     "timestamp": 1606450934468,
     "user": {
      "displayName": "prathviraj shetty",
      "photoUrl": "https://lh3.googleusercontent.com/a-/AOh14GhKody4bMBhr3sFjBRSMtPKerrzBoUK7stNKBFvrA=s64",
      "userId": "03618971057838723327"
     },
     "user_tz": -330
    },
    "id": "3io43SEqFKAC",
    "outputId": "01989c57-bd99-48de-b68d-32758016c900"
   },
   "outputs": [
    {
     "data": {
      "text/plain": [
       "California    False\n",
       "Texas          True\n",
       "Oregon         True\n",
       "Utah           True\n",
       "Ohio           True\n",
       "dtype: bool"
      ]
     },
     "execution_count": 41,
     "metadata": {},
     "output_type": "execute_result"
    }
   ],
   "source": [
    "In [33]: pd.notnull(obj4)"
   ]
  },
  {
   "cell_type": "code",
   "execution_count": 42,
   "metadata": {
    "colab": {
     "base_uri": "https://localhost:8080/"
    },
    "executionInfo": {
     "elapsed": 1070,
     "status": "ok",
     "timestamp": 1606450981313,
     "user": {
      "displayName": "prathviraj shetty",
      "photoUrl": "https://lh3.googleusercontent.com/a-/AOh14GhKody4bMBhr3sFjBRSMtPKerrzBoUK7stNKBFvrA=s64",
      "userId": "03618971057838723327"
     },
     "user_tz": -330
    },
    "id": "IaxyCOXxF05i",
    "outputId": "a86202f2-db68-4d82-a374-aef0eacf7aab"
   },
   "outputs": [
    {
     "data": {
      "text/plain": [
       "California         NaN\n",
       "Ohio           70000.0\n",
       "Oregon         32000.0\n",
       "Texas         142000.0\n",
       "Utah           10000.0\n",
       "dtype: float64"
      ]
     },
     "execution_count": 42,
     "metadata": {},
     "output_type": "execute_result"
    }
   ],
   "source": [
    "In [37]: obj3 + obj4"
   ]
  },
  {
   "cell_type": "code",
   "execution_count": 46,
   "metadata": {
    "colab": {
     "base_uri": "https://localhost:8080/"
    },
    "executionInfo": {
     "elapsed": 1148,
     "status": "ok",
     "timestamp": 1606451078750,
     "user": {
      "displayName": "prathviraj shetty",
      "photoUrl": "https://lh3.googleusercontent.com/a-/AOh14GhKody4bMBhr3sFjBRSMtPKerrzBoUK7stNKBFvrA=s64",
      "userId": "03618971057838723327"
     },
     "user_tz": -330
    },
    "id": "Du4COn-tIiL3",
    "outputId": "80d22677-5ef6-4a47-e4dc-63c2e48c38b1"
   },
   "outputs": [
    {
     "data": {
      "text/plain": [
       "state\n",
       "California        NaN\n",
       "Texas         71000.0\n",
       "Oregon        16000.0\n",
       "Utah           5000.0\n",
       "Ohio          35000.0\n",
       "Name: population, dtype: float64"
      ]
     },
     "execution_count": 46,
     "metadata": {},
     "output_type": "execute_result"
    }
   ],
   "source": [
    "In [38]: obj4.name = 'population'\n",
    "In [39]: obj4.index.name = 'state'\n",
    "In [40]: obj4"
   ]
  },
  {
   "cell_type": "code",
   "execution_count": 47,
   "metadata": {
    "colab": {
     "base_uri": "https://localhost:8080/"
    },
    "executionInfo": {
     "elapsed": 2208,
     "status": "ok",
     "timestamp": 1606451122350,
     "user": {
      "displayName": "prathviraj shetty",
      "photoUrl": "https://lh3.googleusercontent.com/a-/AOh14GhKody4bMBhr3sFjBRSMtPKerrzBoUK7stNKBFvrA=s64",
      "userId": "03618971057838723327"
     },
     "user_tz": -330
    },
    "id": "hrNBalWQI0Hp",
    "outputId": "5491c9b4-ad65-4287-f1d5-53065311eb15"
   },
   "outputs": [
    {
     "data": {
      "text/plain": [
       "Bob      4\n",
       "Steve    7\n",
       "Jeff    -5\n",
       "Ryan     3\n",
       "dtype: int64"
      ]
     },
     "execution_count": 47,
     "metadata": {},
     "output_type": "execute_result"
    }
   ],
   "source": [
    "In [41]: obj"
   ]
  },
  {
   "cell_type": "code",
   "execution_count": 45,
   "metadata": {
    "colab": {
     "base_uri": "https://localhost:8080/"
    },
    "executionInfo": {
     "elapsed": 6280,
     "status": "ok",
     "timestamp": 1606451150215,
     "user": {
      "displayName": "prathviraj shetty",
      "photoUrl": "https://lh3.googleusercontent.com/a-/AOh14GhKody4bMBhr3sFjBRSMtPKerrzBoUK7stNKBFvrA=s64",
      "userId": "03618971057838723327"
     },
     "user_tz": -330
    },
    "id": "eUHsLU_sI_wH",
    "outputId": "a108e1c9-f4fe-4668-a707-d985abc8cf70"
   },
   "outputs": [
    {
     "data": {
      "text/plain": [
       "Bob      4\n",
       "Steve    7\n",
       "Jeff    -5\n",
       "Ryan     3\n",
       "dtype: int64"
      ]
     },
     "execution_count": 45,
     "metadata": {},
     "output_type": "execute_result"
    }
   ],
   "source": [
    "In [42]: obj.index = ['Bob', 'Steve', 'Jeff', 'Ryan']\n",
    "In [43]: obj"
   ]
  },
  {
   "cell_type": "markdown",
   "metadata": {
    "id": "9dFVVQLsJ6ig"
   },
   "source": [
    "**DataFrame**"
   ]
  },
  {
   "cell_type": "code",
   "execution_count": 52,
   "metadata": {
    "colab": {
     "base_uri": "https://localhost:8080/",
     "height": 235
    },
    "executionInfo": {
     "elapsed": 828,
     "status": "ok",
     "timestamp": 1606707581113,
     "user": {
      "displayName": "prathviraj shetty",
      "photoUrl": "https://lh3.googleusercontent.com/a-/AOh14GhKody4bMBhr3sFjBRSMtPKerrzBoUK7stNKBFvrA=s64",
      "userId": "03618971057838723327"
     },
     "user_tz": -330
    },
    "id": "CyA4X5G3J-Bs",
    "outputId": "a61fe5fa-c13e-443c-971d-ef85ab40955d"
   },
   "outputs": [
    {
     "data": {
      "text/html": [
       "<div>\n",
       "<style scoped>\n",
       "    .dataframe tbody tr th:only-of-type {\n",
       "        vertical-align: middle;\n",
       "    }\n",
       "\n",
       "    .dataframe tbody tr th {\n",
       "        vertical-align: top;\n",
       "    }\n",
       "\n",
       "    .dataframe thead th {\n",
       "        text-align: right;\n",
       "    }\n",
       "</style>\n",
       "<table border=\"1\" class=\"dataframe\">\n",
       "  <thead>\n",
       "    <tr style=\"text-align: right;\">\n",
       "      <th></th>\n",
       "      <th>state</th>\n",
       "      <th>year</th>\n",
       "      <th>pop</th>\n",
       "    </tr>\n",
       "  </thead>\n",
       "  <tbody>\n",
       "    <tr>\n",
       "      <th>0</th>\n",
       "      <td>Ohio</td>\n",
       "      <td>2000</td>\n",
       "      <td>1.5</td>\n",
       "    </tr>\n",
       "    <tr>\n",
       "      <th>1</th>\n",
       "      <td>Ohio</td>\n",
       "      <td>2001</td>\n",
       "      <td>1.7</td>\n",
       "    </tr>\n",
       "    <tr>\n",
       "      <th>2</th>\n",
       "      <td>Ohio</td>\n",
       "      <td>2002</td>\n",
       "      <td>3.6</td>\n",
       "    </tr>\n",
       "    <tr>\n",
       "      <th>3</th>\n",
       "      <td>Nevada</td>\n",
       "      <td>2001</td>\n",
       "      <td>2.4</td>\n",
       "    </tr>\n",
       "    <tr>\n",
       "      <th>4</th>\n",
       "      <td>Nevada</td>\n",
       "      <td>2002</td>\n",
       "      <td>2.9</td>\n",
       "    </tr>\n",
       "    <tr>\n",
       "      <th>5</th>\n",
       "      <td>Nevada</td>\n",
       "      <td>2003</td>\n",
       "      <td>3.2</td>\n",
       "    </tr>\n",
       "  </tbody>\n",
       "</table>\n",
       "</div>"
      ],
      "text/plain": [
       "    state  year  pop\n",
       "0    Ohio  2000  1.5\n",
       "1    Ohio  2001  1.7\n",
       "2    Ohio  2002  3.6\n",
       "3  Nevada  2001  2.4\n",
       "4  Nevada  2002  2.9\n",
       "5  Nevada  2003  3.2"
      ]
     },
     "execution_count": 52,
     "metadata": {},
     "output_type": "execute_result"
    }
   ],
   "source": [
    "data = {'state': ['Ohio', 'Ohio', 'Ohio', 'Nevada', 'Nevada', 'Nevada'],\n",
    "'year': [2000, 2001, 2002, 2001, 2002, 2003],\n",
    "'pop': [1.5, 1.7, 3.6, 2.4, 2.9, 3.2]}\n",
    "frame = pd.DataFrame(data)\n",
    "frame"
   ]
  },
  {
   "cell_type": "code",
   "execution_count": 53,
   "metadata": {
    "colab": {
     "base_uri": "https://localhost:8080/",
     "height": 204
    },
    "executionInfo": {
     "elapsed": 1123,
     "status": "ok",
     "timestamp": 1606707651390,
     "user": {
      "displayName": "prathviraj shetty",
      "photoUrl": "https://lh3.googleusercontent.com/a-/AOh14GhKody4bMBhr3sFjBRSMtPKerrzBoUK7stNKBFvrA=s64",
      "userId": "03618971057838723327"
     },
     "user_tz": -330
    },
    "id": "2easp84gKdZ2",
    "outputId": "8fbf6d35-7a5c-4ba4-cec7-d3333fea6a68"
   },
   "outputs": [
    {
     "data": {
      "text/html": [
       "<div>\n",
       "<style scoped>\n",
       "    .dataframe tbody tr th:only-of-type {\n",
       "        vertical-align: middle;\n",
       "    }\n",
       "\n",
       "    .dataframe tbody tr th {\n",
       "        vertical-align: top;\n",
       "    }\n",
       "\n",
       "    .dataframe thead th {\n",
       "        text-align: right;\n",
       "    }\n",
       "</style>\n",
       "<table border=\"1\" class=\"dataframe\">\n",
       "  <thead>\n",
       "    <tr style=\"text-align: right;\">\n",
       "      <th></th>\n",
       "      <th>state</th>\n",
       "      <th>year</th>\n",
       "      <th>pop</th>\n",
       "    </tr>\n",
       "  </thead>\n",
       "  <tbody>\n",
       "    <tr>\n",
       "      <th>1</th>\n",
       "      <td>Ohio</td>\n",
       "      <td>2001</td>\n",
       "      <td>1.7</td>\n",
       "    </tr>\n",
       "    <tr>\n",
       "      <th>2</th>\n",
       "      <td>Ohio</td>\n",
       "      <td>2002</td>\n",
       "      <td>3.6</td>\n",
       "    </tr>\n",
       "    <tr>\n",
       "      <th>3</th>\n",
       "      <td>Nevada</td>\n",
       "      <td>2001</td>\n",
       "      <td>2.4</td>\n",
       "    </tr>\n",
       "    <tr>\n",
       "      <th>4</th>\n",
       "      <td>Nevada</td>\n",
       "      <td>2002</td>\n",
       "      <td>2.9</td>\n",
       "    </tr>\n",
       "    <tr>\n",
       "      <th>5</th>\n",
       "      <td>Nevada</td>\n",
       "      <td>2003</td>\n",
       "      <td>3.2</td>\n",
       "    </tr>\n",
       "  </tbody>\n",
       "</table>\n",
       "</div>"
      ],
      "text/plain": [
       "    state  year  pop\n",
       "1    Ohio  2001  1.7\n",
       "2    Ohio  2002  3.6\n",
       "3  Nevada  2001  2.4\n",
       "4  Nevada  2002  2.9\n",
       "5  Nevada  2003  3.2"
      ]
     },
     "execution_count": 53,
     "metadata": {},
     "output_type": "execute_result"
    }
   ],
   "source": [
    "In [46]: frame.tail()"
   ]
  },
  {
   "cell_type": "code",
   "execution_count": 58,
   "metadata": {
    "colab": {
     "base_uri": "https://localhost:8080/",
     "height": 235
    },
    "executionInfo": {
     "elapsed": 1004,
     "status": "ok",
     "timestamp": 1606707764820,
     "user": {
      "displayName": "prathviraj shetty",
      "photoUrl": "https://lh3.googleusercontent.com/a-/AOh14GhKody4bMBhr3sFjBRSMtPKerrzBoUK7stNKBFvrA=s64",
      "userId": "03618971057838723327"
     },
     "user_tz": -330
    },
    "id": "A9j4C1J3KgcL",
    "outputId": "7f6424e2-f6ee-4183-a474-9dcb78fc9f28"
   },
   "outputs": [
    {
     "data": {
      "text/html": [
       "<div>\n",
       "<style scoped>\n",
       "    .dataframe tbody tr th:only-of-type {\n",
       "        vertical-align: middle;\n",
       "    }\n",
       "\n",
       "    .dataframe tbody tr th {\n",
       "        vertical-align: top;\n",
       "    }\n",
       "\n",
       "    .dataframe thead th {\n",
       "        text-align: right;\n",
       "    }\n",
       "</style>\n",
       "<table border=\"1\" class=\"dataframe\">\n",
       "  <thead>\n",
       "    <tr style=\"text-align: right;\">\n",
       "      <th></th>\n",
       "      <th>pop</th>\n",
       "      <th>state</th>\n",
       "      <th>year</th>\n",
       "    </tr>\n",
       "  </thead>\n",
       "  <tbody>\n",
       "    <tr>\n",
       "      <th>0</th>\n",
       "      <td>1.5</td>\n",
       "      <td>Ohio</td>\n",
       "      <td>2000</td>\n",
       "    </tr>\n",
       "    <tr>\n",
       "      <th>1</th>\n",
       "      <td>1.7</td>\n",
       "      <td>Ohio</td>\n",
       "      <td>2001</td>\n",
       "    </tr>\n",
       "    <tr>\n",
       "      <th>2</th>\n",
       "      <td>3.6</td>\n",
       "      <td>Ohio</td>\n",
       "      <td>2002</td>\n",
       "    </tr>\n",
       "    <tr>\n",
       "      <th>3</th>\n",
       "      <td>2.4</td>\n",
       "      <td>Nevada</td>\n",
       "      <td>2001</td>\n",
       "    </tr>\n",
       "    <tr>\n",
       "      <th>4</th>\n",
       "      <td>2.9</td>\n",
       "      <td>Nevada</td>\n",
       "      <td>2002</td>\n",
       "    </tr>\n",
       "    <tr>\n",
       "      <th>5</th>\n",
       "      <td>3.2</td>\n",
       "      <td>Nevada</td>\n",
       "      <td>2003</td>\n",
       "    </tr>\n",
       "  </tbody>\n",
       "</table>\n",
       "</div>"
      ],
      "text/plain": [
       "   pop   state  year\n",
       "0  1.5    Ohio  2000\n",
       "1  1.7    Ohio  2001\n",
       "2  3.6    Ohio  2002\n",
       "3  2.4  Nevada  2001\n",
       "4  2.9  Nevada  2002\n",
       "5  3.2  Nevada  2003"
      ]
     },
     "execution_count": 58,
     "metadata": {},
     "output_type": "execute_result"
    }
   ],
   "source": [
    "In [47]: pd.DataFrame(data, columns=['pop', 'state', 'year'])"
   ]
  },
  {
   "cell_type": "code",
   "execution_count": 61,
   "metadata": {
    "id": "iMftPr2cKw0e"
   },
   "outputs": [],
   "source": [
    "In [48]: frame2 = pd.DataFrame(data, columns=['year', 'state', 'debt', 'pop'],\n",
    "....: index=['one', 'two', 'three', 'four', 'five', 'six'])"
   ]
  },
  {
   "cell_type": "code",
   "execution_count": 62,
   "metadata": {
    "colab": {
     "base_uri": "https://localhost:8080/",
     "height": 235
    },
    "executionInfo": {
     "elapsed": 1019,
     "status": "ok",
     "timestamp": 1606707946433,
     "user": {
      "displayName": "prathviraj shetty",
      "photoUrl": "https://lh3.googleusercontent.com/a-/AOh14GhKody4bMBhr3sFjBRSMtPKerrzBoUK7stNKBFvrA=s64",
      "userId": "03618971057838723327"
     },
     "user_tz": -330
    },
    "id": "9uH3ZNJtLQII",
    "outputId": "e437673d-c8fd-4906-b2e2-402e51438442"
   },
   "outputs": [
    {
     "data": {
      "text/html": [
       "<div>\n",
       "<style scoped>\n",
       "    .dataframe tbody tr th:only-of-type {\n",
       "        vertical-align: middle;\n",
       "    }\n",
       "\n",
       "    .dataframe tbody tr th {\n",
       "        vertical-align: top;\n",
       "    }\n",
       "\n",
       "    .dataframe thead th {\n",
       "        text-align: right;\n",
       "    }\n",
       "</style>\n",
       "<table border=\"1\" class=\"dataframe\">\n",
       "  <thead>\n",
       "    <tr style=\"text-align: right;\">\n",
       "      <th></th>\n",
       "      <th>year</th>\n",
       "      <th>state</th>\n",
       "      <th>debt</th>\n",
       "      <th>pop</th>\n",
       "    </tr>\n",
       "  </thead>\n",
       "  <tbody>\n",
       "    <tr>\n",
       "      <th>one</th>\n",
       "      <td>2000</td>\n",
       "      <td>Ohio</td>\n",
       "      <td>NaN</td>\n",
       "      <td>1.5</td>\n",
       "    </tr>\n",
       "    <tr>\n",
       "      <th>two</th>\n",
       "      <td>2001</td>\n",
       "      <td>Ohio</td>\n",
       "      <td>NaN</td>\n",
       "      <td>1.7</td>\n",
       "    </tr>\n",
       "    <tr>\n",
       "      <th>three</th>\n",
       "      <td>2002</td>\n",
       "      <td>Ohio</td>\n",
       "      <td>NaN</td>\n",
       "      <td>3.6</td>\n",
       "    </tr>\n",
       "    <tr>\n",
       "      <th>four</th>\n",
       "      <td>2001</td>\n",
       "      <td>Nevada</td>\n",
       "      <td>NaN</td>\n",
       "      <td>2.4</td>\n",
       "    </tr>\n",
       "    <tr>\n",
       "      <th>five</th>\n",
       "      <td>2002</td>\n",
       "      <td>Nevada</td>\n",
       "      <td>NaN</td>\n",
       "      <td>2.9</td>\n",
       "    </tr>\n",
       "    <tr>\n",
       "      <th>six</th>\n",
       "      <td>2003</td>\n",
       "      <td>Nevada</td>\n",
       "      <td>NaN</td>\n",
       "      <td>3.2</td>\n",
       "    </tr>\n",
       "  </tbody>\n",
       "</table>\n",
       "</div>"
      ],
      "text/plain": [
       "       year   state debt  pop\n",
       "one    2000    Ohio  NaN  1.5\n",
       "two    2001    Ohio  NaN  1.7\n",
       "three  2002    Ohio  NaN  3.6\n",
       "four   2001  Nevada  NaN  2.4\n",
       "five   2002  Nevada  NaN  2.9\n",
       "six    2003  Nevada  NaN  3.2"
      ]
     },
     "execution_count": 62,
     "metadata": {},
     "output_type": "execute_result"
    }
   ],
   "source": [
    "frame2"
   ]
  },
  {
   "cell_type": "code",
   "execution_count": 63,
   "metadata": {
    "colab": {
     "base_uri": "https://localhost:8080/"
    },
    "executionInfo": {
     "elapsed": 999,
     "status": "ok",
     "timestamp": 1606707980057,
     "user": {
      "displayName": "prathviraj shetty",
      "photoUrl": "https://lh3.googleusercontent.com/a-/AOh14GhKody4bMBhr3sFjBRSMtPKerrzBoUK7stNKBFvrA=s64",
      "userId": "03618971057838723327"
     },
     "user_tz": -330
    },
    "id": "4BVlLDKQLW1a",
    "outputId": "5701ed0e-3f9a-4576-dd6f-9d98d4175d60"
   },
   "outputs": [
    {
     "data": {
      "text/plain": [
       "Index(['year', 'state', 'debt', 'pop'], dtype='object')"
      ]
     },
     "execution_count": 63,
     "metadata": {},
     "output_type": "execute_result"
    }
   ],
   "source": [
    "frame2.columns"
   ]
  },
  {
   "cell_type": "code",
   "execution_count": 64,
   "metadata": {
    "colab": {
     "base_uri": "https://localhost:8080/"
    },
    "executionInfo": {
     "elapsed": 1090,
     "status": "ok",
     "timestamp": 1606708065708,
     "user": {
      "displayName": "prathviraj shetty",
      "photoUrl": "https://lh3.googleusercontent.com/a-/AOh14GhKody4bMBhr3sFjBRSMtPKerrzBoUK7stNKBFvrA=s64",
      "userId": "03618971057838723327"
     },
     "user_tz": -330
    },
    "id": "NwUSw62iLyr9",
    "outputId": "ef7af4e2-8469-4b5a-dfea-351a5de2a220"
   },
   "outputs": [
    {
     "data": {
      "text/plain": [
       "one        Ohio\n",
       "two        Ohio\n",
       "three      Ohio\n",
       "four     Nevada\n",
       "five     Nevada\n",
       "six      Nevada\n",
       "Name: state, dtype: object"
      ]
     },
     "execution_count": 64,
     "metadata": {},
     "output_type": "execute_result"
    }
   ],
   "source": [
    "In [51]: frame2['state']"
   ]
  },
  {
   "cell_type": "code",
   "execution_count": 65,
   "metadata": {
    "colab": {
     "base_uri": "https://localhost:8080/"
    },
    "executionInfo": {
     "elapsed": 1207,
     "status": "ok",
     "timestamp": 1606708106368,
     "user": {
      "displayName": "prathviraj shetty",
      "photoUrl": "https://lh3.googleusercontent.com/a-/AOh14GhKody4bMBhr3sFjBRSMtPKerrzBoUK7stNKBFvrA=s64",
      "userId": "03618971057838723327"
     },
     "user_tz": -330
    },
    "id": "IK_jQ4HeL5wI",
    "outputId": "c57c19e5-9a41-484b-9d94-fb9d46ad3647"
   },
   "outputs": [
    {
     "data": {
      "text/plain": [
       "one      NaN\n",
       "two      NaN\n",
       "three    NaN\n",
       "four     NaN\n",
       "five     NaN\n",
       "six      NaN\n",
       "Name: debt, dtype: object"
      ]
     },
     "execution_count": 65,
     "metadata": {},
     "output_type": "execute_result"
    }
   ],
   "source": [
    "In [52]: frame2.debt"
   ]
  },
  {
   "cell_type": "code",
   "execution_count": 66,
   "metadata": {
    "colab": {
     "base_uri": "https://localhost:8080/"
    },
    "executionInfo": {
     "elapsed": 1099,
     "status": "ok",
     "timestamp": 1606708135444,
     "user": {
      "displayName": "prathviraj shetty",
      "photoUrl": "https://lh3.googleusercontent.com/a-/AOh14GhKody4bMBhr3sFjBRSMtPKerrzBoUK7stNKBFvrA=s64",
      "userId": "03618971057838723327"
     },
     "user_tz": -330
    },
    "id": "ZFMnJQH_Mj24",
    "outputId": "a8807589-c1f3-4f30-c402-0067a12b9f6c"
   },
   "outputs": [
    {
     "data": {
      "text/plain": [
       "year     2002\n",
       "state    Ohio\n",
       "debt      NaN\n",
       "pop       3.6\n",
       "Name: three, dtype: object"
      ]
     },
     "execution_count": 66,
     "metadata": {},
     "output_type": "execute_result"
    }
   ],
   "source": [
    "In [53]: frame2.loc['three']"
   ]
  },
  {
   "cell_type": "code",
   "execution_count": 96,
   "metadata": {
    "colab": {
     "base_uri": "https://localhost:8080/",
     "height": 235
    },
    "executionInfo": {
     "elapsed": 1011,
     "status": "ok",
     "timestamp": 1606708230518,
     "user": {
      "displayName": "prathviraj shetty",
      "photoUrl": "https://lh3.googleusercontent.com/a-/AOh14GhKody4bMBhr3sFjBRSMtPKerrzBoUK7stNKBFvrA=s64",
      "userId": "03618971057838723327"
     },
     "user_tz": -330
    },
    "id": "j5kVRu3AMn6J",
    "outputId": "79cd7ebe-fabc-45fe-f56c-f9d803ffef55"
   },
   "outputs": [
    {
     "data": {
      "text/html": [
       "<div>\n",
       "<style scoped>\n",
       "    .dataframe tbody tr th:only-of-type {\n",
       "        vertical-align: middle;\n",
       "    }\n",
       "\n",
       "    .dataframe tbody tr th {\n",
       "        vertical-align: top;\n",
       "    }\n",
       "\n",
       "    .dataframe thead th {\n",
       "        text-align: right;\n",
       "    }\n",
       "</style>\n",
       "<table border=\"1\" class=\"dataframe\">\n",
       "  <thead>\n",
       "    <tr style=\"text-align: right;\">\n",
       "      <th></th>\n",
       "      <th>year</th>\n",
       "      <th>state</th>\n",
       "      <th>debt</th>\n",
       "      <th>pop</th>\n",
       "    </tr>\n",
       "  </thead>\n",
       "  <tbody>\n",
       "    <tr>\n",
       "      <th>one</th>\n",
       "      <td>2000</td>\n",
       "      <td>Ohio</td>\n",
       "      <td>16.5</td>\n",
       "      <td>1.5</td>\n",
       "    </tr>\n",
       "    <tr>\n",
       "      <th>two</th>\n",
       "      <td>2001</td>\n",
       "      <td>Ohio</td>\n",
       "      <td>16.5</td>\n",
       "      <td>1.7</td>\n",
       "    </tr>\n",
       "    <tr>\n",
       "      <th>three</th>\n",
       "      <td>2002</td>\n",
       "      <td>Ohio</td>\n",
       "      <td>16.5</td>\n",
       "      <td>3.6</td>\n",
       "    </tr>\n",
       "    <tr>\n",
       "      <th>four</th>\n",
       "      <td>2001</td>\n",
       "      <td>Nevada</td>\n",
       "      <td>16.5</td>\n",
       "      <td>2.4</td>\n",
       "    </tr>\n",
       "    <tr>\n",
       "      <th>five</th>\n",
       "      <td>2002</td>\n",
       "      <td>Nevada</td>\n",
       "      <td>16.5</td>\n",
       "      <td>2.9</td>\n",
       "    </tr>\n",
       "    <tr>\n",
       "      <th>six</th>\n",
       "      <td>2003</td>\n",
       "      <td>Nevada</td>\n",
       "      <td>16.5</td>\n",
       "      <td>3.2</td>\n",
       "    </tr>\n",
       "  </tbody>\n",
       "</table>\n",
       "</div>"
      ],
      "text/plain": [
       "       year   state  debt  pop\n",
       "one    2000    Ohio  16.5  1.5\n",
       "two    2001    Ohio  16.5  1.7\n",
       "three  2002    Ohio  16.5  3.6\n",
       "four   2001  Nevada  16.5  2.4\n",
       "five   2002  Nevada  16.5  2.9\n",
       "six    2003  Nevada  16.5  3.2"
      ]
     },
     "execution_count": 96,
     "metadata": {},
     "output_type": "execute_result"
    }
   ],
   "source": [
    "In [54]: frame2['debt'] = 16.5\n",
    "In [55]: frame2"
   ]
  },
  {
   "cell_type": "code",
   "execution_count": 97,
   "metadata": {
    "colab": {
     "base_uri": "https://localhost:8080/",
     "height": 235
    },
    "executionInfo": {
     "elapsed": 1197,
     "status": "ok",
     "timestamp": 1606708259408,
     "user": {
      "displayName": "prathviraj shetty",
      "photoUrl": "https://lh3.googleusercontent.com/a-/AOh14GhKody4bMBhr3sFjBRSMtPKerrzBoUK7stNKBFvrA=s64",
      "userId": "03618971057838723327"
     },
     "user_tz": -330
    },
    "id": "4jrDG_a6MwRb",
    "outputId": "d9914dc1-2ef1-4a9a-c2a9-e48777343776"
   },
   "outputs": [
    {
     "data": {
      "text/html": [
       "<div>\n",
       "<style scoped>\n",
       "    .dataframe tbody tr th:only-of-type {\n",
       "        vertical-align: middle;\n",
       "    }\n",
       "\n",
       "    .dataframe tbody tr th {\n",
       "        vertical-align: top;\n",
       "    }\n",
       "\n",
       "    .dataframe thead th {\n",
       "        text-align: right;\n",
       "    }\n",
       "</style>\n",
       "<table border=\"1\" class=\"dataframe\">\n",
       "  <thead>\n",
       "    <tr style=\"text-align: right;\">\n",
       "      <th></th>\n",
       "      <th>year</th>\n",
       "      <th>state</th>\n",
       "      <th>debt</th>\n",
       "      <th>pop</th>\n",
       "    </tr>\n",
       "  </thead>\n",
       "  <tbody>\n",
       "    <tr>\n",
       "      <th>one</th>\n",
       "      <td>2000</td>\n",
       "      <td>Ohio</td>\n",
       "      <td>0.0</td>\n",
       "      <td>1.5</td>\n",
       "    </tr>\n",
       "    <tr>\n",
       "      <th>two</th>\n",
       "      <td>2001</td>\n",
       "      <td>Ohio</td>\n",
       "      <td>1.0</td>\n",
       "      <td>1.7</td>\n",
       "    </tr>\n",
       "    <tr>\n",
       "      <th>three</th>\n",
       "      <td>2002</td>\n",
       "      <td>Ohio</td>\n",
       "      <td>2.0</td>\n",
       "      <td>3.6</td>\n",
       "    </tr>\n",
       "    <tr>\n",
       "      <th>four</th>\n",
       "      <td>2001</td>\n",
       "      <td>Nevada</td>\n",
       "      <td>3.0</td>\n",
       "      <td>2.4</td>\n",
       "    </tr>\n",
       "    <tr>\n",
       "      <th>five</th>\n",
       "      <td>2002</td>\n",
       "      <td>Nevada</td>\n",
       "      <td>4.0</td>\n",
       "      <td>2.9</td>\n",
       "    </tr>\n",
       "    <tr>\n",
       "      <th>six</th>\n",
       "      <td>2003</td>\n",
       "      <td>Nevada</td>\n",
       "      <td>5.0</td>\n",
       "      <td>3.2</td>\n",
       "    </tr>\n",
       "  </tbody>\n",
       "</table>\n",
       "</div>"
      ],
      "text/plain": [
       "       year   state  debt  pop\n",
       "one    2000    Ohio   0.0  1.5\n",
       "two    2001    Ohio   1.0  1.7\n",
       "three  2002    Ohio   2.0  3.6\n",
       "four   2001  Nevada   3.0  2.4\n",
       "five   2002  Nevada   4.0  2.9\n",
       "six    2003  Nevada   5.0  3.2"
      ]
     },
     "execution_count": 97,
     "metadata": {},
     "output_type": "execute_result"
    }
   ],
   "source": [
    "import numpy as np\n",
    "In [56]: frame2['debt'] = np.arange(6.0)\n",
    "In [57]: frame2"
   ]
  },
  {
   "cell_type": "code",
   "execution_count": 98,
   "metadata": {
    "colab": {
     "base_uri": "https://localhost:8080/",
     "height": 235
    },
    "executionInfo": {
     "elapsed": 3510,
     "status": "ok",
     "timestamp": 1606708399443,
     "user": {
      "displayName": "prathviraj shetty",
      "photoUrl": "https://lh3.googleusercontent.com/a-/AOh14GhKody4bMBhr3sFjBRSMtPKerrzBoUK7stNKBFvrA=s64",
      "userId": "03618971057838723327"
     },
     "user_tz": -330
    },
    "id": "ozA6a8nANRMG",
    "outputId": "88067da3-3c80-45e8-9a88-fc4413e07106"
   },
   "outputs": [
    {
     "data": {
      "text/html": [
       "<div>\n",
       "<style scoped>\n",
       "    .dataframe tbody tr th:only-of-type {\n",
       "        vertical-align: middle;\n",
       "    }\n",
       "\n",
       "    .dataframe tbody tr th {\n",
       "        vertical-align: top;\n",
       "    }\n",
       "\n",
       "    .dataframe thead th {\n",
       "        text-align: right;\n",
       "    }\n",
       "</style>\n",
       "<table border=\"1\" class=\"dataframe\">\n",
       "  <thead>\n",
       "    <tr style=\"text-align: right;\">\n",
       "      <th></th>\n",
       "      <th>year</th>\n",
       "      <th>state</th>\n",
       "      <th>debt</th>\n",
       "      <th>pop</th>\n",
       "    </tr>\n",
       "  </thead>\n",
       "  <tbody>\n",
       "    <tr>\n",
       "      <th>one</th>\n",
       "      <td>2000</td>\n",
       "      <td>Ohio</td>\n",
       "      <td>NaN</td>\n",
       "      <td>1.5</td>\n",
       "    </tr>\n",
       "    <tr>\n",
       "      <th>two</th>\n",
       "      <td>2001</td>\n",
       "      <td>Ohio</td>\n",
       "      <td>-1.2</td>\n",
       "      <td>1.7</td>\n",
       "    </tr>\n",
       "    <tr>\n",
       "      <th>three</th>\n",
       "      <td>2002</td>\n",
       "      <td>Ohio</td>\n",
       "      <td>NaN</td>\n",
       "      <td>3.6</td>\n",
       "    </tr>\n",
       "    <tr>\n",
       "      <th>four</th>\n",
       "      <td>2001</td>\n",
       "      <td>Nevada</td>\n",
       "      <td>-1.5</td>\n",
       "      <td>2.4</td>\n",
       "    </tr>\n",
       "    <tr>\n",
       "      <th>five</th>\n",
       "      <td>2002</td>\n",
       "      <td>Nevada</td>\n",
       "      <td>-1.7</td>\n",
       "      <td>2.9</td>\n",
       "    </tr>\n",
       "    <tr>\n",
       "      <th>six</th>\n",
       "      <td>2003</td>\n",
       "      <td>Nevada</td>\n",
       "      <td>NaN</td>\n",
       "      <td>3.2</td>\n",
       "    </tr>\n",
       "  </tbody>\n",
       "</table>\n",
       "</div>"
      ],
      "text/plain": [
       "       year   state  debt  pop\n",
       "one    2000    Ohio   NaN  1.5\n",
       "two    2001    Ohio  -1.2  1.7\n",
       "three  2002    Ohio   NaN  3.6\n",
       "four   2001  Nevada  -1.5  2.4\n",
       "five   2002  Nevada  -1.7  2.9\n",
       "six    2003  Nevada   NaN  3.2"
      ]
     },
     "execution_count": 98,
     "metadata": {},
     "output_type": "execute_result"
    }
   ],
   "source": [
    "In [58]: val = pd.Series([-1.2, -1.5, -1.7], index=['two', 'four', 'five'])\n",
    "In [59]: frame2['debt'] = val\n",
    "In [60]: frame2"
   ]
  },
  {
   "cell_type": "code",
   "execution_count": 99,
   "metadata": {
    "colab": {
     "base_uri": "https://localhost:8080/",
     "height": 235
    },
    "executionInfo": {
     "elapsed": 1144,
     "status": "ok",
     "timestamp": 1606708811590,
     "user": {
      "displayName": "prathviraj shetty",
      "photoUrl": "https://lh3.googleusercontent.com/a-/AOh14GhKody4bMBhr3sFjBRSMtPKerrzBoUK7stNKBFvrA=s64",
      "userId": "03618971057838723327"
     },
     "user_tz": -330
    },
    "id": "-HhGuWd9ONQV",
    "outputId": "93577c39-31e7-4ff6-a377-6e2bbfb7fe77"
   },
   "outputs": [
    {
     "data": {
      "text/html": [
       "<div>\n",
       "<style scoped>\n",
       "    .dataframe tbody tr th:only-of-type {\n",
       "        vertical-align: middle;\n",
       "    }\n",
       "\n",
       "    .dataframe tbody tr th {\n",
       "        vertical-align: top;\n",
       "    }\n",
       "\n",
       "    .dataframe thead th {\n",
       "        text-align: right;\n",
       "    }\n",
       "</style>\n",
       "<table border=\"1\" class=\"dataframe\">\n",
       "  <thead>\n",
       "    <tr style=\"text-align: right;\">\n",
       "      <th></th>\n",
       "      <th>year</th>\n",
       "      <th>state</th>\n",
       "      <th>debt</th>\n",
       "      <th>pop</th>\n",
       "      <th>eastern</th>\n",
       "    </tr>\n",
       "  </thead>\n",
       "  <tbody>\n",
       "    <tr>\n",
       "      <th>one</th>\n",
       "      <td>2000</td>\n",
       "      <td>Ohio</td>\n",
       "      <td>NaN</td>\n",
       "      <td>1.5</td>\n",
       "      <td>True</td>\n",
       "    </tr>\n",
       "    <tr>\n",
       "      <th>two</th>\n",
       "      <td>2001</td>\n",
       "      <td>Ohio</td>\n",
       "      <td>-1.2</td>\n",
       "      <td>1.7</td>\n",
       "      <td>True</td>\n",
       "    </tr>\n",
       "    <tr>\n",
       "      <th>three</th>\n",
       "      <td>2002</td>\n",
       "      <td>Ohio</td>\n",
       "      <td>NaN</td>\n",
       "      <td>3.6</td>\n",
       "      <td>True</td>\n",
       "    </tr>\n",
       "    <tr>\n",
       "      <th>four</th>\n",
       "      <td>2001</td>\n",
       "      <td>Nevada</td>\n",
       "      <td>-1.5</td>\n",
       "      <td>2.4</td>\n",
       "      <td>False</td>\n",
       "    </tr>\n",
       "    <tr>\n",
       "      <th>five</th>\n",
       "      <td>2002</td>\n",
       "      <td>Nevada</td>\n",
       "      <td>-1.7</td>\n",
       "      <td>2.9</td>\n",
       "      <td>False</td>\n",
       "    </tr>\n",
       "    <tr>\n",
       "      <th>six</th>\n",
       "      <td>2003</td>\n",
       "      <td>Nevada</td>\n",
       "      <td>NaN</td>\n",
       "      <td>3.2</td>\n",
       "      <td>False</td>\n",
       "    </tr>\n",
       "  </tbody>\n",
       "</table>\n",
       "</div>"
      ],
      "text/plain": [
       "       year   state  debt  pop  eastern\n",
       "one    2000    Ohio   NaN  1.5     True\n",
       "two    2001    Ohio  -1.2  1.7     True\n",
       "three  2002    Ohio   NaN  3.6     True\n",
       "four   2001  Nevada  -1.5  2.4    False\n",
       "five   2002  Nevada  -1.7  2.9    False\n",
       "six    2003  Nevada   NaN  3.2    False"
      ]
     },
     "execution_count": 99,
     "metadata": {},
     "output_type": "execute_result"
    }
   ],
   "source": [
    "In [61]: frame2['eastern'] = frame2.state == 'Ohio'\n",
    "frame2"
   ]
  },
  {
   "cell_type": "code",
   "execution_count": 100,
   "metadata": {
    "colab": {
     "base_uri": "https://localhost:8080/"
    },
    "executionInfo": {
     "elapsed": 1126,
     "status": "ok",
     "timestamp": 1606708846494,
     "user": {
      "displayName": "prathviraj shetty",
      "photoUrl": "https://lh3.googleusercontent.com/a-/AOh14GhKody4bMBhr3sFjBRSMtPKerrzBoUK7stNKBFvrA=s64",
      "userId": "03618971057838723327"
     },
     "user_tz": -330
    },
    "id": "CUG0NNZaOdgy",
    "outputId": "9bef7f65-0fc5-47e8-e816-34eab0edb2e9"
   },
   "outputs": [
    {
     "data": {
      "text/html": [
       "<div>\n",
       "<style scoped>\n",
       "    .dataframe tbody tr th:only-of-type {\n",
       "        vertical-align: middle;\n",
       "    }\n",
       "\n",
       "    .dataframe tbody tr th {\n",
       "        vertical-align: top;\n",
       "    }\n",
       "\n",
       "    .dataframe thead th {\n",
       "        text-align: right;\n",
       "    }\n",
       "</style>\n",
       "<table border=\"1\" class=\"dataframe\">\n",
       "  <thead>\n",
       "    <tr style=\"text-align: right;\">\n",
       "      <th></th>\n",
       "      <th>year</th>\n",
       "      <th>state</th>\n",
       "      <th>debt</th>\n",
       "      <th>pop</th>\n",
       "    </tr>\n",
       "  </thead>\n",
       "  <tbody>\n",
       "    <tr>\n",
       "      <th>one</th>\n",
       "      <td>2000</td>\n",
       "      <td>Ohio</td>\n",
       "      <td>NaN</td>\n",
       "      <td>1.5</td>\n",
       "    </tr>\n",
       "    <tr>\n",
       "      <th>two</th>\n",
       "      <td>2001</td>\n",
       "      <td>Ohio</td>\n",
       "      <td>-1.2</td>\n",
       "      <td>1.7</td>\n",
       "    </tr>\n",
       "    <tr>\n",
       "      <th>three</th>\n",
       "      <td>2002</td>\n",
       "      <td>Ohio</td>\n",
       "      <td>NaN</td>\n",
       "      <td>3.6</td>\n",
       "    </tr>\n",
       "    <tr>\n",
       "      <th>four</th>\n",
       "      <td>2001</td>\n",
       "      <td>Nevada</td>\n",
       "      <td>-1.5</td>\n",
       "      <td>2.4</td>\n",
       "    </tr>\n",
       "    <tr>\n",
       "      <th>five</th>\n",
       "      <td>2002</td>\n",
       "      <td>Nevada</td>\n",
       "      <td>-1.7</td>\n",
       "      <td>2.9</td>\n",
       "    </tr>\n",
       "    <tr>\n",
       "      <th>six</th>\n",
       "      <td>2003</td>\n",
       "      <td>Nevada</td>\n",
       "      <td>NaN</td>\n",
       "      <td>3.2</td>\n",
       "    </tr>\n",
       "  </tbody>\n",
       "</table>\n",
       "</div>"
      ],
      "text/plain": [
       "       year   state  debt  pop\n",
       "one    2000    Ohio   NaN  1.5\n",
       "two    2001    Ohio  -1.2  1.7\n",
       "three  2002    Ohio   NaN  3.6\n",
       "four   2001  Nevada  -1.5  2.4\n",
       "five   2002  Nevada  -1.7  2.9\n",
       "six    2003  Nevada   NaN  3.2"
      ]
     },
     "execution_count": 100,
     "metadata": {},
     "output_type": "execute_result"
    }
   ],
   "source": [
    "In [63]: del frame2['eastern']\n",
    "In [64]: frame2"
   ]
  },
  {
   "cell_type": "code",
   "execution_count": 102,
   "metadata": {
    "colab": {
     "base_uri": "https://localhost:8080/"
    },
    "executionInfo": {
     "elapsed": 1244,
     "status": "ok",
     "timestamp": 1607485282947,
     "user": {
      "displayName": "prathviraj shetty",
      "photoUrl": "https://lh3.googleusercontent.com/a-/AOh14GhKody4bMBhr3sFjBRSMtPKerrzBoUK7stNKBFvrA=s64",
      "userId": "03618971057838723327"
     },
     "user_tz": -330
    },
    "id": "cCjnz7mDp9Jw",
    "outputId": "254437dd-e93f-484c-b7e7-011bf5466684"
   },
   "outputs": [
    {
     "data": {
      "text/plain": [
       "True"
      ]
     },
     "execution_count": 102,
     "metadata": {},
     "output_type": "execute_result"
    }
   ],
   "source": [
    "In [87]: 'pop' in frame2.columns"
   ]
  },
  {
   "cell_type": "code",
   "execution_count": 83,
   "metadata": {
    "colab": {
     "base_uri": "https://localhost:8080/",
     "height": 142
    },
    "executionInfo": {
     "elapsed": 1210,
     "status": "ok",
     "timestamp": 1607484748311,
     "user": {
      "displayName": "prathviraj shetty",
      "photoUrl": "https://lh3.googleusercontent.com/a-/AOh14GhKody4bMBhr3sFjBRSMtPKerrzBoUK7stNKBFvrA=s64",
      "userId": "03618971057838723327"
     },
     "user_tz": -330
    },
    "id": "JpwkJetqileQ",
    "outputId": "8b0f849c-bf07-4d76-8193-e2639b76207f"
   },
   "outputs": [
    {
     "data": {
      "text/html": [
       "<div>\n",
       "<style scoped>\n",
       "    .dataframe tbody tr th:only-of-type {\n",
       "        vertical-align: middle;\n",
       "    }\n",
       "\n",
       "    .dataframe tbody tr th {\n",
       "        vertical-align: top;\n",
       "    }\n",
       "\n",
       "    .dataframe thead th {\n",
       "        text-align: right;\n",
       "    }\n",
       "</style>\n",
       "<table border=\"1\" class=\"dataframe\">\n",
       "  <thead>\n",
       "    <tr style=\"text-align: right;\">\n",
       "      <th></th>\n",
       "      <th>Nevada</th>\n",
       "      <th>Ohio</th>\n",
       "    </tr>\n",
       "  </thead>\n",
       "  <tbody>\n",
       "    <tr>\n",
       "      <th>2001</th>\n",
       "      <td>2.4</td>\n",
       "      <td>1.7</td>\n",
       "    </tr>\n",
       "    <tr>\n",
       "      <th>2002</th>\n",
       "      <td>2.9</td>\n",
       "      <td>3.6</td>\n",
       "    </tr>\n",
       "    <tr>\n",
       "      <th>2000</th>\n",
       "      <td>NaN</td>\n",
       "      <td>1.5</td>\n",
       "    </tr>\n",
       "  </tbody>\n",
       "</table>\n",
       "</div>"
      ],
      "text/plain": [
       "      Nevada  Ohio\n",
       "2001     2.4   1.7\n",
       "2002     2.9   3.6\n",
       "2000     NaN   1.5"
      ]
     },
     "execution_count": 83,
     "metadata": {},
     "output_type": "execute_result"
    }
   ],
   "source": [
    "In [65]: pop = {'Nevada': {2001: 2.4, 2002: 2.9},\n",
    "....: 'Ohio': {2000: 1.5, 2001: 1.7, 2002: 3.6}}\n",
    "In [66]: frame3 = pd.DataFrame(pop)\n",
    "In [67]: frame3"
   ]
  },
  {
   "cell_type": "code",
   "execution_count": 84,
   "metadata": {
    "id": "KDqazzK8jQVK"
   },
   "outputs": [
    {
     "data": {
      "text/html": [
       "<div>\n",
       "<style scoped>\n",
       "    .dataframe tbody tr th:only-of-type {\n",
       "        vertical-align: middle;\n",
       "    }\n",
       "\n",
       "    .dataframe tbody tr th {\n",
       "        vertical-align: top;\n",
       "    }\n",
       "\n",
       "    .dataframe thead th {\n",
       "        text-align: right;\n",
       "    }\n",
       "</style>\n",
       "<table border=\"1\" class=\"dataframe\">\n",
       "  <thead>\n",
       "    <tr style=\"text-align: right;\">\n",
       "      <th></th>\n",
       "      <th>2001</th>\n",
       "      <th>2002</th>\n",
       "      <th>2000</th>\n",
       "    </tr>\n",
       "  </thead>\n",
       "  <tbody>\n",
       "    <tr>\n",
       "      <th>Nevada</th>\n",
       "      <td>2.4</td>\n",
       "      <td>2.9</td>\n",
       "      <td>NaN</td>\n",
       "    </tr>\n",
       "    <tr>\n",
       "      <th>Ohio</th>\n",
       "      <td>1.7</td>\n",
       "      <td>3.6</td>\n",
       "      <td>1.5</td>\n",
       "    </tr>\n",
       "  </tbody>\n",
       "</table>\n",
       "</div>"
      ],
      "text/plain": [
       "        2001  2002  2000\n",
       "Nevada   2.4   2.9   NaN\n",
       "Ohio     1.7   3.6   1.5"
      ]
     },
     "execution_count": 84,
     "metadata": {},
     "output_type": "execute_result"
    }
   ],
   "source": [
    "In [68]: frame3.T"
   ]
  },
  {
   "cell_type": "code",
   "execution_count": 85,
   "metadata": {
    "id": "akY5NMnxjUPm"
   },
   "outputs": [
    {
     "data": {
      "text/html": [
       "<div>\n",
       "<style scoped>\n",
       "    .dataframe tbody tr th:only-of-type {\n",
       "        vertical-align: middle;\n",
       "    }\n",
       "\n",
       "    .dataframe tbody tr th {\n",
       "        vertical-align: top;\n",
       "    }\n",
       "\n",
       "    .dataframe thead th {\n",
       "        text-align: right;\n",
       "    }\n",
       "</style>\n",
       "<table border=\"1\" class=\"dataframe\">\n",
       "  <thead>\n",
       "    <tr style=\"text-align: right;\">\n",
       "      <th></th>\n",
       "      <th>Nevada</th>\n",
       "      <th>Ohio</th>\n",
       "    </tr>\n",
       "  </thead>\n",
       "  <tbody>\n",
       "    <tr>\n",
       "      <th>2001</th>\n",
       "      <td>2.4</td>\n",
       "      <td>1.7</td>\n",
       "    </tr>\n",
       "    <tr>\n",
       "      <th>2002</th>\n",
       "      <td>2.9</td>\n",
       "      <td>3.6</td>\n",
       "    </tr>\n",
       "    <tr>\n",
       "      <th>2003</th>\n",
       "      <td>NaN</td>\n",
       "      <td>NaN</td>\n",
       "    </tr>\n",
       "  </tbody>\n",
       "</table>\n",
       "</div>"
      ],
      "text/plain": [
       "      Nevada  Ohio\n",
       "2001     2.4   1.7\n",
       "2002     2.9   3.6\n",
       "2003     NaN   NaN"
      ]
     },
     "execution_count": 85,
     "metadata": {},
     "output_type": "execute_result"
    }
   ],
   "source": [
    "In [69]: pd.DataFrame(pop, index=[2001, 2002, 2003])"
   ]
  },
  {
   "cell_type": "code",
   "execution_count": 86,
   "metadata": {
    "colab": {
     "base_uri": "https://localhost:8080/",
     "height": 111
    },
    "executionInfo": {
     "elapsed": 1093,
     "status": "ok",
     "timestamp": 1606709932933,
     "user": {
      "displayName": "prathviraj shetty",
      "photoUrl": "https://lh3.googleusercontent.com/a-/AOh14GhKody4bMBhr3sFjBRSMtPKerrzBoUK7stNKBFvrA=s64",
      "userId": "03618971057838723327"
     },
     "user_tz": -330
    },
    "id": "da4OGwWykhCY",
    "outputId": "f73bba93-20ca-411e-d974-95c87cf0c6ed"
   },
   "outputs": [
    {
     "data": {
      "text/html": [
       "<div>\n",
       "<style scoped>\n",
       "    .dataframe tbody tr th:only-of-type {\n",
       "        vertical-align: middle;\n",
       "    }\n",
       "\n",
       "    .dataframe tbody tr th {\n",
       "        vertical-align: top;\n",
       "    }\n",
       "\n",
       "    .dataframe thead th {\n",
       "        text-align: right;\n",
       "    }\n",
       "</style>\n",
       "<table border=\"1\" class=\"dataframe\">\n",
       "  <thead>\n",
       "    <tr style=\"text-align: right;\">\n",
       "      <th></th>\n",
       "      <th>Ohio</th>\n",
       "      <th>Nevada</th>\n",
       "    </tr>\n",
       "  </thead>\n",
       "  <tbody>\n",
       "    <tr>\n",
       "      <th>2000</th>\n",
       "      <td>NaN</td>\n",
       "      <td>NaN</td>\n",
       "    </tr>\n",
       "    <tr>\n",
       "      <th>2002</th>\n",
       "      <td>3.6</td>\n",
       "      <td>NaN</td>\n",
       "    </tr>\n",
       "  </tbody>\n",
       "</table>\n",
       "</div>"
      ],
      "text/plain": [
       "      Ohio  Nevada\n",
       "2000   NaN     NaN\n",
       "2002   3.6     NaN"
      ]
     },
     "execution_count": 86,
     "metadata": {},
     "output_type": "execute_result"
    }
   ],
   "source": [
    "In [70]: pdata = {'Ohio': frame3['Ohio'][1:2],\n",
    "....: 'Nevada': frame3['Nevada'][2:3]}\n",
    "In [71]: pd.DataFrame(pdata)"
   ]
  },
  {
   "cell_type": "code",
   "execution_count": 87,
   "metadata": {
    "colab": {
     "base_uri": "https://localhost:8080/",
     "height": 173
    },
    "executionInfo": {
     "elapsed": 1125,
     "status": "ok",
     "timestamp": 1606710220138,
     "user": {
      "displayName": "prathviraj shetty",
      "photoUrl": "https://lh3.googleusercontent.com/a-/AOh14GhKody4bMBhr3sFjBRSMtPKerrzBoUK7stNKBFvrA=s64",
      "userId": "03618971057838723327"
     },
     "user_tz": -330
    },
    "id": "VNKpfUvno-5H",
    "outputId": "1a13c6cc-7755-40ea-a65a-7706ecb10e48"
   },
   "outputs": [
    {
     "data": {
      "text/html": [
       "<div>\n",
       "<style scoped>\n",
       "    .dataframe tbody tr th:only-of-type {\n",
       "        vertical-align: middle;\n",
       "    }\n",
       "\n",
       "    .dataframe tbody tr th {\n",
       "        vertical-align: top;\n",
       "    }\n",
       "\n",
       "    .dataframe thead th {\n",
       "        text-align: right;\n",
       "    }\n",
       "</style>\n",
       "<table border=\"1\" class=\"dataframe\">\n",
       "  <thead>\n",
       "    <tr style=\"text-align: right;\">\n",
       "      <th>state</th>\n",
       "      <th>Nevada</th>\n",
       "      <th>Ohio</th>\n",
       "    </tr>\n",
       "    <tr>\n",
       "      <th>year</th>\n",
       "      <th></th>\n",
       "      <th></th>\n",
       "    </tr>\n",
       "  </thead>\n",
       "  <tbody>\n",
       "    <tr>\n",
       "      <th>2001</th>\n",
       "      <td>2.4</td>\n",
       "      <td>1.7</td>\n",
       "    </tr>\n",
       "    <tr>\n",
       "      <th>2002</th>\n",
       "      <td>2.9</td>\n",
       "      <td>3.6</td>\n",
       "    </tr>\n",
       "    <tr>\n",
       "      <th>2000</th>\n",
       "      <td>NaN</td>\n",
       "      <td>1.5</td>\n",
       "    </tr>\n",
       "  </tbody>\n",
       "</table>\n",
       "</div>"
      ],
      "text/plain": [
       "state  Nevada  Ohio\n",
       "year               \n",
       "2001      2.4   1.7\n",
       "2002      2.9   3.6\n",
       "2000      NaN   1.5"
      ]
     },
     "execution_count": 87,
     "metadata": {},
     "output_type": "execute_result"
    }
   ],
   "source": [
    "In [72]: frame3.index.name = 'year'; frame3.columns.name = 'state'\n",
    "In [73]: frame3"
   ]
  },
  {
   "cell_type": "code",
   "execution_count": 88,
   "metadata": {
    "colab": {
     "base_uri": "https://localhost:8080/"
    },
    "executionInfo": {
     "elapsed": 1303,
     "status": "ok",
     "timestamp": 1606710236916,
     "user": {
      "displayName": "prathviraj shetty",
      "photoUrl": "https://lh3.googleusercontent.com/a-/AOh14GhKody4bMBhr3sFjBRSMtPKerrzBoUK7stNKBFvrA=s64",
      "userId": "03618971057838723327"
     },
     "user_tz": -330
    },
    "id": "p1Tv2mTLpK4k",
    "outputId": "e0a8fc02-a4f8-43b2-d047-f7aa97de478a"
   },
   "outputs": [
    {
     "data": {
      "text/plain": [
       "array([[2.4, 1.7],\n",
       "       [2.9, 3.6],\n",
       "       [nan, 1.5]])"
      ]
     },
     "execution_count": 88,
     "metadata": {},
     "output_type": "execute_result"
    }
   ],
   "source": [
    "In [74]: frame3.values"
   ]
  },
  {
   "cell_type": "markdown",
   "metadata": {
    "id": "NkvlDqROpc_h"
   },
   "source": [
    "**Index Objects**"
   ]
  },
  {
   "cell_type": "code",
   "execution_count": 103,
   "metadata": {
    "colab": {
     "base_uri": "https://localhost:8080/"
    },
    "executionInfo": {
     "elapsed": 1177,
     "status": "ok",
     "timestamp": 1607485190686,
     "user": {
      "displayName": "prathviraj shetty",
      "photoUrl": "https://lh3.googleusercontent.com/a-/AOh14GhKody4bMBhr3sFjBRSMtPKerrzBoUK7stNKBFvrA=s64",
      "userId": "03618971057838723327"
     },
     "user_tz": -330
    },
    "id": "cORv4qn8pjd4",
    "outputId": "d5253220-1b89-4b62-c85f-2fae2858485c"
   },
   "outputs": [
    {
     "data": {
      "text/plain": [
       "Index(['a', 'b', 'c'], dtype='object')"
      ]
     },
     "execution_count": 103,
     "metadata": {},
     "output_type": "execute_result"
    }
   ],
   "source": [
    "In [76]: obj = pd.Series(range(3), index=['a', 'b', 'c'])\n",
    "In [77]: index = obj.index\n",
    "In [78]: index"
   ]
  },
  {
   "cell_type": "code",
   "execution_count": 104,
   "metadata": {
    "colab": {
     "base_uri": "https://localhost:8080/"
    },
    "executionInfo": {
     "elapsed": 1264,
     "status": "ok",
     "timestamp": 1607485218064,
     "user": {
      "displayName": "prathviraj shetty",
      "photoUrl": "https://lh3.googleusercontent.com/a-/AOh14GhKody4bMBhr3sFjBRSMtPKerrzBoUK7stNKBFvrA=s64",
      "userId": "03618971057838723327"
     },
     "user_tz": -330
    },
    "id": "dKsOdeCFp6eg",
    "outputId": "1e89237c-b9c6-4eb5-a0f3-0011fe0d3a74"
   },
   "outputs": [
    {
     "data": {
      "text/plain": [
       "Index(['b', 'c'], dtype='object')"
      ]
     },
     "execution_count": 104,
     "metadata": {},
     "output_type": "execute_result"
    }
   ],
   "source": [
    "In [79]: index[1:]"
   ]
  },
  {
   "cell_type": "code",
   "execution_count": 105,
   "metadata": {
    "colab": {
     "base_uri": "https://localhost:8080/"
    },
    "executionInfo": {
     "elapsed": 1244,
     "status": "ok",
     "timestamp": 1607485282947,
     "user": {
      "displayName": "prathviraj shetty",
      "photoUrl": "https://lh3.googleusercontent.com/a-/AOh14GhKody4bMBhr3sFjBRSMtPKerrzBoUK7stNKBFvrA=s64",
      "userId": "03618971057838723327"
     },
     "user_tz": -330
    },
    "id": "cCjnz7mDp9Jw",
    "outputId": "254437dd-e93f-484c-b7e7-011bf5466684"
   },
   "outputs": [
    {
     "data": {
      "text/plain": [
       "True"
      ]
     },
     "execution_count": 105,
     "metadata": {},
     "output_type": "execute_result"
    }
   ],
   "source": [
    "In [87]: 'Ohio' in frame3.columns"
   ]
  },
  {
   "cell_type": "code",
   "execution_count": 106,
   "metadata": {
    "colab": {
     "base_uri": "https://localhost:8080/"
    },
    "executionInfo": {
     "elapsed": 1139,
     "status": "ok",
     "timestamp": 1607485299138,
     "user": {
      "displayName": "prathviraj shetty",
      "photoUrl": "https://lh3.googleusercontent.com/a-/AOh14GhKody4bMBhr3sFjBRSMtPKerrzBoUK7stNKBFvrA=s64",
      "userId": "03618971057838723327"
     },
     "user_tz": -330
    },
    "id": "fVZSl2vLqh4Q",
    "outputId": "0c452741-d1df-465f-c425-3bd4339db370"
   },
   "outputs": [
    {
     "data": {
      "text/plain": [
       "False"
      ]
     },
     "execution_count": 106,
     "metadata": {},
     "output_type": "execute_result"
    }
   ],
   "source": [
    "In [88]: 2003 in frame3.index"
   ]
  },
  {
   "cell_type": "code",
   "execution_count": 107,
   "metadata": {
    "colab": {
     "base_uri": "https://localhost:8080/"
    },
    "executionInfo": {
     "elapsed": 1109,
     "status": "ok",
     "timestamp": 1607485381333,
     "user": {
      "displayName": "prathviraj shetty",
      "photoUrl": "https://lh3.googleusercontent.com/a-/AOh14GhKody4bMBhr3sFjBRSMtPKerrzBoUK7stNKBFvrA=s64",
      "userId": "03618971057838723327"
     },
     "user_tz": -330
    },
    "id": "ew6A5gbVqvSv",
    "outputId": "61cc9e00-c730-44db-8782-ca61afaa757b"
   },
   "outputs": [
    {
     "data": {
      "text/plain": [
       "Index(['foo', 'foo', 'bar', 'bar'], dtype='object')"
      ]
     },
     "execution_count": 107,
     "metadata": {},
     "output_type": "execute_result"
    }
   ],
   "source": [
    "In [89]: dup_labels = pd.Index(['foo', 'foo', 'bar', 'bar'])\n",
    "In [90]: dup_labels"
   ]
  },
  {
   "cell_type": "markdown",
   "metadata": {
    "id": "rTCmNhilvT0X"
   },
   "source": [
    "**Reindexing**"
   ]
  },
  {
   "cell_type": "code",
   "execution_count": 127,
   "metadata": {
    "colab": {
     "base_uri": "https://localhost:8080/"
    },
    "executionInfo": {
     "elapsed": 1173,
     "status": "ok",
     "timestamp": 1607485621808,
     "user": {
      "displayName": "prathviraj shetty",
      "photoUrl": "https://lh3.googleusercontent.com/a-/AOh14GhKody4bMBhr3sFjBRSMtPKerrzBoUK7stNKBFvrA=s64",
      "userId": "03618971057838723327"
     },
     "user_tz": -330
    },
    "id": "q7kg_J4ovYRj",
    "outputId": "5d295221-d166-401b-d943-0f122686eda4"
   },
   "outputs": [
    {
     "data": {
      "text/plain": [
       "d    4.5\n",
       "b    7.2\n",
       "a   -5.3\n",
       "c    3.6\n",
       "dtype: float64"
      ]
     },
     "execution_count": 127,
     "metadata": {},
     "output_type": "execute_result"
    }
   ],
   "source": [
    "In [91]: obj = pd.Series([4.5, 7.2, -5.3, 3.6], index=['d', 'b', 'a', 'c'])\n",
    "In [92]: obj"
   ]
  },
  {
   "cell_type": "code",
   "execution_count": 128,
   "metadata": {
    "colab": {
     "base_uri": "https://localhost:8080/"
    },
    "executionInfo": {
     "elapsed": 1238,
     "status": "ok",
     "timestamp": 1607485638284,
     "user": {
      "displayName": "prathviraj shetty",
      "photoUrl": "https://lh3.googleusercontent.com/a-/AOh14GhKody4bMBhr3sFjBRSMtPKerrzBoUK7stNKBFvrA=s64",
      "userId": "03618971057838723327"
     },
     "user_tz": -330
    },
    "id": "w7nG3Fj9vgdY",
    "outputId": "c58cb937-70c5-4001-f53e-e370d09fcd13"
   },
   "outputs": [
    {
     "data": {
      "text/plain": [
       "a   -5.3\n",
       "b    7.2\n",
       "c    3.6\n",
       "d    4.5\n",
       "e    NaN\n",
       "dtype: float64"
      ]
     },
     "execution_count": 128,
     "metadata": {},
     "output_type": "execute_result"
    }
   ],
   "source": [
    "In [93]: obj2 = obj.reindex(['a', 'b', 'c', 'd', 'e'])\n",
    "In [94]: obj2"
   ]
  },
  {
   "cell_type": "code",
   "execution_count": 134,
   "metadata": {
    "colab": {
     "base_uri": "https://localhost:8080/"
    },
    "executionInfo": {
     "elapsed": 1166,
     "status": "ok",
     "timestamp": 1607485701343,
     "user": {
      "displayName": "prathviraj shetty",
      "photoUrl": "https://lh3.googleusercontent.com/a-/AOh14GhKody4bMBhr3sFjBRSMtPKerrzBoUK7stNKBFvrA=s64",
      "userId": "03618971057838723327"
     },
     "user_tz": -330
    },
    "id": "WO4oxJ-1wJyh",
    "outputId": "a45feafe-198e-41ab-c2b6-883299bc1c48"
   },
   "outputs": [
    {
     "data": {
      "text/plain": [
       "0      blue\n",
       "2    purple\n",
       "4    yellow\n",
       "dtype: object"
      ]
     },
     "execution_count": 134,
     "metadata": {},
     "output_type": "execute_result"
    }
   ],
   "source": [
    "In [95]: obj3 = pd.Series(['blue', 'purple', 'yellow'], index=[0, 2, 4])\n",
    "In [96]: obj3"
   ]
  },
  {
   "cell_type": "code",
   "execution_count": 137,
   "metadata": {
    "colab": {
     "base_uri": "https://localhost:8080/"
    },
    "executionInfo": {
     "elapsed": 1126,
     "status": "ok",
     "timestamp": 1607485737653,
     "user": {
      "displayName": "prathviraj shetty",
      "photoUrl": "https://lh3.googleusercontent.com/a-/AOh14GhKody4bMBhr3sFjBRSMtPKerrzBoUK7stNKBFvrA=s64",
      "userId": "03618971057838723327"
     },
     "user_tz": -330
    },
    "id": "_6iiZkSlwNkf",
    "outputId": "4d8552fa-30b8-483b-fc8a-2f53ab01c255"
   },
   "outputs": [
    {
     "data": {
      "text/plain": [
       "0      blue\n",
       "1      blue\n",
       "2    purple\n",
       "3    purple\n",
       "4    yellow\n",
       "5    yellow\n",
       "dtype: object"
      ]
     },
     "execution_count": 137,
     "metadata": {},
     "output_type": "execute_result"
    }
   ],
   "source": [
    "In [97]: obj3.reindex(range(6), method='ffill')"
   ]
  },
  {
   "cell_type": "code",
   "execution_count": 142,
   "metadata": {
    "executionInfo": {
     "elapsed": 3604,
     "status": "ok",
     "timestamp": 1607657400350,
     "user": {
      "displayName": "prathviraj shetty",
      "photoUrl": "https://lh3.googleusercontent.com/a-/AOh14GhKody4bMBhr3sFjBRSMtPKerrzBoUK7stNKBFvrA=s64",
      "userId": "03618971057838723327"
     },
     "user_tz": -330
    },
    "id": "hJH9fst-xpAS"
   },
   "outputs": [],
   "source": [
    "import numpy as np"
   ]
  },
  {
   "cell_type": "code",
   "execution_count": 143,
   "metadata": {
    "colab": {
     "base_uri": "https://localhost:8080/",
     "height": 142
    },
    "executionInfo": {
     "elapsed": 1235,
     "status": "ok",
     "timestamp": 1607485853761,
     "user": {
      "displayName": "prathviraj shetty",
      "photoUrl": "https://lh3.googleusercontent.com/a-/AOh14GhKody4bMBhr3sFjBRSMtPKerrzBoUK7stNKBFvrA=s64",
      "userId": "03618971057838723327"
     },
     "user_tz": -330
    },
    "id": "7zyGmVWXwyi0",
    "outputId": "7c8e2277-bd37-418e-fe03-dc8849377656"
   },
   "outputs": [
    {
     "data": {
      "text/html": [
       "<div>\n",
       "<style scoped>\n",
       "    .dataframe tbody tr th:only-of-type {\n",
       "        vertical-align: middle;\n",
       "    }\n",
       "\n",
       "    .dataframe tbody tr th {\n",
       "        vertical-align: top;\n",
       "    }\n",
       "\n",
       "    .dataframe thead th {\n",
       "        text-align: right;\n",
       "    }\n",
       "</style>\n",
       "<table border=\"1\" class=\"dataframe\">\n",
       "  <thead>\n",
       "    <tr style=\"text-align: right;\">\n",
       "      <th></th>\n",
       "      <th>Ohio</th>\n",
       "      <th>Texas</th>\n",
       "      <th>California</th>\n",
       "    </tr>\n",
       "  </thead>\n",
       "  <tbody>\n",
       "    <tr>\n",
       "      <th>a</th>\n",
       "      <td>0</td>\n",
       "      <td>1</td>\n",
       "      <td>2</td>\n",
       "    </tr>\n",
       "    <tr>\n",
       "      <th>c</th>\n",
       "      <td>3</td>\n",
       "      <td>4</td>\n",
       "      <td>5</td>\n",
       "    </tr>\n",
       "    <tr>\n",
       "      <th>d</th>\n",
       "      <td>6</td>\n",
       "      <td>7</td>\n",
       "      <td>8</td>\n",
       "    </tr>\n",
       "  </tbody>\n",
       "</table>\n",
       "</div>"
      ],
      "text/plain": [
       "   Ohio  Texas  California\n",
       "a     0      1           2\n",
       "c     3      4           5\n",
       "d     6      7           8"
      ]
     },
     "execution_count": 143,
     "metadata": {},
     "output_type": "execute_result"
    }
   ],
   "source": [
    "In [98]: frame = pd.DataFrame(np.arange(9).reshape((3, 3)), index=['a', 'c', 'd'], columns=['Ohio', 'Texas', 'California'])\n",
    "In [99]: frame"
   ]
  },
  {
   "cell_type": "code",
   "execution_count": 144,
   "metadata": {
    "colab": {
     "base_uri": "https://localhost:8080/",
     "height": 173
    },
    "executionInfo": {
     "elapsed": 1134,
     "status": "ok",
     "timestamp": 1607485886289,
     "user": {
      "displayName": "prathviraj shetty",
      "photoUrl": "https://lh3.googleusercontent.com/a-/AOh14GhKody4bMBhr3sFjBRSMtPKerrzBoUK7stNKBFvrA=s64",
      "userId": "03618971057838723327"
     },
     "user_tz": -330
    },
    "id": "lgByb-9MxyFS",
    "outputId": "d79f6349-3f79-426f-dc67-27e131e68d9b"
   },
   "outputs": [
    {
     "data": {
      "text/html": [
       "<div>\n",
       "<style scoped>\n",
       "    .dataframe tbody tr th:only-of-type {\n",
       "        vertical-align: middle;\n",
       "    }\n",
       "\n",
       "    .dataframe tbody tr th {\n",
       "        vertical-align: top;\n",
       "    }\n",
       "\n",
       "    .dataframe thead th {\n",
       "        text-align: right;\n",
       "    }\n",
       "</style>\n",
       "<table border=\"1\" class=\"dataframe\">\n",
       "  <thead>\n",
       "    <tr style=\"text-align: right;\">\n",
       "      <th></th>\n",
       "      <th>Ohio</th>\n",
       "      <th>Texas</th>\n",
       "      <th>California</th>\n",
       "    </tr>\n",
       "  </thead>\n",
       "  <tbody>\n",
       "    <tr>\n",
       "      <th>a</th>\n",
       "      <td>0.0</td>\n",
       "      <td>1.0</td>\n",
       "      <td>2.0</td>\n",
       "    </tr>\n",
       "    <tr>\n",
       "      <th>b</th>\n",
       "      <td>NaN</td>\n",
       "      <td>NaN</td>\n",
       "      <td>NaN</td>\n",
       "    </tr>\n",
       "    <tr>\n",
       "      <th>c</th>\n",
       "      <td>3.0</td>\n",
       "      <td>4.0</td>\n",
       "      <td>5.0</td>\n",
       "    </tr>\n",
       "    <tr>\n",
       "      <th>d</th>\n",
       "      <td>6.0</td>\n",
       "      <td>7.0</td>\n",
       "      <td>8.0</td>\n",
       "    </tr>\n",
       "  </tbody>\n",
       "</table>\n",
       "</div>"
      ],
      "text/plain": [
       "   Ohio  Texas  California\n",
       "a   0.0    1.0         2.0\n",
       "b   NaN    NaN         NaN\n",
       "c   3.0    4.0         5.0\n",
       "d   6.0    7.0         8.0"
      ]
     },
     "execution_count": 144,
     "metadata": {},
     "output_type": "execute_result"
    }
   ],
   "source": [
    "In [100]: frame2 = frame.reindex(['a', 'b', 'c', 'd'])\n",
    "In [101]: frame2"
   ]
  },
  {
   "cell_type": "code",
   "execution_count": 145,
   "metadata": {
    "id": "sdsk7s3FyEsl"
   },
   "outputs": [
    {
     "data": {
      "text/html": [
       "<div>\n",
       "<style scoped>\n",
       "    .dataframe tbody tr th:only-of-type {\n",
       "        vertical-align: middle;\n",
       "    }\n",
       "\n",
       "    .dataframe tbody tr th {\n",
       "        vertical-align: top;\n",
       "    }\n",
       "\n",
       "    .dataframe thead th {\n",
       "        text-align: right;\n",
       "    }\n",
       "</style>\n",
       "<table border=\"1\" class=\"dataframe\">\n",
       "  <thead>\n",
       "    <tr style=\"text-align: right;\">\n",
       "      <th></th>\n",
       "      <th>Texas</th>\n",
       "      <th>Utah</th>\n",
       "      <th>California</th>\n",
       "    </tr>\n",
       "  </thead>\n",
       "  <tbody>\n",
       "    <tr>\n",
       "      <th>a</th>\n",
       "      <td>1</td>\n",
       "      <td>NaN</td>\n",
       "      <td>2</td>\n",
       "    </tr>\n",
       "    <tr>\n",
       "      <th>c</th>\n",
       "      <td>4</td>\n",
       "      <td>NaN</td>\n",
       "      <td>5</td>\n",
       "    </tr>\n",
       "    <tr>\n",
       "      <th>d</th>\n",
       "      <td>7</td>\n",
       "      <td>NaN</td>\n",
       "      <td>8</td>\n",
       "    </tr>\n",
       "  </tbody>\n",
       "</table>\n",
       "</div>"
      ],
      "text/plain": [
       "   Texas  Utah  California\n",
       "a      1   NaN           2\n",
       "c      4   NaN           5\n",
       "d      7   NaN           8"
      ]
     },
     "execution_count": 145,
     "metadata": {},
     "output_type": "execute_result"
    }
   ],
   "source": [
    "In [102]: states = ['Texas', 'Utah', 'California']\n",
    "In [103]: frame.reindex(columns=states)"
   ]
  },
  {
   "cell_type": "markdown",
   "metadata": {
    "id": "x0pLmNNizcKd"
   },
   "source": [
    "**Dropping Entries from an Axis**"
   ]
  },
  {
   "cell_type": "code",
   "execution_count": 146,
   "metadata": {
    "colab": {
     "base_uri": "https://localhost:8080/"
    },
    "executionInfo": {
     "elapsed": 2266,
     "status": "ok",
     "timestamp": 1607486296437,
     "user": {
      "displayName": "prathviraj shetty",
      "photoUrl": "https://lh3.googleusercontent.com/a-/AOh14GhKody4bMBhr3sFjBRSMtPKerrzBoUK7stNKBFvrA=s64",
      "userId": "03618971057838723327"
     },
     "user_tz": -330
    },
    "id": "rxMLPr1TyooN",
    "outputId": "0a33fa4e-a525-4693-a8f4-86ebb430ab45"
   },
   "outputs": [
    {
     "data": {
      "text/plain": [
       "a    0.0\n",
       "b    1.0\n",
       "c    2.0\n",
       "d    3.0\n",
       "e    4.0\n",
       "dtype: float64"
      ]
     },
     "execution_count": 146,
     "metadata": {},
     "output_type": "execute_result"
    }
   ],
   "source": [
    "In [105]: obj = pd.Series(np.arange(5.), index=['a', 'b', 'c', 'd', 'e'])\n",
    "In [106]: obj"
   ]
  },
  {
   "cell_type": "code",
   "execution_count": 147,
   "metadata": {
    "colab": {
     "base_uri": "https://localhost:8080/"
    },
    "executionInfo": {
     "elapsed": 2246,
     "status": "ok",
     "timestamp": 1607486301678,
     "user": {
      "displayName": "prathviraj shetty",
      "photoUrl": "https://lh3.googleusercontent.com/a-/AOh14GhKody4bMBhr3sFjBRSMtPKerrzBoUK7stNKBFvrA=s64",
      "userId": "03618971057838723327"
     },
     "user_tz": -330
    },
    "id": "_mUXDa6Pyo0y",
    "outputId": "bd5fc3ee-91ec-4c6b-c0ac-79f7ff046c04"
   },
   "outputs": [
    {
     "data": {
      "text/plain": [
       "a    0.0\n",
       "b    1.0\n",
       "d    3.0\n",
       "e    4.0\n",
       "dtype: float64"
      ]
     },
     "execution_count": 147,
     "metadata": {},
     "output_type": "execute_result"
    }
   ],
   "source": [
    "In [107]: new_obj = obj.drop('c')\n",
    "In [108]: new_obj"
   ]
  },
  {
   "cell_type": "code",
   "execution_count": 150,
   "metadata": {
    "colab": {
     "base_uri": "https://localhost:8080/",
     "height": 173
    },
    "executionInfo": {
     "elapsed": 2959,
     "status": "ok",
     "timestamp": 1607486347586,
     "user": {
      "displayName": "prathviraj shetty",
      "photoUrl": "https://lh3.googleusercontent.com/a-/AOh14GhKody4bMBhr3sFjBRSMtPKerrzBoUK7stNKBFvrA=s64",
      "userId": "03618971057838723327"
     },
     "user_tz": -330
    },
    "id": "YLYBUHz2zztS",
    "outputId": "d897ec61-ab8f-42d4-a199-a3fee8e4f876"
   },
   "outputs": [
    {
     "data": {
      "text/html": [
       "<div>\n",
       "<style scoped>\n",
       "    .dataframe tbody tr th:only-of-type {\n",
       "        vertical-align: middle;\n",
       "    }\n",
       "\n",
       "    .dataframe tbody tr th {\n",
       "        vertical-align: top;\n",
       "    }\n",
       "\n",
       "    .dataframe thead th {\n",
       "        text-align: right;\n",
       "    }\n",
       "</style>\n",
       "<table border=\"1\" class=\"dataframe\">\n",
       "  <thead>\n",
       "    <tr style=\"text-align: right;\">\n",
       "      <th></th>\n",
       "      <th>one</th>\n",
       "      <th>two</th>\n",
       "      <th>three</th>\n",
       "      <th>four</th>\n",
       "    </tr>\n",
       "  </thead>\n",
       "  <tbody>\n",
       "    <tr>\n",
       "      <th>Ohio</th>\n",
       "      <td>0</td>\n",
       "      <td>1</td>\n",
       "      <td>2</td>\n",
       "      <td>3</td>\n",
       "    </tr>\n",
       "    <tr>\n",
       "      <th>Colorado</th>\n",
       "      <td>4</td>\n",
       "      <td>5</td>\n",
       "      <td>6</td>\n",
       "      <td>7</td>\n",
       "    </tr>\n",
       "    <tr>\n",
       "      <th>Utah</th>\n",
       "      <td>8</td>\n",
       "      <td>9</td>\n",
       "      <td>10</td>\n",
       "      <td>11</td>\n",
       "    </tr>\n",
       "    <tr>\n",
       "      <th>New York</th>\n",
       "      <td>12</td>\n",
       "      <td>13</td>\n",
       "      <td>14</td>\n",
       "      <td>15</td>\n",
       "    </tr>\n",
       "  </tbody>\n",
       "</table>\n",
       "</div>"
      ],
      "text/plain": [
       "          one  two  three  four\n",
       "Ohio        0    1      2     3\n",
       "Colorado    4    5      6     7\n",
       "Utah        8    9     10    11\n",
       "New York   12   13     14    15"
      ]
     },
     "execution_count": 150,
     "metadata": {},
     "output_type": "execute_result"
    }
   ],
   "source": [
    "In [110]: data = pd.DataFrame(np.arange(16).reshape((4, 4)),\n",
    ".....: index=['Ohio', 'Colorado', 'Utah', 'New York'],\n",
    ".....: columns=['one', 'two', 'three', 'four'])\n",
    "In [111]: data"
   ]
  },
  {
   "cell_type": "code",
   "execution_count": 151,
   "metadata": {
    "colab": {
     "base_uri": "https://localhost:8080/",
     "height": 111
    },
    "executionInfo": {
     "elapsed": 1130,
     "status": "ok",
     "timestamp": 1607486401289,
     "user": {
      "displayName": "prathviraj shetty",
      "photoUrl": "https://lh3.googleusercontent.com/a-/AOh14GhKody4bMBhr3sFjBRSMtPKerrzBoUK7stNKBFvrA=s64",
      "userId": "03618971057838723327"
     },
     "user_tz": -330
    },
    "id": "TCPcf0dm0DO5",
    "outputId": "29973ff7-d423-4f8e-f709-97a4cd48988e"
   },
   "outputs": [
    {
     "data": {
      "text/html": [
       "<div>\n",
       "<style scoped>\n",
       "    .dataframe tbody tr th:only-of-type {\n",
       "        vertical-align: middle;\n",
       "    }\n",
       "\n",
       "    .dataframe tbody tr th {\n",
       "        vertical-align: top;\n",
       "    }\n",
       "\n",
       "    .dataframe thead th {\n",
       "        text-align: right;\n",
       "    }\n",
       "</style>\n",
       "<table border=\"1\" class=\"dataframe\">\n",
       "  <thead>\n",
       "    <tr style=\"text-align: right;\">\n",
       "      <th></th>\n",
       "      <th>one</th>\n",
       "      <th>two</th>\n",
       "      <th>three</th>\n",
       "      <th>four</th>\n",
       "    </tr>\n",
       "  </thead>\n",
       "  <tbody>\n",
       "    <tr>\n",
       "      <th>Utah</th>\n",
       "      <td>8</td>\n",
       "      <td>9</td>\n",
       "      <td>10</td>\n",
       "      <td>11</td>\n",
       "    </tr>\n",
       "    <tr>\n",
       "      <th>New York</th>\n",
       "      <td>12</td>\n",
       "      <td>13</td>\n",
       "      <td>14</td>\n",
       "      <td>15</td>\n",
       "    </tr>\n",
       "  </tbody>\n",
       "</table>\n",
       "</div>"
      ],
      "text/plain": [
       "          one  two  three  four\n",
       "Utah        8    9     10    11\n",
       "New York   12   13     14    15"
      ]
     },
     "execution_count": 151,
     "metadata": {},
     "output_type": "execute_result"
    }
   ],
   "source": [
    "In [112]: data.drop(['Colorado', 'Ohio'])"
   ]
  },
  {
   "cell_type": "code",
   "execution_count": 154,
   "metadata": {
    "colab": {
     "base_uri": "https://localhost:8080/",
     "height": 173
    },
    "executionInfo": {
     "elapsed": 1200,
     "status": "ok",
     "timestamp": 1607486427059,
     "user": {
      "displayName": "prathviraj shetty",
      "photoUrl": "https://lh3.googleusercontent.com/a-/AOh14GhKody4bMBhr3sFjBRSMtPKerrzBoUK7stNKBFvrA=s64",
      "userId": "03618971057838723327"
     },
     "user_tz": -330
    },
    "id": "6ASHelZv0f1d",
    "outputId": "2ca4d5a4-0245-453d-8673-cfc33dbac99d"
   },
   "outputs": [
    {
     "data": {
      "text/html": [
       "<div>\n",
       "<style scoped>\n",
       "    .dataframe tbody tr th:only-of-type {\n",
       "        vertical-align: middle;\n",
       "    }\n",
       "\n",
       "    .dataframe tbody tr th {\n",
       "        vertical-align: top;\n",
       "    }\n",
       "\n",
       "    .dataframe thead th {\n",
       "        text-align: right;\n",
       "    }\n",
       "</style>\n",
       "<table border=\"1\" class=\"dataframe\">\n",
       "  <thead>\n",
       "    <tr style=\"text-align: right;\">\n",
       "      <th></th>\n",
       "      <th>one</th>\n",
       "      <th>three</th>\n",
       "    </tr>\n",
       "  </thead>\n",
       "  <tbody>\n",
       "    <tr>\n",
       "      <th>Ohio</th>\n",
       "      <td>0</td>\n",
       "      <td>2</td>\n",
       "    </tr>\n",
       "    <tr>\n",
       "      <th>Colorado</th>\n",
       "      <td>4</td>\n",
       "      <td>6</td>\n",
       "    </tr>\n",
       "    <tr>\n",
       "      <th>Utah</th>\n",
       "      <td>8</td>\n",
       "      <td>10</td>\n",
       "    </tr>\n",
       "    <tr>\n",
       "      <th>New York</th>\n",
       "      <td>12</td>\n",
       "      <td>14</td>\n",
       "    </tr>\n",
       "  </tbody>\n",
       "</table>\n",
       "</div>"
      ],
      "text/plain": [
       "          one  three\n",
       "Ohio        0      2\n",
       "Colorado    4      6\n",
       "Utah        8     10\n",
       "New York   12     14"
      ]
     },
     "execution_count": 154,
     "metadata": {},
     "output_type": "execute_result"
    }
   ],
   "source": [
    "In [114]: data.drop(['two', 'four'], axis='columns')"
   ]
  },
  {
   "cell_type": "code",
   "execution_count": 156,
   "metadata": {
    "colab": {
     "base_uri": "https://localhost:8080/"
    },
    "executionInfo": {
     "elapsed": 1377,
     "status": "ok",
     "timestamp": 1607486740894,
     "user": {
      "displayName": "prathviraj shetty",
      "photoUrl": "https://lh3.googleusercontent.com/a-/AOh14GhKody4bMBhr3sFjBRSMtPKerrzBoUK7stNKBFvrA=s64",
      "userId": "03618971057838723327"
     },
     "user_tz": -330
    },
    "id": "uHq2NaYa0krj",
    "outputId": "abe7d878-46d3-4a96-a859-9201e18e9ff8"
   },
   "outputs": [
    {
     "data": {
      "text/plain": [
       "a    0.0\n",
       "c    2.0\n",
       "d    3.0\n",
       "e    4.0\n",
       "dtype: float64"
      ]
     },
     "execution_count": 156,
     "metadata": {},
     "output_type": "execute_result"
    }
   ],
   "source": [
    "obj.drop('b')"
   ]
  },
  {
   "cell_type": "markdown",
   "metadata": {
    "id": "6rmY2sqn2itN"
   },
   "source": [
    "**Indexing, Selection, and Filtering**"
   ]
  },
  {
   "cell_type": "code",
   "execution_count": 157,
   "metadata": {
    "colab": {
     "base_uri": "https://localhost:8080/"
    },
    "executionInfo": {
     "elapsed": 1174,
     "status": "ok",
     "timestamp": 1607486948051,
     "user": {
      "displayName": "prathviraj shetty",
      "photoUrl": "https://lh3.googleusercontent.com/a-/AOh14GhKody4bMBhr3sFjBRSMtPKerrzBoUK7stNKBFvrA=s64",
      "userId": "03618971057838723327"
     },
     "user_tz": -330
    },
    "id": "xlUrdZhH2m9F",
    "outputId": "f66e8862-ef82-4d76-a888-7b1ccc7bc95f"
   },
   "outputs": [
    {
     "data": {
      "text/plain": [
       "a    0.0\n",
       "b    1.0\n",
       "c    2.0\n",
       "d    3.0\n",
       "dtype: float64"
      ]
     },
     "execution_count": 157,
     "metadata": {},
     "output_type": "execute_result"
    }
   ],
   "source": [
    "In [117]: obj = pd.Series(np.arange(4.), index=['a', 'b', 'c', 'd'])\n",
    "In [118]: obj"
   ]
  },
  {
   "cell_type": "code",
   "execution_count": 158,
   "metadata": {
    "colab": {
     "base_uri": "https://localhost:8080/"
    },
    "executionInfo": {
     "elapsed": 874,
     "status": "ok",
     "timestamp": 1607487032067,
     "user": {
      "displayName": "prathviraj shetty",
      "photoUrl": "https://lh3.googleusercontent.com/a-/AOh14GhKody4bMBhr3sFjBRSMtPKerrzBoUK7stNKBFvrA=s64",
      "userId": "03618971057838723327"
     },
     "user_tz": -330
    },
    "id": "arwBlnHP45Gs",
    "outputId": "51a91405-ed88-4258-bc72-5f1c724c4648"
   },
   "outputs": [
    {
     "data": {
      "text/plain": [
       "b    1.0\n",
       "c    2.0\n",
       "dtype: float64"
      ]
     },
     "execution_count": 158,
     "metadata": {},
     "output_type": "execute_result"
    }
   ],
   "source": [
    "In [121]: obj[1:3]"
   ]
  },
  {
   "cell_type": "code",
   "execution_count": 159,
   "metadata": {
    "colab": {
     "base_uri": "https://localhost:8080/"
    },
    "executionInfo": {
     "elapsed": 1143,
     "status": "ok",
     "timestamp": 1607487047425,
     "user": {
      "displayName": "prathviraj shetty",
      "photoUrl": "https://lh3.googleusercontent.com/a-/AOh14GhKody4bMBhr3sFjBRSMtPKerrzBoUK7stNKBFvrA=s64",
      "userId": "03618971057838723327"
     },
     "user_tz": -330
    },
    "id": "MI1F3Rpi5EY9",
    "outputId": "9c41855a-2c85-4baa-de96-55be9a868a02"
   },
   "outputs": [
    {
     "data": {
      "text/plain": [
       "b    1.0\n",
       "d    3.0\n",
       "dtype: float64"
      ]
     },
     "execution_count": 159,
     "metadata": {},
     "output_type": "execute_result"
    }
   ],
   "source": [
    "In [123]: obj[[1, 3]]"
   ]
  },
  {
   "cell_type": "code",
   "execution_count": 160,
   "metadata": {
    "colab": {
     "base_uri": "https://localhost:8080/"
    },
    "executionInfo": {
     "elapsed": 1124,
     "status": "ok",
     "timestamp": 1607487094696,
     "user": {
      "displayName": "prathviraj shetty",
      "photoUrl": "https://lh3.googleusercontent.com/a-/AOh14GhKody4bMBhr3sFjBRSMtPKerrzBoUK7stNKBFvrA=s64",
      "userId": "03618971057838723327"
     },
     "user_tz": -330
    },
    "id": "v95qJnS65IGL",
    "outputId": "6700d95a-a878-4087-d473-5f65f9369c38"
   },
   "outputs": [
    {
     "data": {
      "text/plain": [
       "a    0.0\n",
       "b    1.0\n",
       "c    2.0\n",
       "dtype: float64"
      ]
     },
     "execution_count": 160,
     "metadata": {},
     "output_type": "execute_result"
    }
   ],
   "source": [
    "In [124]: obj[obj < 3]"
   ]
  },
  {
   "cell_type": "code",
   "execution_count": 161,
   "metadata": {
    "colab": {
     "base_uri": "https://localhost:8080/"
    },
    "executionInfo": {
     "elapsed": 1149,
     "status": "ok",
     "timestamp": 1607487168846,
     "user": {
      "displayName": "prathviraj shetty",
      "photoUrl": "https://lh3.googleusercontent.com/a-/AOh14GhKody4bMBhr3sFjBRSMtPKerrzBoUK7stNKBFvrA=s64",
      "userId": "03618971057838723327"
     },
     "user_tz": -330
    },
    "id": "P4DrQiCo5JSR",
    "outputId": "54fb6608-dcca-4210-8c85-853a1e3a9870"
   },
   "outputs": [
    {
     "data": {
      "text/plain": [
       "a    0.0\n",
       "b    1.0\n",
       "c    2.0\n",
       "dtype: float64"
      ]
     },
     "execution_count": 161,
     "metadata": {},
     "output_type": "execute_result"
    }
   ],
   "source": [
    "In [125]: obj['a':'c']"
   ]
  },
  {
   "cell_type": "code",
   "execution_count": 162,
   "metadata": {
    "colab": {
     "base_uri": "https://localhost:8080/"
    },
    "executionInfo": {
     "elapsed": 1126,
     "status": "ok",
     "timestamp": 1607487212682,
     "user": {
      "displayName": "prathviraj shetty",
      "photoUrl": "https://lh3.googleusercontent.com/a-/AOh14GhKody4bMBhr3sFjBRSMtPKerrzBoUK7stNKBFvrA=s64",
      "userId": "03618971057838723327"
     },
     "user_tz": -330
    },
    "id": "gYC0_W8D6HCn",
    "outputId": "7e36ad77-f3a7-4cad-f362-349ceb2b5c8a"
   },
   "outputs": [
    {
     "data": {
      "text/plain": [
       "a    0.0\n",
       "b    5.0\n",
       "c    5.0\n",
       "d    3.0\n",
       "dtype: float64"
      ]
     },
     "execution_count": 162,
     "metadata": {},
     "output_type": "execute_result"
    }
   ],
   "source": [
    "In [126]: obj['b':'c'] = 5\n",
    "In [127]: obj"
   ]
  },
  {
   "cell_type": "code",
   "execution_count": 163,
   "metadata": {
    "colab": {
     "base_uri": "https://localhost:8080/",
     "height": 173
    },
    "executionInfo": {
     "elapsed": 1201,
     "status": "ok",
     "timestamp": 1607487269211,
     "user": {
      "displayName": "prathviraj shetty",
      "photoUrl": "https://lh3.googleusercontent.com/a-/AOh14GhKody4bMBhr3sFjBRSMtPKerrzBoUK7stNKBFvrA=s64",
      "userId": "03618971057838723327"
     },
     "user_tz": -330
    },
    "id": "jlaRJP8-6Uf4",
    "outputId": "44d1976f-8266-4ff4-9494-5b2af65d0f85"
   },
   "outputs": [
    {
     "data": {
      "text/html": [
       "<div>\n",
       "<style scoped>\n",
       "    .dataframe tbody tr th:only-of-type {\n",
       "        vertical-align: middle;\n",
       "    }\n",
       "\n",
       "    .dataframe tbody tr th {\n",
       "        vertical-align: top;\n",
       "    }\n",
       "\n",
       "    .dataframe thead th {\n",
       "        text-align: right;\n",
       "    }\n",
       "</style>\n",
       "<table border=\"1\" class=\"dataframe\">\n",
       "  <thead>\n",
       "    <tr style=\"text-align: right;\">\n",
       "      <th></th>\n",
       "      <th>one</th>\n",
       "      <th>two</th>\n",
       "      <th>three</th>\n",
       "      <th>four</th>\n",
       "    </tr>\n",
       "  </thead>\n",
       "  <tbody>\n",
       "    <tr>\n",
       "      <th>Ohio</th>\n",
       "      <td>0</td>\n",
       "      <td>1</td>\n",
       "      <td>2</td>\n",
       "      <td>3</td>\n",
       "    </tr>\n",
       "    <tr>\n",
       "      <th>Colorado</th>\n",
       "      <td>4</td>\n",
       "      <td>5</td>\n",
       "      <td>6</td>\n",
       "      <td>7</td>\n",
       "    </tr>\n",
       "    <tr>\n",
       "      <th>Utah</th>\n",
       "      <td>8</td>\n",
       "      <td>9</td>\n",
       "      <td>10</td>\n",
       "      <td>11</td>\n",
       "    </tr>\n",
       "    <tr>\n",
       "      <th>New York</th>\n",
       "      <td>12</td>\n",
       "      <td>13</td>\n",
       "      <td>14</td>\n",
       "      <td>15</td>\n",
       "    </tr>\n",
       "  </tbody>\n",
       "</table>\n",
       "</div>"
      ],
      "text/plain": [
       "          one  two  three  four\n",
       "Ohio        0    1      2     3\n",
       "Colorado    4    5      6     7\n",
       "Utah        8    9     10    11\n",
       "New York   12   13     14    15"
      ]
     },
     "execution_count": 163,
     "metadata": {},
     "output_type": "execute_result"
    }
   ],
   "source": [
    "In [128]: data = pd.DataFrame(np.arange(16).reshape((4, 4)),\n",
    ".....: index=['Ohio', 'Colorado', 'Utah', 'New York'],\n",
    ".....: columns=['one', 'two', 'three', 'four'])\n",
    "In [129]: data"
   ]
  },
  {
   "cell_type": "code",
   "execution_count": 164,
   "metadata": {
    "colab": {
     "base_uri": "https://localhost:8080/"
    },
    "executionInfo": {
     "elapsed": 1440,
     "status": "ok",
     "timestamp": 1607487286699,
     "user": {
      "displayName": "prathviraj shetty",
      "photoUrl": "https://lh3.googleusercontent.com/a-/AOh14GhKody4bMBhr3sFjBRSMtPKerrzBoUK7stNKBFvrA=s64",
      "userId": "03618971057838723327"
     },
     "user_tz": -330
    },
    "id": "jJfC4lGt6iZA",
    "outputId": "b83adca7-0c49-4626-fb73-b830d51555c9"
   },
   "outputs": [
    {
     "data": {
      "text/plain": [
       "Ohio         1\n",
       "Colorado     5\n",
       "Utah         9\n",
       "New York    13\n",
       "Name: two, dtype: int32"
      ]
     },
     "execution_count": 164,
     "metadata": {},
     "output_type": "execute_result"
    }
   ],
   "source": [
    "In [130]: data['two']"
   ]
  },
  {
   "cell_type": "code",
   "execution_count": 165,
   "metadata": {
    "colab": {
     "base_uri": "https://localhost:8080/",
     "height": 173
    },
    "executionInfo": {
     "elapsed": 1185,
     "status": "ok",
     "timestamp": 1607487304435,
     "user": {
      "displayName": "prathviraj shetty",
      "photoUrl": "https://lh3.googleusercontent.com/a-/AOh14GhKody4bMBhr3sFjBRSMtPKerrzBoUK7stNKBFvrA=s64",
      "userId": "03618971057838723327"
     },
     "user_tz": -330
    },
    "id": "COyOr2gb8o-T",
    "outputId": "d3f5f325-8910-4aff-d4bd-05c464b141d2"
   },
   "outputs": [
    {
     "data": {
      "text/html": [
       "<div>\n",
       "<style scoped>\n",
       "    .dataframe tbody tr th:only-of-type {\n",
       "        vertical-align: middle;\n",
       "    }\n",
       "\n",
       "    .dataframe tbody tr th {\n",
       "        vertical-align: top;\n",
       "    }\n",
       "\n",
       "    .dataframe thead th {\n",
       "        text-align: right;\n",
       "    }\n",
       "</style>\n",
       "<table border=\"1\" class=\"dataframe\">\n",
       "  <thead>\n",
       "    <tr style=\"text-align: right;\">\n",
       "      <th></th>\n",
       "      <th>three</th>\n",
       "      <th>one</th>\n",
       "    </tr>\n",
       "  </thead>\n",
       "  <tbody>\n",
       "    <tr>\n",
       "      <th>Ohio</th>\n",
       "      <td>2</td>\n",
       "      <td>0</td>\n",
       "    </tr>\n",
       "    <tr>\n",
       "      <th>Colorado</th>\n",
       "      <td>6</td>\n",
       "      <td>4</td>\n",
       "    </tr>\n",
       "    <tr>\n",
       "      <th>Utah</th>\n",
       "      <td>10</td>\n",
       "      <td>8</td>\n",
       "    </tr>\n",
       "    <tr>\n",
       "      <th>New York</th>\n",
       "      <td>14</td>\n",
       "      <td>12</td>\n",
       "    </tr>\n",
       "  </tbody>\n",
       "</table>\n",
       "</div>"
      ],
      "text/plain": [
       "          three  one\n",
       "Ohio          2    0\n",
       "Colorado      6    4\n",
       "Utah         10    8\n",
       "New York     14   12"
      ]
     },
     "execution_count": 165,
     "metadata": {},
     "output_type": "execute_result"
    }
   ],
   "source": [
    "In [131]: data[['three', 'one']]"
   ]
  },
  {
   "cell_type": "code",
   "execution_count": 166,
   "metadata": {
    "colab": {
     "base_uri": "https://localhost:8080/",
     "height": 111
    },
    "executionInfo": {
     "elapsed": 1222,
     "status": "ok",
     "timestamp": 1607487364470,
     "user": {
      "displayName": "prathviraj shetty",
      "photoUrl": "https://lh3.googleusercontent.com/a-/AOh14GhKody4bMBhr3sFjBRSMtPKerrzBoUK7stNKBFvrA=s64",
      "userId": "03618971057838723327"
     },
     "user_tz": -330
    },
    "id": "rrNVMzCt8xBS",
    "outputId": "909a53c3-084c-4d16-9d30-a79ed5e88d8a"
   },
   "outputs": [
    {
     "data": {
      "text/html": [
       "<div>\n",
       "<style scoped>\n",
       "    .dataframe tbody tr th:only-of-type {\n",
       "        vertical-align: middle;\n",
       "    }\n",
       "\n",
       "    .dataframe tbody tr th {\n",
       "        vertical-align: top;\n",
       "    }\n",
       "\n",
       "    .dataframe thead th {\n",
       "        text-align: right;\n",
       "    }\n",
       "</style>\n",
       "<table border=\"1\" class=\"dataframe\">\n",
       "  <thead>\n",
       "    <tr style=\"text-align: right;\">\n",
       "      <th></th>\n",
       "      <th>one</th>\n",
       "      <th>two</th>\n",
       "      <th>three</th>\n",
       "      <th>four</th>\n",
       "    </tr>\n",
       "  </thead>\n",
       "  <tbody>\n",
       "    <tr>\n",
       "      <th>Ohio</th>\n",
       "      <td>0</td>\n",
       "      <td>1</td>\n",
       "      <td>2</td>\n",
       "      <td>3</td>\n",
       "    </tr>\n",
       "    <tr>\n",
       "      <th>Colorado</th>\n",
       "      <td>4</td>\n",
       "      <td>5</td>\n",
       "      <td>6</td>\n",
       "      <td>7</td>\n",
       "    </tr>\n",
       "  </tbody>\n",
       "</table>\n",
       "</div>"
      ],
      "text/plain": [
       "          one  two  three  four\n",
       "Ohio        0    1      2     3\n",
       "Colorado    4    5      6     7"
      ]
     },
     "execution_count": 166,
     "metadata": {},
     "output_type": "execute_result"
    }
   ],
   "source": [
    "In [132]: data[:2]"
   ]
  },
  {
   "cell_type": "code",
   "execution_count": 167,
   "metadata": {
    "colab": {
     "base_uri": "https://localhost:8080/",
     "height": 142
    },
    "executionInfo": {
     "elapsed": 1222,
     "status": "ok",
     "timestamp": 1607487402038,
     "user": {
      "displayName": "prathviraj shetty",
      "photoUrl": "https://lh3.googleusercontent.com/a-/AOh14GhKody4bMBhr3sFjBRSMtPKerrzBoUK7stNKBFvrA=s64",
      "userId": "03618971057838723327"
     },
     "user_tz": -330
    },
    "id": "hQn_SdeY802U",
    "outputId": "a42d9902-3a39-405f-da14-4630d6acaf10"
   },
   "outputs": [
    {
     "data": {
      "text/html": [
       "<div>\n",
       "<style scoped>\n",
       "    .dataframe tbody tr th:only-of-type {\n",
       "        vertical-align: middle;\n",
       "    }\n",
       "\n",
       "    .dataframe tbody tr th {\n",
       "        vertical-align: top;\n",
       "    }\n",
       "\n",
       "    .dataframe thead th {\n",
       "        text-align: right;\n",
       "    }\n",
       "</style>\n",
       "<table border=\"1\" class=\"dataframe\">\n",
       "  <thead>\n",
       "    <tr style=\"text-align: right;\">\n",
       "      <th></th>\n",
       "      <th>one</th>\n",
       "      <th>two</th>\n",
       "      <th>three</th>\n",
       "      <th>four</th>\n",
       "    </tr>\n",
       "  </thead>\n",
       "  <tbody>\n",
       "    <tr>\n",
       "      <th>Colorado</th>\n",
       "      <td>4</td>\n",
       "      <td>5</td>\n",
       "      <td>6</td>\n",
       "      <td>7</td>\n",
       "    </tr>\n",
       "    <tr>\n",
       "      <th>Utah</th>\n",
       "      <td>8</td>\n",
       "      <td>9</td>\n",
       "      <td>10</td>\n",
       "      <td>11</td>\n",
       "    </tr>\n",
       "    <tr>\n",
       "      <th>New York</th>\n",
       "      <td>12</td>\n",
       "      <td>13</td>\n",
       "      <td>14</td>\n",
       "      <td>15</td>\n",
       "    </tr>\n",
       "  </tbody>\n",
       "</table>\n",
       "</div>"
      ],
      "text/plain": [
       "          one  two  three  four\n",
       "Colorado    4    5      6     7\n",
       "Utah        8    9     10    11\n",
       "New York   12   13     14    15"
      ]
     },
     "execution_count": 167,
     "metadata": {},
     "output_type": "execute_result"
    }
   ],
   "source": [
    "In [133]: data[data['three'] > 5]"
   ]
  },
  {
   "cell_type": "code",
   "execution_count": 168,
   "metadata": {
    "colab": {
     "base_uri": "https://localhost:8080/",
     "height": 173
    },
    "executionInfo": {
     "elapsed": 1271,
     "status": "ok",
     "timestamp": 1607487672890,
     "user": {
      "displayName": "prathviraj shetty",
      "photoUrl": "https://lh3.googleusercontent.com/a-/AOh14GhKody4bMBhr3sFjBRSMtPKerrzBoUK7stNKBFvrA=s64",
      "userId": "03618971057838723327"
     },
     "user_tz": -330
    },
    "id": "iL8iMWqc9Qxe",
    "outputId": "ddae9da4-004a-41fc-c7a5-7286ecc7e8a6"
   },
   "outputs": [
    {
     "data": {
      "text/html": [
       "<div>\n",
       "<style scoped>\n",
       "    .dataframe tbody tr th:only-of-type {\n",
       "        vertical-align: middle;\n",
       "    }\n",
       "\n",
       "    .dataframe tbody tr th {\n",
       "        vertical-align: top;\n",
       "    }\n",
       "\n",
       "    .dataframe thead th {\n",
       "        text-align: right;\n",
       "    }\n",
       "</style>\n",
       "<table border=\"1\" class=\"dataframe\">\n",
       "  <thead>\n",
       "    <tr style=\"text-align: right;\">\n",
       "      <th></th>\n",
       "      <th>one</th>\n",
       "      <th>two</th>\n",
       "      <th>three</th>\n",
       "      <th>four</th>\n",
       "    </tr>\n",
       "  </thead>\n",
       "  <tbody>\n",
       "    <tr>\n",
       "      <th>Ohio</th>\n",
       "      <td>True</td>\n",
       "      <td>True</td>\n",
       "      <td>True</td>\n",
       "      <td>True</td>\n",
       "    </tr>\n",
       "    <tr>\n",
       "      <th>Colorado</th>\n",
       "      <td>True</td>\n",
       "      <td>False</td>\n",
       "      <td>False</td>\n",
       "      <td>False</td>\n",
       "    </tr>\n",
       "    <tr>\n",
       "      <th>Utah</th>\n",
       "      <td>False</td>\n",
       "      <td>False</td>\n",
       "      <td>False</td>\n",
       "      <td>False</td>\n",
       "    </tr>\n",
       "    <tr>\n",
       "      <th>New York</th>\n",
       "      <td>False</td>\n",
       "      <td>False</td>\n",
       "      <td>False</td>\n",
       "      <td>False</td>\n",
       "    </tr>\n",
       "  </tbody>\n",
       "</table>\n",
       "</div>"
      ],
      "text/plain": [
       "            one    two  three   four\n",
       "Ohio       True   True   True   True\n",
       "Colorado   True  False  False  False\n",
       "Utah      False  False  False  False\n",
       "New York  False  False  False  False"
      ]
     },
     "execution_count": 168,
     "metadata": {},
     "output_type": "execute_result"
    }
   ],
   "source": [
    "In [134]: data < 5"
   ]
  },
  {
   "cell_type": "code",
   "execution_count": 169,
   "metadata": {
    "colab": {
     "base_uri": "https://localhost:8080/",
     "height": 173
    },
    "executionInfo": {
     "elapsed": 1295,
     "status": "ok",
     "timestamp": 1607487687158,
     "user": {
      "displayName": "prathviraj shetty",
      "photoUrl": "https://lh3.googleusercontent.com/a-/AOh14GhKody4bMBhr3sFjBRSMtPKerrzBoUK7stNKBFvrA=s64",
      "userId": "03618971057838723327"
     },
     "user_tz": -330
    },
    "id": "mDYNhK3C9RtE",
    "outputId": "109a9d34-39d5-4f1a-af11-a6fc2c04483b"
   },
   "outputs": [
    {
     "data": {
      "text/html": [
       "<div>\n",
       "<style scoped>\n",
       "    .dataframe tbody tr th:only-of-type {\n",
       "        vertical-align: middle;\n",
       "    }\n",
       "\n",
       "    .dataframe tbody tr th {\n",
       "        vertical-align: top;\n",
       "    }\n",
       "\n",
       "    .dataframe thead th {\n",
       "        text-align: right;\n",
       "    }\n",
       "</style>\n",
       "<table border=\"1\" class=\"dataframe\">\n",
       "  <thead>\n",
       "    <tr style=\"text-align: right;\">\n",
       "      <th></th>\n",
       "      <th>one</th>\n",
       "      <th>two</th>\n",
       "      <th>three</th>\n",
       "      <th>four</th>\n",
       "    </tr>\n",
       "  </thead>\n",
       "  <tbody>\n",
       "    <tr>\n",
       "      <th>Ohio</th>\n",
       "      <td>0</td>\n",
       "      <td>0</td>\n",
       "      <td>0</td>\n",
       "      <td>0</td>\n",
       "    </tr>\n",
       "    <tr>\n",
       "      <th>Colorado</th>\n",
       "      <td>0</td>\n",
       "      <td>5</td>\n",
       "      <td>6</td>\n",
       "      <td>7</td>\n",
       "    </tr>\n",
       "    <tr>\n",
       "      <th>Utah</th>\n",
       "      <td>8</td>\n",
       "      <td>9</td>\n",
       "      <td>10</td>\n",
       "      <td>11</td>\n",
       "    </tr>\n",
       "    <tr>\n",
       "      <th>New York</th>\n",
       "      <td>12</td>\n",
       "      <td>13</td>\n",
       "      <td>14</td>\n",
       "      <td>15</td>\n",
       "    </tr>\n",
       "  </tbody>\n",
       "</table>\n",
       "</div>"
      ],
      "text/plain": [
       "          one  two  three  four\n",
       "Ohio        0    0      0     0\n",
       "Colorado    0    5      6     7\n",
       "Utah        8    9     10    11\n",
       "New York   12   13     14    15"
      ]
     },
     "execution_count": 169,
     "metadata": {},
     "output_type": "execute_result"
    }
   ],
   "source": [
    "In [135]: data[data < 5] = 0\n",
    "In [136]: data"
   ]
  },
  {
   "cell_type": "markdown",
   "metadata": {
    "id": "UbRft53-9e-w"
   },
   "source": [
    "**Selection with loc and iloc**"
   ]
  },
  {
   "cell_type": "code",
   "execution_count": 170,
   "metadata": {
    "colab": {
     "base_uri": "https://localhost:8080/"
    },
    "executionInfo": {
     "elapsed": 1381,
     "status": "ok",
     "timestamp": 1607487861491,
     "user": {
      "displayName": "prathviraj shetty",
      "photoUrl": "https://lh3.googleusercontent.com/a-/AOh14GhKody4bMBhr3sFjBRSMtPKerrzBoUK7stNKBFvrA=s64",
      "userId": "03618971057838723327"
     },
     "user_tz": -330
    },
    "id": "mSsPi7CD9c8w",
    "outputId": "a07f1e37-c83f-42a6-f90d-c0d941e3c147"
   },
   "outputs": [
    {
     "data": {
      "text/plain": [
       "two      5\n",
       "three    6\n",
       "Name: Colorado, dtype: int32"
      ]
     },
     "execution_count": 170,
     "metadata": {},
     "output_type": "execute_result"
    }
   ],
   "source": [
    "In [137]: data.loc['Colorado', ['two', 'three']]"
   ]
  },
  {
   "cell_type": "code",
   "execution_count": 171,
   "metadata": {
    "colab": {
     "base_uri": "https://localhost:8080/"
    },
    "executionInfo": {
     "elapsed": 1279,
     "status": "ok",
     "timestamp": 1607487892754,
     "user": {
      "displayName": "prathviraj shetty",
      "photoUrl": "https://lh3.googleusercontent.com/a-/AOh14GhKody4bMBhr3sFjBRSMtPKerrzBoUK7stNKBFvrA=s64",
      "userId": "03618971057838723327"
     },
     "user_tz": -330
    },
    "id": "ziIAqRZb9Y7a",
    "outputId": "d0be1c70-8df1-4bfd-8587-24c71cffa942"
   },
   "outputs": [
    {
     "data": {
      "text/plain": [
       "four    11\n",
       "one      8\n",
       "two      9\n",
       "Name: Utah, dtype: int32"
      ]
     },
     "execution_count": 171,
     "metadata": {},
     "output_type": "execute_result"
    }
   ],
   "source": [
    "In [138]: data.iloc[2, [3, 0, 1]]"
   ]
  },
  {
   "cell_type": "code",
   "execution_count": 172,
   "metadata": {
    "id": "qHtTyw6o-u59"
   },
   "outputs": [
    {
     "data": {
      "text/html": [
       "<div>\n",
       "<style scoped>\n",
       "    .dataframe tbody tr th:only-of-type {\n",
       "        vertical-align: middle;\n",
       "    }\n",
       "\n",
       "    .dataframe tbody tr th {\n",
       "        vertical-align: top;\n",
       "    }\n",
       "\n",
       "    .dataframe thead th {\n",
       "        text-align: right;\n",
       "    }\n",
       "</style>\n",
       "<table border=\"1\" class=\"dataframe\">\n",
       "  <thead>\n",
       "    <tr style=\"text-align: right;\">\n",
       "      <th></th>\n",
       "      <th>one</th>\n",
       "      <th>two</th>\n",
       "      <th>three</th>\n",
       "    </tr>\n",
       "  </thead>\n",
       "  <tbody>\n",
       "    <tr>\n",
       "      <th>Colorado</th>\n",
       "      <td>0</td>\n",
       "      <td>5</td>\n",
       "      <td>6</td>\n",
       "    </tr>\n",
       "    <tr>\n",
       "      <th>Utah</th>\n",
       "      <td>8</td>\n",
       "      <td>9</td>\n",
       "      <td>10</td>\n",
       "    </tr>\n",
       "    <tr>\n",
       "      <th>New York</th>\n",
       "      <td>12</td>\n",
       "      <td>13</td>\n",
       "      <td>14</td>\n",
       "    </tr>\n",
       "  </tbody>\n",
       "</table>\n",
       "</div>"
      ],
      "text/plain": [
       "          one  two  three\n",
       "Colorado    0    5      6\n",
       "Utah        8    9     10\n",
       "New York   12   13     14"
      ]
     },
     "execution_count": 172,
     "metadata": {},
     "output_type": "execute_result"
    }
   ],
   "source": [
    "In [142]: data.iloc[:, :3][data.three > 5]"
   ]
  },
  {
   "cell_type": "markdown",
   "metadata": {
    "id": "ry-_dVRU-y8G"
   },
   "source": [
    "**Integer Indexes**"
   ]
  },
  {
   "cell_type": "code",
   "execution_count": 173,
   "metadata": {
    "colab": {
     "base_uri": "https://localhost:8080/"
    },
    "executionInfo": {
     "elapsed": 1319,
     "status": "ok",
     "timestamp": 1607657917666,
     "user": {
      "displayName": "prathviraj shetty",
      "photoUrl": "https://lh3.googleusercontent.com/a-/AOh14GhKody4bMBhr3sFjBRSMtPKerrzBoUK7stNKBFvrA=s64",
      "userId": "03618971057838723327"
     },
     "user_tz": -330
    },
    "id": "otrsRBm9-7A_",
    "outputId": "c795d13e-0332-4122-bc6f-1d892e4fe59c"
   },
   "outputs": [
    {
     "data": {
      "text/plain": [
       "0    0.0\n",
       "1    1.0\n",
       "2    2.0\n",
       "dtype: float64"
      ]
     },
     "execution_count": 173,
     "metadata": {},
     "output_type": "execute_result"
    }
   ],
   "source": [
    "ser = pd.Series(np.arange(3.))\n",
    "ser"
   ]
  },
  {
   "cell_type": "code",
   "execution_count": 175,
   "metadata": {
    "colab": {
     "base_uri": "https://localhost:8080/",
     "height": 425
    },
    "executionInfo": {
     "elapsed": 1369,
     "status": "error",
     "timestamp": 1607657932343,
     "user": {
      "displayName": "prathviraj shetty",
      "photoUrl": "https://lh3.googleusercontent.com/a-/AOh14GhKody4bMBhr3sFjBRSMtPKerrzBoUK7stNKBFvrA=s64",
      "userId": "03618971057838723327"
     },
     "user_tz": -330
    },
    "id": "Xon9O3rV_81d",
    "outputId": "4ccb6c52-07a2-439e-8e31-8535293ee71a"
   },
   "outputs": [
    {
     "data": {
      "text/plain": [
       "1.0"
      ]
     },
     "execution_count": 175,
     "metadata": {},
     "output_type": "execute_result"
    }
   ],
   "source": [
    "ser[1]"
   ]
  },
  {
   "cell_type": "code",
   "execution_count": 176,
   "metadata": {
    "colab": {
     "base_uri": "https://localhost:8080/"
    },
    "executionInfo": {
     "elapsed": 1267,
     "status": "ok",
     "timestamp": 1607657967110,
     "user": {
      "displayName": "prathviraj shetty",
      "photoUrl": "https://lh3.googleusercontent.com/a-/AOh14GhKody4bMBhr3sFjBRSMtPKerrzBoUK7stNKBFvrA=s64",
      "userId": "03618971057838723327"
     },
     "user_tz": -330
    },
    "id": "Fu6d2GhpAEEz",
    "outputId": "fcb14948-92ec-420d-fff6-4b70db22c52c"
   },
   "outputs": [
    {
     "data": {
      "text/plain": [
       "2.0"
      ]
     },
     "execution_count": 176,
     "metadata": {},
     "output_type": "execute_result"
    }
   ],
   "source": [
    "In [145]: ser2 = pd.Series(np.arange(3.), index=['a', 'b', 'c'])\n",
    "In [146]: ser2[-1]"
   ]
  },
  {
   "cell_type": "code",
   "execution_count": 177,
   "metadata": {
    "colab": {
     "base_uri": "https://localhost:8080/"
    },
    "executionInfo": {
     "elapsed": 1298,
     "status": "ok",
     "timestamp": 1607658034790,
     "user": {
      "displayName": "prathviraj shetty",
      "photoUrl": "https://lh3.googleusercontent.com/a-/AOh14GhKody4bMBhr3sFjBRSMtPKerrzBoUK7stNKBFvrA=s64",
      "userId": "03618971057838723327"
     },
     "user_tz": -330
    },
    "id": "JcDHFqU4AcG9",
    "outputId": "a8d28912-8fb2-433d-b7cd-782ea003db8e"
   },
   "outputs": [
    {
     "data": {
      "text/plain": [
       "0    0.0\n",
       "dtype: float64"
      ]
     },
     "execution_count": 177,
     "metadata": {},
     "output_type": "execute_result"
    }
   ],
   "source": [
    "In [147]: ser[:1]"
   ]
  },
  {
   "cell_type": "code",
   "execution_count": 178,
   "metadata": {
    "colab": {
     "base_uri": "https://localhost:8080/"
    },
    "executionInfo": {
     "elapsed": 1268,
     "status": "ok",
     "timestamp": 1607658152961,
     "user": {
      "displayName": "prathviraj shetty",
      "photoUrl": "https://lh3.googleusercontent.com/a-/AOh14GhKody4bMBhr3sFjBRSMtPKerrzBoUK7stNKBFvrA=s64",
      "userId": "03618971057838723327"
     },
     "user_tz": -330
    },
    "id": "YaJv7G9PAdHi",
    "outputId": "58e8726d-5333-449a-b1ed-7f30e48399f0"
   },
   "outputs": [
    {
     "data": {
      "text/plain": [
       "0    0.0\n",
       "1    1.0\n",
       "dtype: float64"
      ]
     },
     "execution_count": 178,
     "metadata": {},
     "output_type": "execute_result"
    }
   ],
   "source": [
    "In [148]: ser.loc[:1]"
   ]
  },
  {
   "cell_type": "markdown",
   "metadata": {
    "id": "e6RDOnR8Apj-"
   },
   "source": [
    "**Arithmetic and Data Alignment**"
   ]
  },
  {
   "cell_type": "code",
   "execution_count": 179,
   "metadata": {
    "colab": {
     "base_uri": "https://localhost:8080/"
    },
    "executionInfo": {
     "elapsed": 1317,
     "status": "ok",
     "timestamp": 1607658210766,
     "user": {
      "displayName": "prathviraj shetty",
      "photoUrl": "https://lh3.googleusercontent.com/a-/AOh14GhKody4bMBhr3sFjBRSMtPKerrzBoUK7stNKBFvrA=s64",
      "userId": "03618971057838723327"
     },
     "user_tz": -330
    },
    "id": "whUDBSAMAgN_",
    "outputId": "9ab730de-061c-4022-d869-8ca2b5b614c9"
   },
   "outputs": [
    {
     "data": {
      "text/plain": [
       "a    7.3\n",
       "c   -2.5\n",
       "d    3.4\n",
       "e    1.5\n",
       "dtype: float64"
      ]
     },
     "execution_count": 179,
     "metadata": {},
     "output_type": "execute_result"
    }
   ],
   "source": [
    "In [150]: s1 = pd.Series([7.3, -2.5, 3.4, 1.5], index=['a', 'c', 'd', 'e'])\n",
    "In [151]: s2 = pd.Series([-2.1, 3.6, -1.5, 4, 3.1],\n",
    ".....: index=['a', 'c', 'e', 'f', 'g'])\n",
    "In [152]: s1"
   ]
  },
  {
   "cell_type": "code",
   "execution_count": 180,
   "metadata": {
    "colab": {
     "base_uri": "https://localhost:8080/"
    },
    "executionInfo": {
     "elapsed": 1278,
     "status": "ok",
     "timestamp": 1607658230216,
     "user": {
      "displayName": "prathviraj shetty",
      "photoUrl": "https://lh3.googleusercontent.com/a-/AOh14GhKody4bMBhr3sFjBRSMtPKerrzBoUK7stNKBFvrA=s64",
      "userId": "03618971057838723327"
     },
     "user_tz": -330
    },
    "id": "6yNCellPHcF5",
    "outputId": "87675605-a221-4b7f-bc28-20b90495c9b1"
   },
   "outputs": [
    {
     "data": {
      "text/plain": [
       "a   -2.1\n",
       "c    3.6\n",
       "e   -1.5\n",
       "f    4.0\n",
       "g    3.1\n",
       "dtype: float64"
      ]
     },
     "execution_count": 180,
     "metadata": {},
     "output_type": "execute_result"
    }
   ],
   "source": [
    "s2"
   ]
  },
  {
   "cell_type": "code",
   "execution_count": 181,
   "metadata": {
    "colab": {
     "base_uri": "https://localhost:8080/"
    },
    "executionInfo": {
     "elapsed": 1337,
     "status": "ok",
     "timestamp": 1607658245792,
     "user": {
      "displayName": "prathviraj shetty",
      "photoUrl": "https://lh3.googleusercontent.com/a-/AOh14GhKody4bMBhr3sFjBRSMtPKerrzBoUK7stNKBFvrA=s64",
      "userId": "03618971057838723327"
     },
     "user_tz": -330
    },
    "id": "HXyw1L64Hoav",
    "outputId": "5e1c0ad3-5232-4b22-dcf1-2736dfd047cc"
   },
   "outputs": [
    {
     "data": {
      "text/plain": [
       "a    5.2\n",
       "c    1.1\n",
       "d    NaN\n",
       "e    0.0\n",
       "f    NaN\n",
       "g    NaN\n",
       "dtype: float64"
      ]
     },
     "execution_count": 181,
     "metadata": {},
     "output_type": "execute_result"
    }
   ],
   "source": [
    "In [154]: s1 + s2"
   ]
  },
  {
   "cell_type": "code",
   "execution_count": 182,
   "metadata": {
    "colab": {
     "base_uri": "https://localhost:8080/",
     "height": 142
    },
    "executionInfo": {
     "elapsed": 1338,
     "status": "ok",
     "timestamp": 1607658318861,
     "user": {
      "displayName": "prathviraj shetty",
      "photoUrl": "https://lh3.googleusercontent.com/a-/AOh14GhKody4bMBhr3sFjBRSMtPKerrzBoUK7stNKBFvrA=s64",
      "userId": "03618971057838723327"
     },
     "user_tz": -330
    },
    "id": "KBajQ5N9ImY_",
    "outputId": "1a80cae0-29a8-4c07-b32d-4a52f01a0d54"
   },
   "outputs": [
    {
     "data": {
      "text/html": [
       "<div>\n",
       "<style scoped>\n",
       "    .dataframe tbody tr th:only-of-type {\n",
       "        vertical-align: middle;\n",
       "    }\n",
       "\n",
       "    .dataframe tbody tr th {\n",
       "        vertical-align: top;\n",
       "    }\n",
       "\n",
       "    .dataframe thead th {\n",
       "        text-align: right;\n",
       "    }\n",
       "</style>\n",
       "<table border=\"1\" class=\"dataframe\">\n",
       "  <thead>\n",
       "    <tr style=\"text-align: right;\">\n",
       "      <th></th>\n",
       "      <th>b</th>\n",
       "      <th>c</th>\n",
       "      <th>d</th>\n",
       "    </tr>\n",
       "  </thead>\n",
       "  <tbody>\n",
       "    <tr>\n",
       "      <th>Ohio</th>\n",
       "      <td>0.0</td>\n",
       "      <td>1.0</td>\n",
       "      <td>2.0</td>\n",
       "    </tr>\n",
       "    <tr>\n",
       "      <th>Texas</th>\n",
       "      <td>3.0</td>\n",
       "      <td>4.0</td>\n",
       "      <td>5.0</td>\n",
       "    </tr>\n",
       "    <tr>\n",
       "      <th>Colorado</th>\n",
       "      <td>6.0</td>\n",
       "      <td>7.0</td>\n",
       "      <td>8.0</td>\n",
       "    </tr>\n",
       "  </tbody>\n",
       "</table>\n",
       "</div>"
      ],
      "text/plain": [
       "            b    c    d\n",
       "Ohio      0.0  1.0  2.0\n",
       "Texas     3.0  4.0  5.0\n",
       "Colorado  6.0  7.0  8.0"
      ]
     },
     "execution_count": 182,
     "metadata": {},
     "output_type": "execute_result"
    }
   ],
   "source": [
    "In [155]: df1 = pd.DataFrame(np.arange(9.).reshape((3, 3)), columns=list('bcd'),\n",
    ".....: index=['Ohio', 'Texas', 'Colorado'])\n",
    "In [156]: df2 = pd.DataFrame(np.arange(12.).reshape((4, 3)), columns=list('bde'),\n",
    ".....: index=['Utah', 'Ohio', 'Texas', 'Oregon'])\n",
    "In [157]: df1"
   ]
  },
  {
   "cell_type": "code",
   "execution_count": 183,
   "metadata": {
    "colab": {
     "base_uri": "https://localhost:8080/",
     "height": 173
    },
    "executionInfo": {
     "elapsed": 1369,
     "status": "ok",
     "timestamp": 1607658363666,
     "user": {
      "displayName": "prathviraj shetty",
      "photoUrl": "https://lh3.googleusercontent.com/a-/AOh14GhKody4bMBhr3sFjBRSMtPKerrzBoUK7stNKBFvrA=s64",
      "userId": "03618971057838723327"
     },
     "user_tz": -330
    },
    "id": "249JwWJbI4M5",
    "outputId": "2fc4506d-0627-436e-af13-b75db88ee64f"
   },
   "outputs": [
    {
     "data": {
      "text/html": [
       "<div>\n",
       "<style scoped>\n",
       "    .dataframe tbody tr th:only-of-type {\n",
       "        vertical-align: middle;\n",
       "    }\n",
       "\n",
       "    .dataframe tbody tr th {\n",
       "        vertical-align: top;\n",
       "    }\n",
       "\n",
       "    .dataframe thead th {\n",
       "        text-align: right;\n",
       "    }\n",
       "</style>\n",
       "<table border=\"1\" class=\"dataframe\">\n",
       "  <thead>\n",
       "    <tr style=\"text-align: right;\">\n",
       "      <th></th>\n",
       "      <th>b</th>\n",
       "      <th>d</th>\n",
       "      <th>e</th>\n",
       "    </tr>\n",
       "  </thead>\n",
       "  <tbody>\n",
       "    <tr>\n",
       "      <th>Utah</th>\n",
       "      <td>0.0</td>\n",
       "      <td>1.0</td>\n",
       "      <td>2.0</td>\n",
       "    </tr>\n",
       "    <tr>\n",
       "      <th>Ohio</th>\n",
       "      <td>3.0</td>\n",
       "      <td>4.0</td>\n",
       "      <td>5.0</td>\n",
       "    </tr>\n",
       "    <tr>\n",
       "      <th>Texas</th>\n",
       "      <td>6.0</td>\n",
       "      <td>7.0</td>\n",
       "      <td>8.0</td>\n",
       "    </tr>\n",
       "    <tr>\n",
       "      <th>Oregon</th>\n",
       "      <td>9.0</td>\n",
       "      <td>10.0</td>\n",
       "      <td>11.0</td>\n",
       "    </tr>\n",
       "  </tbody>\n",
       "</table>\n",
       "</div>"
      ],
      "text/plain": [
       "          b     d     e\n",
       "Utah    0.0   1.0   2.0\n",
       "Ohio    3.0   4.0   5.0\n",
       "Texas   6.0   7.0   8.0\n",
       "Oregon  9.0  10.0  11.0"
      ]
     },
     "execution_count": 183,
     "metadata": {},
     "output_type": "execute_result"
    }
   ],
   "source": [
    "df2"
   ]
  },
  {
   "cell_type": "code",
   "execution_count": 184,
   "metadata": {
    "colab": {
     "base_uri": "https://localhost:8080/",
     "height": 204
    },
    "executionInfo": {
     "elapsed": 1271,
     "status": "ok",
     "timestamp": 1607658372066,
     "user": {
      "displayName": "prathviraj shetty",
      "photoUrl": "https://lh3.googleusercontent.com/a-/AOh14GhKody4bMBhr3sFjBRSMtPKerrzBoUK7stNKBFvrA=s64",
      "userId": "03618971057838723327"
     },
     "user_tz": -330
    },
    "id": "JSXlcQqqI7G0",
    "outputId": "7613ea0c-e5b6-49d2-b1d1-3a930f29edc7"
   },
   "outputs": [
    {
     "data": {
      "text/html": [
       "<div>\n",
       "<style scoped>\n",
       "    .dataframe tbody tr th:only-of-type {\n",
       "        vertical-align: middle;\n",
       "    }\n",
       "\n",
       "    .dataframe tbody tr th {\n",
       "        vertical-align: top;\n",
       "    }\n",
       "\n",
       "    .dataframe thead th {\n",
       "        text-align: right;\n",
       "    }\n",
       "</style>\n",
       "<table border=\"1\" class=\"dataframe\">\n",
       "  <thead>\n",
       "    <tr style=\"text-align: right;\">\n",
       "      <th></th>\n",
       "      <th>b</th>\n",
       "      <th>c</th>\n",
       "      <th>d</th>\n",
       "      <th>e</th>\n",
       "    </tr>\n",
       "  </thead>\n",
       "  <tbody>\n",
       "    <tr>\n",
       "      <th>Colorado</th>\n",
       "      <td>NaN</td>\n",
       "      <td>NaN</td>\n",
       "      <td>NaN</td>\n",
       "      <td>NaN</td>\n",
       "    </tr>\n",
       "    <tr>\n",
       "      <th>Ohio</th>\n",
       "      <td>3.0</td>\n",
       "      <td>NaN</td>\n",
       "      <td>6.0</td>\n",
       "      <td>NaN</td>\n",
       "    </tr>\n",
       "    <tr>\n",
       "      <th>Oregon</th>\n",
       "      <td>NaN</td>\n",
       "      <td>NaN</td>\n",
       "      <td>NaN</td>\n",
       "      <td>NaN</td>\n",
       "    </tr>\n",
       "    <tr>\n",
       "      <th>Texas</th>\n",
       "      <td>9.0</td>\n",
       "      <td>NaN</td>\n",
       "      <td>12.0</td>\n",
       "      <td>NaN</td>\n",
       "    </tr>\n",
       "    <tr>\n",
       "      <th>Utah</th>\n",
       "      <td>NaN</td>\n",
       "      <td>NaN</td>\n",
       "      <td>NaN</td>\n",
       "      <td>NaN</td>\n",
       "    </tr>\n",
       "  </tbody>\n",
       "</table>\n",
       "</div>"
      ],
      "text/plain": [
       "            b   c     d   e\n",
       "Colorado  NaN NaN   NaN NaN\n",
       "Ohio      3.0 NaN   6.0 NaN\n",
       "Oregon    NaN NaN   NaN NaN\n",
       "Texas     9.0 NaN  12.0 NaN\n",
       "Utah      NaN NaN   NaN NaN"
      ]
     },
     "execution_count": 184,
     "metadata": {},
     "output_type": "execute_result"
    }
   ],
   "source": [
    "In [159]: df1 + df2"
   ]
  },
  {
   "cell_type": "code",
   "execution_count": 185,
   "metadata": {
    "colab": {
     "base_uri": "https://localhost:8080/",
     "height": 142
    },
    "executionInfo": {
     "elapsed": 1362,
     "status": "ok",
     "timestamp": 1607658569213,
     "user": {
      "displayName": "prathviraj shetty",
      "photoUrl": "https://lh3.googleusercontent.com/a-/AOh14GhKody4bMBhr3sFjBRSMtPKerrzBoUK7stNKBFvrA=s64",
      "userId": "03618971057838723327"
     },
     "user_tz": -330
    },
    "id": "QfGxTB6OJC1S",
    "outputId": "39e439fd-1d05-41b9-8bc5-7960b65affeb"
   },
   "outputs": [
    {
     "data": {
      "text/html": [
       "<div>\n",
       "<style scoped>\n",
       "    .dataframe tbody tr th:only-of-type {\n",
       "        vertical-align: middle;\n",
       "    }\n",
       "\n",
       "    .dataframe tbody tr th {\n",
       "        vertical-align: top;\n",
       "    }\n",
       "\n",
       "    .dataframe thead th {\n",
       "        text-align: right;\n",
       "    }\n",
       "</style>\n",
       "<table border=\"1\" class=\"dataframe\">\n",
       "  <thead>\n",
       "    <tr style=\"text-align: right;\">\n",
       "      <th></th>\n",
       "      <th>a</th>\n",
       "      <th>b</th>\n",
       "      <th>c</th>\n",
       "      <th>d</th>\n",
       "    </tr>\n",
       "  </thead>\n",
       "  <tbody>\n",
       "    <tr>\n",
       "      <th>0</th>\n",
       "      <td>0.0</td>\n",
       "      <td>1.0</td>\n",
       "      <td>2.0</td>\n",
       "      <td>3.0</td>\n",
       "    </tr>\n",
       "    <tr>\n",
       "      <th>1</th>\n",
       "      <td>4.0</td>\n",
       "      <td>5.0</td>\n",
       "      <td>6.0</td>\n",
       "      <td>7.0</td>\n",
       "    </tr>\n",
       "    <tr>\n",
       "      <th>2</th>\n",
       "      <td>8.0</td>\n",
       "      <td>9.0</td>\n",
       "      <td>10.0</td>\n",
       "      <td>11.0</td>\n",
       "    </tr>\n",
       "  </tbody>\n",
       "</table>\n",
       "</div>"
      ],
      "text/plain": [
       "     a    b     c     d\n",
       "0  0.0  1.0   2.0   3.0\n",
       "1  4.0  5.0   6.0   7.0\n",
       "2  8.0  9.0  10.0  11.0"
      ]
     },
     "execution_count": 185,
     "metadata": {},
     "output_type": "execute_result"
    }
   ],
   "source": [
    "In [165]: df1 = pd.DataFrame(np.arange(12.).reshape((3, 4)),\n",
    ".....: columns=list('abcd'))\n",
    "In [166]: df2 = pd.DataFrame(np.arange(20.).reshape((4, 5)),\n",
    ".....: columns=list('abcde'))\n",
    "In [167]: df2.loc[1, 'b'] = np.nan\n",
    "In [168]: df1"
   ]
  },
  {
   "cell_type": "code",
   "execution_count": 186,
   "metadata": {
    "colab": {
     "base_uri": "https://localhost:8080/",
     "height": 173
    },
    "executionInfo": {
     "elapsed": 1346,
     "status": "ok",
     "timestamp": 1607658592227,
     "user": {
      "displayName": "prathviraj shetty",
      "photoUrl": "https://lh3.googleusercontent.com/a-/AOh14GhKody4bMBhr3sFjBRSMtPKerrzBoUK7stNKBFvrA=s64",
      "userId": "03618971057838723327"
     },
     "user_tz": -330
    },
    "id": "mIpyUbztJ2Sw",
    "outputId": "e00edf46-9cc1-41de-a3fa-3446487d880a"
   },
   "outputs": [
    {
     "data": {
      "text/html": [
       "<div>\n",
       "<style scoped>\n",
       "    .dataframe tbody tr th:only-of-type {\n",
       "        vertical-align: middle;\n",
       "    }\n",
       "\n",
       "    .dataframe tbody tr th {\n",
       "        vertical-align: top;\n",
       "    }\n",
       "\n",
       "    .dataframe thead th {\n",
       "        text-align: right;\n",
       "    }\n",
       "</style>\n",
       "<table border=\"1\" class=\"dataframe\">\n",
       "  <thead>\n",
       "    <tr style=\"text-align: right;\">\n",
       "      <th></th>\n",
       "      <th>a</th>\n",
       "      <th>b</th>\n",
       "      <th>c</th>\n",
       "      <th>d</th>\n",
       "      <th>e</th>\n",
       "    </tr>\n",
       "  </thead>\n",
       "  <tbody>\n",
       "    <tr>\n",
       "      <th>0</th>\n",
       "      <td>0.0</td>\n",
       "      <td>1.0</td>\n",
       "      <td>2.0</td>\n",
       "      <td>3.0</td>\n",
       "      <td>4.0</td>\n",
       "    </tr>\n",
       "    <tr>\n",
       "      <th>1</th>\n",
       "      <td>5.0</td>\n",
       "      <td>NaN</td>\n",
       "      <td>7.0</td>\n",
       "      <td>8.0</td>\n",
       "      <td>9.0</td>\n",
       "    </tr>\n",
       "    <tr>\n",
       "      <th>2</th>\n",
       "      <td>10.0</td>\n",
       "      <td>11.0</td>\n",
       "      <td>12.0</td>\n",
       "      <td>13.0</td>\n",
       "      <td>14.0</td>\n",
       "    </tr>\n",
       "    <tr>\n",
       "      <th>3</th>\n",
       "      <td>15.0</td>\n",
       "      <td>16.0</td>\n",
       "      <td>17.0</td>\n",
       "      <td>18.0</td>\n",
       "      <td>19.0</td>\n",
       "    </tr>\n",
       "  </tbody>\n",
       "</table>\n",
       "</div>"
      ],
      "text/plain": [
       "      a     b     c     d     e\n",
       "0   0.0   1.0   2.0   3.0   4.0\n",
       "1   5.0   NaN   7.0   8.0   9.0\n",
       "2  10.0  11.0  12.0  13.0  14.0\n",
       "3  15.0  16.0  17.0  18.0  19.0"
      ]
     },
     "execution_count": 186,
     "metadata": {},
     "output_type": "execute_result"
    }
   ],
   "source": [
    "df2"
   ]
  },
  {
   "cell_type": "code",
   "execution_count": 187,
   "metadata": {
    "colab": {
     "base_uri": "https://localhost:8080/",
     "height": 173
    },
    "executionInfo": {
     "elapsed": 1628,
     "status": "ok",
     "timestamp": 1607658685695,
     "user": {
      "displayName": "prathviraj shetty",
      "photoUrl": "https://lh3.googleusercontent.com/a-/AOh14GhKody4bMBhr3sFjBRSMtPKerrzBoUK7stNKBFvrA=s64",
      "userId": "03618971057838723327"
     },
     "user_tz": -330
    },
    "id": "g0XojodiJ5bt",
    "outputId": "170c3e7b-821c-4cd7-daeb-1540e0e6e103"
   },
   "outputs": [
    {
     "data": {
      "text/html": [
       "<div>\n",
       "<style scoped>\n",
       "    .dataframe tbody tr th:only-of-type {\n",
       "        vertical-align: middle;\n",
       "    }\n",
       "\n",
       "    .dataframe tbody tr th {\n",
       "        vertical-align: top;\n",
       "    }\n",
       "\n",
       "    .dataframe thead th {\n",
       "        text-align: right;\n",
       "    }\n",
       "</style>\n",
       "<table border=\"1\" class=\"dataframe\">\n",
       "  <thead>\n",
       "    <tr style=\"text-align: right;\">\n",
       "      <th></th>\n",
       "      <th>a</th>\n",
       "      <th>b</th>\n",
       "      <th>c</th>\n",
       "      <th>d</th>\n",
       "      <th>e</th>\n",
       "    </tr>\n",
       "  </thead>\n",
       "  <tbody>\n",
       "    <tr>\n",
       "      <th>0</th>\n",
       "      <td>0.0</td>\n",
       "      <td>2.0</td>\n",
       "      <td>4.0</td>\n",
       "      <td>6.0</td>\n",
       "      <td>NaN</td>\n",
       "    </tr>\n",
       "    <tr>\n",
       "      <th>1</th>\n",
       "      <td>9.0</td>\n",
       "      <td>NaN</td>\n",
       "      <td>13.0</td>\n",
       "      <td>15.0</td>\n",
       "      <td>NaN</td>\n",
       "    </tr>\n",
       "    <tr>\n",
       "      <th>2</th>\n",
       "      <td>18.0</td>\n",
       "      <td>20.0</td>\n",
       "      <td>22.0</td>\n",
       "      <td>24.0</td>\n",
       "      <td>NaN</td>\n",
       "    </tr>\n",
       "    <tr>\n",
       "      <th>3</th>\n",
       "      <td>NaN</td>\n",
       "      <td>NaN</td>\n",
       "      <td>NaN</td>\n",
       "      <td>NaN</td>\n",
       "      <td>NaN</td>\n",
       "    </tr>\n",
       "  </tbody>\n",
       "</table>\n",
       "</div>"
      ],
      "text/plain": [
       "      a     b     c     d   e\n",
       "0   0.0   2.0   4.0   6.0 NaN\n",
       "1   9.0   NaN  13.0  15.0 NaN\n",
       "2  18.0  20.0  22.0  24.0 NaN\n",
       "3   NaN   NaN   NaN   NaN NaN"
      ]
     },
     "execution_count": 187,
     "metadata": {},
     "output_type": "execute_result"
    }
   ],
   "source": [
    "In [170]: df1 + df2"
   ]
  },
  {
   "cell_type": "code",
   "execution_count": 188,
   "metadata": {
    "colab": {
     "base_uri": "https://localhost:8080/",
     "height": 173
    },
    "executionInfo": {
     "elapsed": 1254,
     "status": "ok",
     "timestamp": 1607658760617,
     "user": {
      "displayName": "prathviraj shetty",
      "photoUrl": "https://lh3.googleusercontent.com/a-/AOh14GhKody4bMBhr3sFjBRSMtPKerrzBoUK7stNKBFvrA=s64",
      "userId": "03618971057838723327"
     },
     "user_tz": -330
    },
    "id": "H2PhZLZSJ9_t",
    "outputId": "fa377c30-10b9-485c-f3e1-257976c8be4f"
   },
   "outputs": [
    {
     "data": {
      "text/html": [
       "<div>\n",
       "<style scoped>\n",
       "    .dataframe tbody tr th:only-of-type {\n",
       "        vertical-align: middle;\n",
       "    }\n",
       "\n",
       "    .dataframe tbody tr th {\n",
       "        vertical-align: top;\n",
       "    }\n",
       "\n",
       "    .dataframe thead th {\n",
       "        text-align: right;\n",
       "    }\n",
       "</style>\n",
       "<table border=\"1\" class=\"dataframe\">\n",
       "  <thead>\n",
       "    <tr style=\"text-align: right;\">\n",
       "      <th></th>\n",
       "      <th>a</th>\n",
       "      <th>b</th>\n",
       "      <th>c</th>\n",
       "      <th>d</th>\n",
       "      <th>e</th>\n",
       "    </tr>\n",
       "  </thead>\n",
       "  <tbody>\n",
       "    <tr>\n",
       "      <th>0</th>\n",
       "      <td>0.0</td>\n",
       "      <td>2.0</td>\n",
       "      <td>4.0</td>\n",
       "      <td>6.0</td>\n",
       "      <td>4.0</td>\n",
       "    </tr>\n",
       "    <tr>\n",
       "      <th>1</th>\n",
       "      <td>9.0</td>\n",
       "      <td>5.0</td>\n",
       "      <td>13.0</td>\n",
       "      <td>15.0</td>\n",
       "      <td>9.0</td>\n",
       "    </tr>\n",
       "    <tr>\n",
       "      <th>2</th>\n",
       "      <td>18.0</td>\n",
       "      <td>20.0</td>\n",
       "      <td>22.0</td>\n",
       "      <td>24.0</td>\n",
       "      <td>14.0</td>\n",
       "    </tr>\n",
       "    <tr>\n",
       "      <th>3</th>\n",
       "      <td>15.0</td>\n",
       "      <td>16.0</td>\n",
       "      <td>17.0</td>\n",
       "      <td>18.0</td>\n",
       "      <td>19.0</td>\n",
       "    </tr>\n",
       "  </tbody>\n",
       "</table>\n",
       "</div>"
      ],
      "text/plain": [
       "      a     b     c     d     e\n",
       "0   0.0   2.0   4.0   6.0   4.0\n",
       "1   9.0   5.0  13.0  15.0   9.0\n",
       "2  18.0  20.0  22.0  24.0  14.0\n",
       "3  15.0  16.0  17.0  18.0  19.0"
      ]
     },
     "execution_count": 188,
     "metadata": {},
     "output_type": "execute_result"
    }
   ],
   "source": [
    "In [171]: df1.add(df2, fill_value=0)"
   ]
  },
  {
   "cell_type": "code",
   "execution_count": 189,
   "metadata": {
    "colab": {
     "base_uri": "https://localhost:8080/",
     "height": 142
    },
    "executionInfo": {
     "elapsed": 1292,
     "status": "ok",
     "timestamp": 1607658968461,
     "user": {
      "displayName": "prathviraj shetty",
      "photoUrl": "https://lh3.googleusercontent.com/a-/AOh14GhKody4bMBhr3sFjBRSMtPKerrzBoUK7stNKBFvrA=s64",
      "userId": "03618971057838723327"
     },
     "user_tz": -330
    },
    "id": "iLFtOEfoKV-g",
    "outputId": "de8e0e9d-033a-4f20-bed0-cb776d547ad8"
   },
   "outputs": [
    {
     "data": {
      "text/html": [
       "<div>\n",
       "<style scoped>\n",
       "    .dataframe tbody tr th:only-of-type {\n",
       "        vertical-align: middle;\n",
       "    }\n",
       "\n",
       "    .dataframe tbody tr th {\n",
       "        vertical-align: top;\n",
       "    }\n",
       "\n",
       "    .dataframe thead th {\n",
       "        text-align: right;\n",
       "    }\n",
       "</style>\n",
       "<table border=\"1\" class=\"dataframe\">\n",
       "  <thead>\n",
       "    <tr style=\"text-align: right;\">\n",
       "      <th></th>\n",
       "      <th>a</th>\n",
       "      <th>b</th>\n",
       "      <th>c</th>\n",
       "      <th>d</th>\n",
       "      <th>e</th>\n",
       "    </tr>\n",
       "  </thead>\n",
       "  <tbody>\n",
       "    <tr>\n",
       "      <th>0</th>\n",
       "      <td>0.0</td>\n",
       "      <td>1.0</td>\n",
       "      <td>2.0</td>\n",
       "      <td>3.0</td>\n",
       "      <td>0</td>\n",
       "    </tr>\n",
       "    <tr>\n",
       "      <th>1</th>\n",
       "      <td>4.0</td>\n",
       "      <td>5.0</td>\n",
       "      <td>6.0</td>\n",
       "      <td>7.0</td>\n",
       "      <td>0</td>\n",
       "    </tr>\n",
       "    <tr>\n",
       "      <th>2</th>\n",
       "      <td>8.0</td>\n",
       "      <td>9.0</td>\n",
       "      <td>10.0</td>\n",
       "      <td>11.0</td>\n",
       "      <td>0</td>\n",
       "    </tr>\n",
       "  </tbody>\n",
       "</table>\n",
       "</div>"
      ],
      "text/plain": [
       "     a    b     c     d  e\n",
       "0  0.0  1.0   2.0   3.0  0\n",
       "1  4.0  5.0   6.0   7.0  0\n",
       "2  8.0  9.0  10.0  11.0  0"
      ]
     },
     "execution_count": 189,
     "metadata": {},
     "output_type": "execute_result"
    }
   ],
   "source": [
    "In [174]: df1.reindex(columns=df2.columns, fill_value=0)"
   ]
  },
  {
   "cell_type": "markdown",
   "metadata": {
    "id": "sUjgH2AJKsUG"
   },
   "source": [
    "**Operations between DataFrame and Series**"
   ]
  },
  {
   "cell_type": "code",
   "execution_count": 190,
   "metadata": {
    "colab": {
     "base_uri": "https://localhost:8080/"
    },
    "executionInfo": {
     "elapsed": 2856,
     "status": "ok",
     "timestamp": 1607659335894,
     "user": {
      "displayName": "prathviraj shetty",
      "photoUrl": "https://lh3.googleusercontent.com/a-/AOh14GhKody4bMBhr3sFjBRSMtPKerrzBoUK7stNKBFvrA=s64",
      "userId": "03618971057838723327"
     },
     "user_tz": -330
    },
    "id": "ysdSWXKWKZ54",
    "outputId": "19bbcbe4-377b-4754-83cb-90a2aef0ebf5"
   },
   "outputs": [
    {
     "data": {
      "text/plain": [
       "array([[ 0.,  1.,  2.,  3.],\n",
       "       [ 4.,  5.,  6.,  7.],\n",
       "       [ 8.,  9., 10., 11.]])"
      ]
     },
     "execution_count": 190,
     "metadata": {},
     "output_type": "execute_result"
    }
   ],
   "source": [
    "In [175]: arr = np.arange(12.).reshape((3, 4))\n",
    "In [176]: arr"
   ]
  },
  {
   "cell_type": "code",
   "execution_count": 191,
   "metadata": {
    "colab": {
     "base_uri": "https://localhost:8080/"
    },
    "executionInfo": {
     "elapsed": 2302,
     "status": "ok",
     "timestamp": 1607659349154,
     "user": {
      "displayName": "prathviraj shetty",
      "photoUrl": "https://lh3.googleusercontent.com/a-/AOh14GhKody4bMBhr3sFjBRSMtPKerrzBoUK7stNKBFvrA=s64",
      "userId": "03618971057838723327"
     },
     "user_tz": -330
    },
    "id": "1R6aXNK7K8k3",
    "outputId": "7462ce49-c20e-49d7-a72c-4d5a484f5785"
   },
   "outputs": [
    {
     "data": {
      "text/plain": [
       "array([0., 1., 2., 3.])"
      ]
     },
     "execution_count": 191,
     "metadata": {},
     "output_type": "execute_result"
    }
   ],
   "source": [
    "In [177]: arr[0]"
   ]
  },
  {
   "cell_type": "code",
   "execution_count": 192,
   "metadata": {
    "colab": {
     "base_uri": "https://localhost:8080/"
    },
    "executionInfo": {
     "elapsed": 1454,
     "status": "ok",
     "timestamp": 1607659387588,
     "user": {
      "displayName": "prathviraj shetty",
      "photoUrl": "https://lh3.googleusercontent.com/a-/AOh14GhKody4bMBhr3sFjBRSMtPKerrzBoUK7stNKBFvrA=s64",
      "userId": "03618971057838723327"
     },
     "user_tz": -330
    },
    "id": "Pt5tRNW9LBrA",
    "outputId": "6d200a0e-41df-4a8c-88ab-750e14a1d26d"
   },
   "outputs": [
    {
     "data": {
      "text/plain": [
       "array([[0., 0., 0., 0.],\n",
       "       [4., 4., 4., 4.],\n",
       "       [8., 8., 8., 8.]])"
      ]
     },
     "execution_count": 192,
     "metadata": {},
     "output_type": "execute_result"
    }
   ],
   "source": [
    "In [178]: arr - arr[0]"
   ]
  },
  {
   "cell_type": "code",
   "execution_count": 24,
   "metadata": {
    "executionInfo": {
     "elapsed": 1281,
     "status": "ok",
     "timestamp": 1607659460771,
     "user": {
      "displayName": "prathviraj shetty",
      "photoUrl": "https://lh3.googleusercontent.com/a-/AOh14GhKody4bMBhr3sFjBRSMtPKerrzBoUK7stNKBFvrA=s64",
      "userId": "03618971057838723327"
     },
     "user_tz": -330
    },
    "id": "qO8TWJlMLYRQ"
   },
   "outputs": [],
   "source": [
    "In [179]: frame = pd.DataFrame(np.arange(12.).reshape((4, 3)),\n",
    ".....: columns=list('bde'),\n",
    ".....: index=['Utah', 'Ohio', 'Texas', 'Oregon'])"
   ]
  },
  {
   "cell_type": "code",
   "execution_count": 25,
   "metadata": {
    "colab": {
     "base_uri": "https://localhost:8080/",
     "height": 173
    },
    "executionInfo": {
     "elapsed": 1349,
     "status": "ok",
     "timestamp": 1607659493500,
     "user": {
      "displayName": "prathviraj shetty",
      "photoUrl": "https://lh3.googleusercontent.com/a-/AOh14GhKody4bMBhr3sFjBRSMtPKerrzBoUK7stNKBFvrA=s64",
      "userId": "03618971057838723327"
     },
     "user_tz": -330
    },
    "id": "jeDYghMtLfm_",
    "outputId": "940ce5cf-d4d1-4da2-c963-370c51d2d830"
   },
   "outputs": [
    {
     "data": {
      "text/html": [
       "<div>\n",
       "<style scoped>\n",
       "    .dataframe tbody tr th:only-of-type {\n",
       "        vertical-align: middle;\n",
       "    }\n",
       "\n",
       "    .dataframe tbody tr th {\n",
       "        vertical-align: top;\n",
       "    }\n",
       "\n",
       "    .dataframe thead th {\n",
       "        text-align: right;\n",
       "    }\n",
       "</style>\n",
       "<table border=\"1\" class=\"dataframe\">\n",
       "  <thead>\n",
       "    <tr style=\"text-align: right;\">\n",
       "      <th></th>\n",
       "      <th>b</th>\n",
       "      <th>d</th>\n",
       "      <th>e</th>\n",
       "    </tr>\n",
       "  </thead>\n",
       "  <tbody>\n",
       "    <tr>\n",
       "      <th>Utah</th>\n",
       "      <td>0.0</td>\n",
       "      <td>1.0</td>\n",
       "      <td>2.0</td>\n",
       "    </tr>\n",
       "    <tr>\n",
       "      <th>Ohio</th>\n",
       "      <td>3.0</td>\n",
       "      <td>4.0</td>\n",
       "      <td>5.0</td>\n",
       "    </tr>\n",
       "    <tr>\n",
       "      <th>Texas</th>\n",
       "      <td>6.0</td>\n",
       "      <td>7.0</td>\n",
       "      <td>8.0</td>\n",
       "    </tr>\n",
       "    <tr>\n",
       "      <th>Oregon</th>\n",
       "      <td>9.0</td>\n",
       "      <td>10.0</td>\n",
       "      <td>11.0</td>\n",
       "    </tr>\n",
       "  </tbody>\n",
       "</table>\n",
       "</div>"
      ],
      "text/plain": [
       "          b     d     e\n",
       "Utah    0.0   1.0   2.0\n",
       "Ohio    3.0   4.0   5.0\n",
       "Texas   6.0   7.0   8.0\n",
       "Oregon  9.0  10.0  11.0"
      ]
     },
     "execution_count": 25,
     "metadata": {
      "tags": []
     },
     "output_type": "execute_result"
    }
   ],
   "source": [
    "In [180]: series = frame.iloc[0]\n",
    "In [181]: frame"
   ]
  },
  {
   "cell_type": "code",
   "execution_count": 26,
   "metadata": {
    "colab": {
     "base_uri": "https://localhost:8080/"
    },
    "executionInfo": {
     "elapsed": 1223,
     "status": "ok",
     "timestamp": 1607659503799,
     "user": {
      "displayName": "prathviraj shetty",
      "photoUrl": "https://lh3.googleusercontent.com/a-/AOh14GhKody4bMBhr3sFjBRSMtPKerrzBoUK7stNKBFvrA=s64",
      "userId": "03618971057838723327"
     },
     "user_tz": -330
    },
    "id": "vFlJ0S8cLqaV",
    "outputId": "3f1a3307-d57a-47c8-dce4-e171c2d64bfa"
   },
   "outputs": [
    {
     "data": {
      "text/plain": [
       "b    0.0\n",
       "d    1.0\n",
       "e    2.0\n",
       "Name: Utah, dtype: float64"
      ]
     },
     "execution_count": 26,
     "metadata": {
      "tags": []
     },
     "output_type": "execute_result"
    }
   ],
   "source": [
    "In [182]: series"
   ]
  },
  {
   "cell_type": "code",
   "execution_count": 27,
   "metadata": {
    "colab": {
     "base_uri": "https://localhost:8080/",
     "height": 173
    },
    "executionInfo": {
     "elapsed": 1422,
     "status": "ok",
     "timestamp": 1607659532453,
     "user": {
      "displayName": "prathviraj shetty",
      "photoUrl": "https://lh3.googleusercontent.com/a-/AOh14GhKody4bMBhr3sFjBRSMtPKerrzBoUK7stNKBFvrA=s64",
      "userId": "03618971057838723327"
     },
     "user_tz": -330
    },
    "id": "2hJBwwIQLy5T",
    "outputId": "fa17efde-8435-4c64-9e03-e210c591115e"
   },
   "outputs": [
    {
     "data": {
      "text/html": [
       "<div>\n",
       "<style scoped>\n",
       "    .dataframe tbody tr th:only-of-type {\n",
       "        vertical-align: middle;\n",
       "    }\n",
       "\n",
       "    .dataframe tbody tr th {\n",
       "        vertical-align: top;\n",
       "    }\n",
       "\n",
       "    .dataframe thead th {\n",
       "        text-align: right;\n",
       "    }\n",
       "</style>\n",
       "<table border=\"1\" class=\"dataframe\">\n",
       "  <thead>\n",
       "    <tr style=\"text-align: right;\">\n",
       "      <th></th>\n",
       "      <th>b</th>\n",
       "      <th>d</th>\n",
       "      <th>e</th>\n",
       "    </tr>\n",
       "  </thead>\n",
       "  <tbody>\n",
       "    <tr>\n",
       "      <th>Utah</th>\n",
       "      <td>0.0</td>\n",
       "      <td>0.0</td>\n",
       "      <td>0.0</td>\n",
       "    </tr>\n",
       "    <tr>\n",
       "      <th>Ohio</th>\n",
       "      <td>3.0</td>\n",
       "      <td>3.0</td>\n",
       "      <td>3.0</td>\n",
       "    </tr>\n",
       "    <tr>\n",
       "      <th>Texas</th>\n",
       "      <td>6.0</td>\n",
       "      <td>6.0</td>\n",
       "      <td>6.0</td>\n",
       "    </tr>\n",
       "    <tr>\n",
       "      <th>Oregon</th>\n",
       "      <td>9.0</td>\n",
       "      <td>9.0</td>\n",
       "      <td>9.0</td>\n",
       "    </tr>\n",
       "  </tbody>\n",
       "</table>\n",
       "</div>"
      ],
      "text/plain": [
       "          b    d    e\n",
       "Utah    0.0  0.0  0.0\n",
       "Ohio    3.0  3.0  3.0\n",
       "Texas   6.0  6.0  6.0\n",
       "Oregon  9.0  9.0  9.0"
      ]
     },
     "execution_count": 27,
     "metadata": {
      "tags": []
     },
     "output_type": "execute_result"
    }
   ],
   "source": [
    "In [183]: frame - series"
   ]
  },
  {
   "cell_type": "code",
   "execution_count": 28,
   "metadata": {
    "colab": {
     "base_uri": "https://localhost:8080/",
     "height": 173
    },
    "executionInfo": {
     "elapsed": 1321,
     "status": "ok",
     "timestamp": 1607659604018,
     "user": {
      "displayName": "prathviraj shetty",
      "photoUrl": "https://lh3.googleusercontent.com/a-/AOh14GhKody4bMBhr3sFjBRSMtPKerrzBoUK7stNKBFvrA=s64",
      "userId": "03618971057838723327"
     },
     "user_tz": -330
    },
    "id": "XtzXcqXDMAan",
    "outputId": "28fe7ee2-5572-4da6-9c40-c272d6845bfe"
   },
   "outputs": [
    {
     "data": {
      "text/html": [
       "<div>\n",
       "<style scoped>\n",
       "    .dataframe tbody tr th:only-of-type {\n",
       "        vertical-align: middle;\n",
       "    }\n",
       "\n",
       "    .dataframe tbody tr th {\n",
       "        vertical-align: top;\n",
       "    }\n",
       "\n",
       "    .dataframe thead th {\n",
       "        text-align: right;\n",
       "    }\n",
       "</style>\n",
       "<table border=\"1\" class=\"dataframe\">\n",
       "  <thead>\n",
       "    <tr style=\"text-align: right;\">\n",
       "      <th></th>\n",
       "      <th>b</th>\n",
       "      <th>d</th>\n",
       "      <th>e</th>\n",
       "      <th>f</th>\n",
       "    </tr>\n",
       "  </thead>\n",
       "  <tbody>\n",
       "    <tr>\n",
       "      <th>Utah</th>\n",
       "      <td>0.0</td>\n",
       "      <td>NaN</td>\n",
       "      <td>3.0</td>\n",
       "      <td>NaN</td>\n",
       "    </tr>\n",
       "    <tr>\n",
       "      <th>Ohio</th>\n",
       "      <td>3.0</td>\n",
       "      <td>NaN</td>\n",
       "      <td>6.0</td>\n",
       "      <td>NaN</td>\n",
       "    </tr>\n",
       "    <tr>\n",
       "      <th>Texas</th>\n",
       "      <td>6.0</td>\n",
       "      <td>NaN</td>\n",
       "      <td>9.0</td>\n",
       "      <td>NaN</td>\n",
       "    </tr>\n",
       "    <tr>\n",
       "      <th>Oregon</th>\n",
       "      <td>9.0</td>\n",
       "      <td>NaN</td>\n",
       "      <td>12.0</td>\n",
       "      <td>NaN</td>\n",
       "    </tr>\n",
       "  </tbody>\n",
       "</table>\n",
       "</div>"
      ],
      "text/plain": [
       "          b   d     e   f\n",
       "Utah    0.0 NaN   3.0 NaN\n",
       "Ohio    3.0 NaN   6.0 NaN\n",
       "Texas   6.0 NaN   9.0 NaN\n",
       "Oregon  9.0 NaN  12.0 NaN"
      ]
     },
     "execution_count": 28,
     "metadata": {
      "tags": []
     },
     "output_type": "execute_result"
    }
   ],
   "source": [
    "In [184]: series2 = pd.Series(range(3), index=['b', 'e', 'f'])\n",
    "In [185]: frame + series2"
   ]
  },
  {
   "cell_type": "code",
   "execution_count": 29,
   "metadata": {
    "colab": {
     "base_uri": "https://localhost:8080/",
     "height": 173
    },
    "executionInfo": {
     "elapsed": 1286,
     "status": "ok",
     "timestamp": 1607659743836,
     "user": {
      "displayName": "prathviraj shetty",
      "photoUrl": "https://lh3.googleusercontent.com/a-/AOh14GhKody4bMBhr3sFjBRSMtPKerrzBoUK7stNKBFvrA=s64",
      "userId": "03618971057838723327"
     },
     "user_tz": -330
    },
    "id": "ATtc4D9XM9d5",
    "outputId": "033ca3f7-d9d6-4acd-ac83-34cba2bc025f"
   },
   "outputs": [
    {
     "data": {
      "text/html": [
       "<div>\n",
       "<style scoped>\n",
       "    .dataframe tbody tr th:only-of-type {\n",
       "        vertical-align: middle;\n",
       "    }\n",
       "\n",
       "    .dataframe tbody tr th {\n",
       "        vertical-align: top;\n",
       "    }\n",
       "\n",
       "    .dataframe thead th {\n",
       "        text-align: right;\n",
       "    }\n",
       "</style>\n",
       "<table border=\"1\" class=\"dataframe\">\n",
       "  <thead>\n",
       "    <tr style=\"text-align: right;\">\n",
       "      <th></th>\n",
       "      <th>b</th>\n",
       "      <th>d</th>\n",
       "      <th>e</th>\n",
       "    </tr>\n",
       "  </thead>\n",
       "  <tbody>\n",
       "    <tr>\n",
       "      <th>Utah</th>\n",
       "      <td>0.0</td>\n",
       "      <td>1.0</td>\n",
       "      <td>2.0</td>\n",
       "    </tr>\n",
       "    <tr>\n",
       "      <th>Ohio</th>\n",
       "      <td>3.0</td>\n",
       "      <td>4.0</td>\n",
       "      <td>5.0</td>\n",
       "    </tr>\n",
       "    <tr>\n",
       "      <th>Texas</th>\n",
       "      <td>6.0</td>\n",
       "      <td>7.0</td>\n",
       "      <td>8.0</td>\n",
       "    </tr>\n",
       "    <tr>\n",
       "      <th>Oregon</th>\n",
       "      <td>9.0</td>\n",
       "      <td>10.0</td>\n",
       "      <td>11.0</td>\n",
       "    </tr>\n",
       "  </tbody>\n",
       "</table>\n",
       "</div>"
      ],
      "text/plain": [
       "          b     d     e\n",
       "Utah    0.0   1.0   2.0\n",
       "Ohio    3.0   4.0   5.0\n",
       "Texas   6.0   7.0   8.0\n",
       "Oregon  9.0  10.0  11.0"
      ]
     },
     "execution_count": 29,
     "metadata": {
      "tags": []
     },
     "output_type": "execute_result"
    }
   ],
   "source": [
    "In [186]: series3 = frame['d']\n",
    "In [187]: frame"
   ]
  },
  {
   "cell_type": "code",
   "execution_count": 30,
   "metadata": {
    "colab": {
     "base_uri": "https://localhost:8080/"
    },
    "executionInfo": {
     "elapsed": 1446,
     "status": "ok",
     "timestamp": 1607659753895,
     "user": {
      "displayName": "prathviraj shetty",
      "photoUrl": "https://lh3.googleusercontent.com/a-/AOh14GhKody4bMBhr3sFjBRSMtPKerrzBoUK7stNKBFvrA=s64",
      "userId": "03618971057838723327"
     },
     "user_tz": -330
    },
    "id": "JyaDem2_M_V9",
    "outputId": "9836eee6-916c-4780-834f-af8f1f6afae3"
   },
   "outputs": [
    {
     "data": {
      "text/plain": [
       "Utah       1.0\n",
       "Ohio       4.0\n",
       "Texas      7.0\n",
       "Oregon    10.0\n",
       "Name: d, dtype: float64"
      ]
     },
     "execution_count": 30,
     "metadata": {
      "tags": []
     },
     "output_type": "execute_result"
    }
   ],
   "source": [
    "In [188]: series3"
   ]
  },
  {
   "cell_type": "code",
   "execution_count": 31,
   "metadata": {
    "colab": {
     "base_uri": "https://localhost:8080/",
     "height": 173
    },
    "executionInfo": {
     "elapsed": 1800,
     "status": "ok",
     "timestamp": 1607659816964,
     "user": {
      "displayName": "prathviraj shetty",
      "photoUrl": "https://lh3.googleusercontent.com/a-/AOh14GhKody4bMBhr3sFjBRSMtPKerrzBoUK7stNKBFvrA=s64",
      "userId": "03618971057838723327"
     },
     "user_tz": -330
    },
    "id": "zIcKYcQQNC_H",
    "outputId": "bb2eb0b7-466c-4182-e13b-375953407a82"
   },
   "outputs": [
    {
     "data": {
      "text/html": [
       "<div>\n",
       "<style scoped>\n",
       "    .dataframe tbody tr th:only-of-type {\n",
       "        vertical-align: middle;\n",
       "    }\n",
       "\n",
       "    .dataframe tbody tr th {\n",
       "        vertical-align: top;\n",
       "    }\n",
       "\n",
       "    .dataframe thead th {\n",
       "        text-align: right;\n",
       "    }\n",
       "</style>\n",
       "<table border=\"1\" class=\"dataframe\">\n",
       "  <thead>\n",
       "    <tr style=\"text-align: right;\">\n",
       "      <th></th>\n",
       "      <th>b</th>\n",
       "      <th>d</th>\n",
       "      <th>e</th>\n",
       "    </tr>\n",
       "  </thead>\n",
       "  <tbody>\n",
       "    <tr>\n",
       "      <th>Utah</th>\n",
       "      <td>-1.0</td>\n",
       "      <td>0.0</td>\n",
       "      <td>1.0</td>\n",
       "    </tr>\n",
       "    <tr>\n",
       "      <th>Ohio</th>\n",
       "      <td>-1.0</td>\n",
       "      <td>0.0</td>\n",
       "      <td>1.0</td>\n",
       "    </tr>\n",
       "    <tr>\n",
       "      <th>Texas</th>\n",
       "      <td>-1.0</td>\n",
       "      <td>0.0</td>\n",
       "      <td>1.0</td>\n",
       "    </tr>\n",
       "    <tr>\n",
       "      <th>Oregon</th>\n",
       "      <td>-1.0</td>\n",
       "      <td>0.0</td>\n",
       "      <td>1.0</td>\n",
       "    </tr>\n",
       "  </tbody>\n",
       "</table>\n",
       "</div>"
      ],
      "text/plain": [
       "          b    d    e\n",
       "Utah   -1.0  0.0  1.0\n",
       "Ohio   -1.0  0.0  1.0\n",
       "Texas  -1.0  0.0  1.0\n",
       "Oregon -1.0  0.0  1.0"
      ]
     },
     "execution_count": 31,
     "metadata": {
      "tags": []
     },
     "output_type": "execute_result"
    }
   ],
   "source": [
    "In [189]: frame.sub(series3, axis='index')"
   ]
  },
  {
   "cell_type": "markdown",
   "metadata": {
    "id": "xHogkSsxN8is"
   },
   "source": [
    "**Function Application and Mapping**"
   ]
  },
  {
   "cell_type": "code",
   "execution_count": 32,
   "metadata": {
    "colab": {
     "base_uri": "https://localhost:8080/",
     "height": 173
    },
    "executionInfo": {
     "elapsed": 1291,
     "status": "ok",
     "timestamp": 1607660080792,
     "user": {
      "displayName": "prathviraj shetty",
      "photoUrl": "https://lh3.googleusercontent.com/a-/AOh14GhKody4bMBhr3sFjBRSMtPKerrzBoUK7stNKBFvrA=s64",
      "userId": "03618971057838723327"
     },
     "user_tz": -330
    },
    "id": "_D8lJAf8OAmv",
    "outputId": "25b64570-dcfb-4305-8ce7-7040d862fede"
   },
   "outputs": [
    {
     "data": {
      "text/html": [
       "<div>\n",
       "<style scoped>\n",
       "    .dataframe tbody tr th:only-of-type {\n",
       "        vertical-align: middle;\n",
       "    }\n",
       "\n",
       "    .dataframe tbody tr th {\n",
       "        vertical-align: top;\n",
       "    }\n",
       "\n",
       "    .dataframe thead th {\n",
       "        text-align: right;\n",
       "    }\n",
       "</style>\n",
       "<table border=\"1\" class=\"dataframe\">\n",
       "  <thead>\n",
       "    <tr style=\"text-align: right;\">\n",
       "      <th></th>\n",
       "      <th>b</th>\n",
       "      <th>d</th>\n",
       "      <th>e</th>\n",
       "    </tr>\n",
       "  </thead>\n",
       "  <tbody>\n",
       "    <tr>\n",
       "      <th>Utah</th>\n",
       "      <td>0.800704</td>\n",
       "      <td>0.055542</td>\n",
       "      <td>-1.171911</td>\n",
       "    </tr>\n",
       "    <tr>\n",
       "      <th>Ohio</th>\n",
       "      <td>-1.587904</td>\n",
       "      <td>-0.706285</td>\n",
       "      <td>-1.309765</td>\n",
       "    </tr>\n",
       "    <tr>\n",
       "      <th>Texas</th>\n",
       "      <td>-0.976592</td>\n",
       "      <td>-0.381089</td>\n",
       "      <td>-1.638524</td>\n",
       "    </tr>\n",
       "    <tr>\n",
       "      <th>Oregon</th>\n",
       "      <td>-0.822151</td>\n",
       "      <td>-0.737718</td>\n",
       "      <td>0.266883</td>\n",
       "    </tr>\n",
       "  </tbody>\n",
       "</table>\n",
       "</div>"
      ],
      "text/plain": [
       "               b         d         e\n",
       "Utah    0.800704  0.055542 -1.171911\n",
       "Ohio   -1.587904 -0.706285 -1.309765\n",
       "Texas  -0.976592 -0.381089 -1.638524\n",
       "Oregon -0.822151 -0.737718  0.266883"
      ]
     },
     "execution_count": 32,
     "metadata": {
      "tags": []
     },
     "output_type": "execute_result"
    }
   ],
   "source": [
    "In [190]: frame = pd.DataFrame(np.random.randn(4, 3), columns=list('bde'),\n",
    ".....: index=['Utah', 'Ohio', 'Texas', 'Oregon'])\n",
    "In [191]: frame"
   ]
  },
  {
   "cell_type": "code",
   "execution_count": 33,
   "metadata": {
    "colab": {
     "base_uri": "https://localhost:8080/",
     "height": 173
    },
    "executionInfo": {
     "elapsed": 1328,
     "status": "ok",
     "timestamp": 1607660093321,
     "user": {
      "displayName": "prathviraj shetty",
      "photoUrl": "https://lh3.googleusercontent.com/a-/AOh14GhKody4bMBhr3sFjBRSMtPKerrzBoUK7stNKBFvrA=s64",
      "userId": "03618971057838723327"
     },
     "user_tz": -330
    },
    "id": "ktjsTYgLOMtM",
    "outputId": "f8ea5a2d-df98-4a87-db75-d068df3f1a2e"
   },
   "outputs": [
    {
     "data": {
      "text/html": [
       "<div>\n",
       "<style scoped>\n",
       "    .dataframe tbody tr th:only-of-type {\n",
       "        vertical-align: middle;\n",
       "    }\n",
       "\n",
       "    .dataframe tbody tr th {\n",
       "        vertical-align: top;\n",
       "    }\n",
       "\n",
       "    .dataframe thead th {\n",
       "        text-align: right;\n",
       "    }\n",
       "</style>\n",
       "<table border=\"1\" class=\"dataframe\">\n",
       "  <thead>\n",
       "    <tr style=\"text-align: right;\">\n",
       "      <th></th>\n",
       "      <th>b</th>\n",
       "      <th>d</th>\n",
       "      <th>e</th>\n",
       "    </tr>\n",
       "  </thead>\n",
       "  <tbody>\n",
       "    <tr>\n",
       "      <th>Utah</th>\n",
       "      <td>0.800704</td>\n",
       "      <td>0.055542</td>\n",
       "      <td>1.171911</td>\n",
       "    </tr>\n",
       "    <tr>\n",
       "      <th>Ohio</th>\n",
       "      <td>1.587904</td>\n",
       "      <td>0.706285</td>\n",
       "      <td>1.309765</td>\n",
       "    </tr>\n",
       "    <tr>\n",
       "      <th>Texas</th>\n",
       "      <td>0.976592</td>\n",
       "      <td>0.381089</td>\n",
       "      <td>1.638524</td>\n",
       "    </tr>\n",
       "    <tr>\n",
       "      <th>Oregon</th>\n",
       "      <td>0.822151</td>\n",
       "      <td>0.737718</td>\n",
       "      <td>0.266883</td>\n",
       "    </tr>\n",
       "  </tbody>\n",
       "</table>\n",
       "</div>"
      ],
      "text/plain": [
       "               b         d         e\n",
       "Utah    0.800704  0.055542  1.171911\n",
       "Ohio    1.587904  0.706285  1.309765\n",
       "Texas   0.976592  0.381089  1.638524\n",
       "Oregon  0.822151  0.737718  0.266883"
      ]
     },
     "execution_count": 33,
     "metadata": {
      "tags": []
     },
     "output_type": "execute_result"
    }
   ],
   "source": [
    "In [192]: np.abs(frame)"
   ]
  },
  {
   "cell_type": "code",
   "execution_count": 34,
   "metadata": {
    "colab": {
     "base_uri": "https://localhost:8080/"
    },
    "executionInfo": {
     "elapsed": 1248,
     "status": "ok",
     "timestamp": 1607660140106,
     "user": {
      "displayName": "prathviraj shetty",
      "photoUrl": "https://lh3.googleusercontent.com/a-/AOh14GhKody4bMBhr3sFjBRSMtPKerrzBoUK7stNKBFvrA=s64",
      "userId": "03618971057838723327"
     },
     "user_tz": -330
    },
    "id": "BhYFIDCpOVzr",
    "outputId": "c5133c34-20a4-4e0b-e017-e7aac47fee5d"
   },
   "outputs": [
    {
     "data": {
      "text/plain": [
       "b    2.388608\n",
       "d    0.793259\n",
       "e    1.905408\n",
       "dtype: float64"
      ]
     },
     "execution_count": 34,
     "metadata": {
      "tags": []
     },
     "output_type": "execute_result"
    }
   ],
   "source": [
    "In [193]: f = lambda x: x.max() - x.min()\n",
    "In [194]: frame.apply(f)"
   ]
  },
  {
   "cell_type": "code",
   "execution_count": 38,
   "metadata": {
    "colab": {
     "base_uri": "https://localhost:8080/"
    },
    "executionInfo": {
     "elapsed": 1250,
     "status": "ok",
     "timestamp": 1607660230906,
     "user": {
      "displayName": "prathviraj shetty",
      "photoUrl": "https://lh3.googleusercontent.com/a-/AOh14GhKody4bMBhr3sFjBRSMtPKerrzBoUK7stNKBFvrA=s64",
      "userId": "03618971057838723327"
     },
     "user_tz": -330
    },
    "id": "oseNBeHyOyf-",
    "outputId": "eddd84e8-115e-45c8-deb1-7a35d81a6ff1"
   },
   "outputs": [
    {
     "data": {
      "text/plain": [
       "b    2.388608\n",
       "d    0.793259\n",
       "e    1.905408\n",
       "dtype: float64"
      ]
     },
     "execution_count": 38,
     "metadata": {
      "tags": []
     },
     "output_type": "execute_result"
    }
   ],
   "source": [
    "In [195]: frame.apply(f, axis=0)"
   ]
  },
  {
   "cell_type": "markdown",
   "metadata": {
    "id": "3Kg4T9odPAE1"
   },
   "source": [
    "**Sorting and Ranking**"
   ]
  },
  {
   "cell_type": "code",
   "execution_count": 39,
   "metadata": {
    "colab": {
     "base_uri": "https://localhost:8080/"
    },
    "executionInfo": {
     "elapsed": 1356,
     "status": "ok",
     "timestamp": 1607660278823,
     "user": {
      "displayName": "prathviraj shetty",
      "photoUrl": "https://lh3.googleusercontent.com/a-/AOh14GhKody4bMBhr3sFjBRSMtPKerrzBoUK7stNKBFvrA=s64",
      "userId": "03618971057838723327"
     },
     "user_tz": -330
    },
    "id": "YWMk-ydUO0yF",
    "outputId": "f16b9d20-ed02-4495-f09a-4ff843a3413d"
   },
   "outputs": [
    {
     "data": {
      "text/plain": [
       "a    1\n",
       "b    2\n",
       "c    3\n",
       "d    0\n",
       "dtype: int64"
      ]
     },
     "execution_count": 39,
     "metadata": {
      "tags": []
     },
     "output_type": "execute_result"
    }
   ],
   "source": [
    "In [201]: obj = pd.Series(range(4), index=['d', 'a', 'b', 'c'])\n",
    "In [202]: obj.sort_index()"
   ]
  },
  {
   "cell_type": "code",
   "execution_count": 40,
   "metadata": {
    "colab": {
     "base_uri": "https://localhost:8080/",
     "height": 111
    },
    "executionInfo": {
     "elapsed": 1380,
     "status": "ok",
     "timestamp": 1607660291572,
     "user": {
      "displayName": "prathviraj shetty",
      "photoUrl": "https://lh3.googleusercontent.com/a-/AOh14GhKody4bMBhr3sFjBRSMtPKerrzBoUK7stNKBFvrA=s64",
      "userId": "03618971057838723327"
     },
     "user_tz": -330
    },
    "id": "7njMrdrOPUOb",
    "outputId": "f11a88aa-1b90-4dbd-de64-09c9e8ea7a2d"
   },
   "outputs": [
    {
     "data": {
      "text/html": [
       "<div>\n",
       "<style scoped>\n",
       "    .dataframe tbody tr th:only-of-type {\n",
       "        vertical-align: middle;\n",
       "    }\n",
       "\n",
       "    .dataframe tbody tr th {\n",
       "        vertical-align: top;\n",
       "    }\n",
       "\n",
       "    .dataframe thead th {\n",
       "        text-align: right;\n",
       "    }\n",
       "</style>\n",
       "<table border=\"1\" class=\"dataframe\">\n",
       "  <thead>\n",
       "    <tr style=\"text-align: right;\">\n",
       "      <th></th>\n",
       "      <th>d</th>\n",
       "      <th>a</th>\n",
       "      <th>b</th>\n",
       "      <th>c</th>\n",
       "    </tr>\n",
       "  </thead>\n",
       "  <tbody>\n",
       "    <tr>\n",
       "      <th>one</th>\n",
       "      <td>4</td>\n",
       "      <td>5</td>\n",
       "      <td>6</td>\n",
       "      <td>7</td>\n",
       "    </tr>\n",
       "    <tr>\n",
       "      <th>three</th>\n",
       "      <td>0</td>\n",
       "      <td>1</td>\n",
       "      <td>2</td>\n",
       "      <td>3</td>\n",
       "    </tr>\n",
       "  </tbody>\n",
       "</table>\n",
       "</div>"
      ],
      "text/plain": [
       "       d  a  b  c\n",
       "one    4  5  6  7\n",
       "three  0  1  2  3"
      ]
     },
     "execution_count": 40,
     "metadata": {
      "tags": []
     },
     "output_type": "execute_result"
    }
   ],
   "source": [
    "In [203]: frame = pd.DataFrame(np.arange(8).reshape((2, 4)),\n",
    ".....: index=['three', 'one'],\n",
    ".....: columns=['d', 'a', 'b', 'c'])\n",
    "In [204]: frame.sort_index()"
   ]
  },
  {
   "cell_type": "code",
   "execution_count": 41,
   "metadata": {
    "colab": {
     "base_uri": "https://localhost:8080/",
     "height": 111
    },
    "executionInfo": {
     "elapsed": 1716,
     "status": "ok",
     "timestamp": 1607660311680,
     "user": {
      "displayName": "prathviraj shetty",
      "photoUrl": "https://lh3.googleusercontent.com/a-/AOh14GhKody4bMBhr3sFjBRSMtPKerrzBoUK7stNKBFvrA=s64",
      "userId": "03618971057838723327"
     },
     "user_tz": -330
    },
    "id": "XQZEK1cRPkVy",
    "outputId": "5271d43b-9859-4430-8597-7cabd42d748f"
   },
   "outputs": [
    {
     "data": {
      "text/html": [
       "<div>\n",
       "<style scoped>\n",
       "    .dataframe tbody tr th:only-of-type {\n",
       "        vertical-align: middle;\n",
       "    }\n",
       "\n",
       "    .dataframe tbody tr th {\n",
       "        vertical-align: top;\n",
       "    }\n",
       "\n",
       "    .dataframe thead th {\n",
       "        text-align: right;\n",
       "    }\n",
       "</style>\n",
       "<table border=\"1\" class=\"dataframe\">\n",
       "  <thead>\n",
       "    <tr style=\"text-align: right;\">\n",
       "      <th></th>\n",
       "      <th>a</th>\n",
       "      <th>b</th>\n",
       "      <th>c</th>\n",
       "      <th>d</th>\n",
       "    </tr>\n",
       "  </thead>\n",
       "  <tbody>\n",
       "    <tr>\n",
       "      <th>three</th>\n",
       "      <td>1</td>\n",
       "      <td>2</td>\n",
       "      <td>3</td>\n",
       "      <td>0</td>\n",
       "    </tr>\n",
       "    <tr>\n",
       "      <th>one</th>\n",
       "      <td>5</td>\n",
       "      <td>6</td>\n",
       "      <td>7</td>\n",
       "      <td>4</td>\n",
       "    </tr>\n",
       "  </tbody>\n",
       "</table>\n",
       "</div>"
      ],
      "text/plain": [
       "       a  b  c  d\n",
       "three  1  2  3  0\n",
       "one    5  6  7  4"
      ]
     },
     "execution_count": 41,
     "metadata": {
      "tags": []
     },
     "output_type": "execute_result"
    }
   ],
   "source": [
    "In [205]: frame.sort_index(axis=1)"
   ]
  },
  {
   "cell_type": "code",
   "execution_count": 42,
   "metadata": {
    "colab": {
     "base_uri": "https://localhost:8080/"
    },
    "executionInfo": {
     "elapsed": 1231,
     "status": "ok",
     "timestamp": 1607660336436,
     "user": {
      "displayName": "prathviraj shetty",
      "photoUrl": "https://lh3.googleusercontent.com/a-/AOh14GhKody4bMBhr3sFjBRSMtPKerrzBoUK7stNKBFvrA=s64",
      "userId": "03618971057838723327"
     },
     "user_tz": -330
    },
    "id": "DOTwARhsPxye",
    "outputId": "71089dd0-fc48-4515-8055-91e61fdd0be5"
   },
   "outputs": [
    {
     "data": {
      "text/plain": [
       "2   -3\n",
       "3    2\n",
       "0    4\n",
       "1    7\n",
       "dtype: int64"
      ]
     },
     "execution_count": 42,
     "metadata": {
      "tags": []
     },
     "output_type": "execute_result"
    }
   ],
   "source": [
    "In [207]: obj = pd.Series([4, 7, -3, 2])\n",
    "In [208]: obj.sort_values()"
   ]
  },
  {
   "cell_type": "code",
   "execution_count": 43,
   "metadata": {
    "colab": {
     "base_uri": "https://localhost:8080/"
    },
    "executionInfo": {
     "elapsed": 1358,
     "status": "ok",
     "timestamp": 1607660357312,
     "user": {
      "displayName": "prathviraj shetty",
      "photoUrl": "https://lh3.googleusercontent.com/a-/AOh14GhKody4bMBhr3sFjBRSMtPKerrzBoUK7stNKBFvrA=s64",
      "userId": "03618971057838723327"
     },
     "user_tz": -330
    },
    "id": "xoqDfyvXP1uV",
    "outputId": "ce6de798-e06b-49e3-bb36-d19d7794174b"
   },
   "outputs": [
    {
     "data": {
      "text/plain": [
       "4   -3.0\n",
       "5    2.0\n",
       "0    4.0\n",
       "2    7.0\n",
       "1    NaN\n",
       "3    NaN\n",
       "dtype: float64"
      ]
     },
     "execution_count": 43,
     "metadata": {
      "tags": []
     },
     "output_type": "execute_result"
    }
   ],
   "source": [
    "In [209]: obj = pd.Series([4, np.nan, 7, np.nan, -3, 2])\n",
    "In [210]: obj.sort_values()"
   ]
  },
  {
   "cell_type": "code",
   "execution_count": 44,
   "metadata": {
    "colab": {
     "base_uri": "https://localhost:8080/",
     "height": 173
    },
    "executionInfo": {
     "elapsed": 1309,
     "status": "ok",
     "timestamp": 1607660394468,
     "user": {
      "displayName": "prathviraj shetty",
      "photoUrl": "https://lh3.googleusercontent.com/a-/AOh14GhKody4bMBhr3sFjBRSMtPKerrzBoUK7stNKBFvrA=s64",
      "userId": "03618971057838723327"
     },
     "user_tz": -330
    },
    "id": "1NhhJaIqQsz1",
    "outputId": "29a36a41-3e17-4ef9-e751-3289bea7f9e2"
   },
   "outputs": [
    {
     "data": {
      "text/html": [
       "<div>\n",
       "<style scoped>\n",
       "    .dataframe tbody tr th:only-of-type {\n",
       "        vertical-align: middle;\n",
       "    }\n",
       "\n",
       "    .dataframe tbody tr th {\n",
       "        vertical-align: top;\n",
       "    }\n",
       "\n",
       "    .dataframe thead th {\n",
       "        text-align: right;\n",
       "    }\n",
       "</style>\n",
       "<table border=\"1\" class=\"dataframe\">\n",
       "  <thead>\n",
       "    <tr style=\"text-align: right;\">\n",
       "      <th></th>\n",
       "      <th>b</th>\n",
       "      <th>a</th>\n",
       "    </tr>\n",
       "  </thead>\n",
       "  <tbody>\n",
       "    <tr>\n",
       "      <th>0</th>\n",
       "      <td>4</td>\n",
       "      <td>0</td>\n",
       "    </tr>\n",
       "    <tr>\n",
       "      <th>1</th>\n",
       "      <td>7</td>\n",
       "      <td>1</td>\n",
       "    </tr>\n",
       "    <tr>\n",
       "      <th>2</th>\n",
       "      <td>-3</td>\n",
       "      <td>0</td>\n",
       "    </tr>\n",
       "    <tr>\n",
       "      <th>3</th>\n",
       "      <td>2</td>\n",
       "      <td>1</td>\n",
       "    </tr>\n",
       "  </tbody>\n",
       "</table>\n",
       "</div>"
      ],
      "text/plain": [
       "   b  a\n",
       "0  4  0\n",
       "1  7  1\n",
       "2 -3  0\n",
       "3  2  1"
      ]
     },
     "execution_count": 44,
     "metadata": {
      "tags": []
     },
     "output_type": "execute_result"
    }
   ],
   "source": [
    "In [211]: frame = pd.DataFrame({'b': [4, 7, -3, 2], 'a': [0, 1, 0, 1]})\n",
    "In [212]: frame"
   ]
  },
  {
   "cell_type": "code",
   "execution_count": 45,
   "metadata": {
    "colab": {
     "base_uri": "https://localhost:8080/",
     "height": 173
    },
    "executionInfo": {
     "elapsed": 1364,
     "status": "ok",
     "timestamp": 1607660433610,
     "user": {
      "displayName": "prathviraj shetty",
      "photoUrl": "https://lh3.googleusercontent.com/a-/AOh14GhKody4bMBhr3sFjBRSMtPKerrzBoUK7stNKBFvrA=s64",
      "userId": "03618971057838723327"
     },
     "user_tz": -330
    },
    "id": "rdF-6u0PQwdf",
    "outputId": "1d8d4e22-8fd5-4462-cd21-0668c9d59cd4"
   },
   "outputs": [
    {
     "data": {
      "text/html": [
       "<div>\n",
       "<style scoped>\n",
       "    .dataframe tbody tr th:only-of-type {\n",
       "        vertical-align: middle;\n",
       "    }\n",
       "\n",
       "    .dataframe tbody tr th {\n",
       "        vertical-align: top;\n",
       "    }\n",
       "\n",
       "    .dataframe thead th {\n",
       "        text-align: right;\n",
       "    }\n",
       "</style>\n",
       "<table border=\"1\" class=\"dataframe\">\n",
       "  <thead>\n",
       "    <tr style=\"text-align: right;\">\n",
       "      <th></th>\n",
       "      <th>b</th>\n",
       "      <th>a</th>\n",
       "    </tr>\n",
       "  </thead>\n",
       "  <tbody>\n",
       "    <tr>\n",
       "      <th>2</th>\n",
       "      <td>-3</td>\n",
       "      <td>0</td>\n",
       "    </tr>\n",
       "    <tr>\n",
       "      <th>3</th>\n",
       "      <td>2</td>\n",
       "      <td>1</td>\n",
       "    </tr>\n",
       "    <tr>\n",
       "      <th>0</th>\n",
       "      <td>4</td>\n",
       "      <td>0</td>\n",
       "    </tr>\n",
       "    <tr>\n",
       "      <th>1</th>\n",
       "      <td>7</td>\n",
       "      <td>1</td>\n",
       "    </tr>\n",
       "  </tbody>\n",
       "</table>\n",
       "</div>"
      ],
      "text/plain": [
       "   b  a\n",
       "2 -3  0\n",
       "3  2  1\n",
       "0  4  0\n",
       "1  7  1"
      ]
     },
     "execution_count": 45,
     "metadata": {
      "tags": []
     },
     "output_type": "execute_result"
    }
   ],
   "source": [
    "In [213]: frame.sort_values(by='b')"
   ]
  },
  {
   "cell_type": "code",
   "execution_count": null,
   "metadata": {
    "id": "67FJdZcoQ54R"
   },
   "outputs": [],
   "source": [
    "In [214]: frame.sort_values(by=['a', 'b'])"
   ]
  },
  {
   "cell_type": "code",
   "execution_count": 46,
   "metadata": {
    "colab": {
     "base_uri": "https://localhost:8080/"
    },
    "executionInfo": {
     "elapsed": 1289,
     "status": "ok",
     "timestamp": 1607660481399,
     "user": {
      "displayName": "prathviraj shetty",
      "photoUrl": "https://lh3.googleusercontent.com/a-/AOh14GhKody4bMBhr3sFjBRSMtPKerrzBoUK7stNKBFvrA=s64",
      "userId": "03618971057838723327"
     },
     "user_tz": -330
    },
    "id": "chMWnyzfQ_GE",
    "outputId": "ad368180-7886-4788-d526-d81132cb4813"
   },
   "outputs": [
    {
     "data": {
      "text/plain": [
       "0    6.5\n",
       "1    1.0\n",
       "2    6.5\n",
       "3    4.5\n",
       "4    3.0\n",
       "5    2.0\n",
       "6    4.5\n",
       "dtype: float64"
      ]
     },
     "execution_count": 46,
     "metadata": {
      "tags": []
     },
     "output_type": "execute_result"
    }
   ],
   "source": [
    "In [215]: obj = pd.Series([7, -5, 7, 4, 2, 0, 4])\n",
    "In [216]: obj.rank()"
   ]
  },
  {
   "cell_type": "code",
   "execution_count": 47,
   "metadata": {
    "colab": {
     "base_uri": "https://localhost:8080/"
    },
    "executionInfo": {
     "elapsed": 1338,
     "status": "ok",
     "timestamp": 1607660607764,
     "user": {
      "displayName": "prathviraj shetty",
      "photoUrl": "https://lh3.googleusercontent.com/a-/AOh14GhKody4bMBhr3sFjBRSMtPKerrzBoUK7stNKBFvrA=s64",
      "userId": "03618971057838723327"
     },
     "user_tz": -330
    },
    "id": "At-AuYKPR6iT",
    "outputId": "f3557e48-184e-4b4e-eab7-3a9afff91e81"
   },
   "outputs": [
    {
     "data": {
      "text/plain": [
       "0    6.0\n",
       "1    1.0\n",
       "2    7.0\n",
       "3    4.0\n",
       "4    3.0\n",
       "5    2.0\n",
       "6    5.0\n",
       "dtype: float64"
      ]
     },
     "execution_count": 47,
     "metadata": {
      "tags": []
     },
     "output_type": "execute_result"
    }
   ],
   "source": [
    "In [217]: obj.rank(method='first')"
   ]
  },
  {
   "cell_type": "code",
   "execution_count": null,
   "metadata": {
    "id": "sheub6scSJ2_"
   },
   "outputs": [],
   "source": [
    "In [219]: frame = pd.DataFrame({'b': [4.3, 7, -3, 2], 'a': [0, 1, 0, 1],\n",
    ".....: 'c': [-2, 5, 8, -2.5]})\n",
    "In [220]: frame"
   ]
  },
  {
   "cell_type": "code",
   "execution_count": null,
   "metadata": {
    "id": "f5oflL2qSOsd"
   },
   "outputs": [],
   "source": [
    "In [221]: frame.rank(axis='columns')"
   ]
  },
  {
   "cell_type": "markdown",
   "metadata": {
    "id": "YX_ysMckSmWq"
   },
   "source": [
    "**Axis Indexes with Duplicate Labels**"
   ]
  },
  {
   "cell_type": "code",
   "execution_count": null,
   "metadata": {
    "id": "4QeptwKBSprE"
   },
   "outputs": [],
   "source": [
    "In [222]: obj = pd.Series(range(5), index=['a', 'a', 'b', 'b', 'c'])\n",
    "In [223]: obj"
   ]
  },
  {
   "cell_type": "code",
   "execution_count": null,
   "metadata": {
    "id": "7b7twMUYTue6"
   },
   "outputs": [],
   "source": [
    "In [224]: obj.index.is_unique"
   ]
  },
  {
   "cell_type": "code",
   "execution_count": null,
   "metadata": {
    "id": "hz5OcJUdTwnD"
   },
   "outputs": [],
   "source": [
    "In [225]: obj['a']"
   ]
  },
  {
   "cell_type": "code",
   "execution_count": null,
   "metadata": {
    "id": "H01RvycfT5yL"
   },
   "outputs": [],
   "source": [
    "In [227]: df = pd.DataFrame(np.random.randn(4, 3), index=['a', 'a', 'b', 'b'])\n",
    "In [228]: df"
   ]
  },
  {
   "cell_type": "code",
   "execution_count": null,
   "metadata": {
    "id": "DaH70xvyVAle"
   },
   "outputs": [],
   "source": [
    "In [229]: df.loc['b']"
   ]
  }
 ],
 "metadata": {
  "colab": {
   "authorship_tag": "ABX9TyPO8/vTaYW/88QcK/FvMy4S",
   "name": "Intro_Pandas.ipynb",
   "provenance": []
  },
  "kernelspec": {
   "display_name": "Python 3",
   "language": "python",
   "name": "python3"
  },
  "language_info": {
   "codemirror_mode": {
    "name": "ipython",
    "version": 3
   },
   "file_extension": ".py",
   "mimetype": "text/x-python",
   "name": "python",
   "nbconvert_exporter": "python",
   "pygments_lexer": "ipython3",
   "version": "3.7.9"
  }
 },
 "nbformat": 4,
 "nbformat_minor": 1
}
