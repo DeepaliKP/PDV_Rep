{
 "cells": [
  {
   "cell_type": "code",
   "execution_count": 1,
   "metadata": {},
   "outputs": [
    {
     "name": "stdout",
     "output_type": "stream",
     "text": [
      "Requirement already satisfied: fake_useragent in c:\\users\\bhanuprakash\\anaconda3\\lib\\site-packages (0.1.11)\n",
      "Note: you may need to restart the kernel to use updated packages.\n"
     ]
    }
   ],
   "source": [
    "pip install fake_useragent"
   ]
  },
  {
   "cell_type": "code",
   "execution_count": 14,
   "metadata": {},
   "outputs": [],
   "source": [
    "import requests\n",
    "from bs4 import BeautifulSoup\n",
    "from fake_useragent import UserAgent\n",
    "import csv"
   ]
  },
  {
   "cell_type": "code",
   "execution_count": 15,
   "metadata": {},
   "outputs": [],
   "source": [
    "user_agent = UserAgent()\n",
    "main_url = 'https://www.amazon.in/s?i=electronics&bbn=1389401031&rh=n%3A1389401031%2Cp_89%3ARedmi%7CSamsung&dc&qid=1611369172&rnid=3837712031&ref=sr_nr_p_89_1'\n",
    "page = requests.get(main_url,headers={'user-agent':user_agent.chrome})\n",
    "soup = BeautifulSoup(page.content,'lxml')"
   ]
  },
  {
   "cell_type": "code",
   "execution_count": 16,
   "metadata": {},
   "outputs": [
    {
     "name": "stdout",
     "output_type": "stream",
     "text": [
      "Redmi 9 (Sky Blue, 4GB RAM, 64GB Storage)\n",
      "Redmi Note 9 Pro (Aurora Blue, 4GB RAM, 64GB Storage) - Latest 8nm Snapdragon 720G & Alexa Hands-Free\n",
      "Redmi 9A (Sea Blue, 2GB Ram, 32GB Storage) | 2GHz Octa-core Helio G25 Processor\n",
      "Redmi 9A (Nature Green, 2GB Ram, 32GB Storage) | 2GHz Octa-core Helio G25 Processor\n",
      "Samsung Galaxy M31 (Space Black, 6GB RAM, 128GB Storage)\n",
      "Redmi 9 Power (Blazing Blue, 4GB RAM, 64GB Storage) - 6000mAh Battery | 48MP Quad Camera\n",
      "Redmi Note 9 Pro (Glacier White, 4GB RAM, 64GB Storage) - Latest 8nm Snapdragon 720G & Alexa Hands-Free\n",
      "Redmi Note 9 Pro (Interstellar Black, 4GB RAM, 64GB Storage)- Latest 8nm Snapdragon 720G & Alexa Hands-Free\n",
      "Redmi Note 9 Pro Max (Interstellar Black, 6GB RAM, 64GB Storage) - 64MP Quad Camera & Alexa Hands-Free\n",
      "Samsung Galaxy M21 (Midnight Blue, 4GB RAM, 64GB Storage)\n",
      "Samsung Galaxy M02s (Blue,4GB RAM, 64GB Storage) | 5000 mAh | Triple Camera\n",
      "Redmi 9 Power (Electric Green, 4GB RAM, 64GB Storage) - 6000mAh Battery | 48MP Quad Camera\n",
      "Redmi 9A (Midnight Black, 2GB RAM, 32GB Storage) | 2GHz Octa-core Helio G25 Processor\n",
      "Redmi 9A (Nature Green, 3GB Ram, 32GB Storage) | 2GHz Octa-core Helio G25 Processor\n",
      "Redmi 9 (Carbon Black, 4GB RAM, 64GB Storage)\n",
      "Redmi 9 Power (Mighty Black 4GB RAM 64GB Storage) - 6000mAh Battery | 48MP Quad Camera\n",
      "Samsung Galaxy M21 (Raven Black, 4GB RAM, 64GB Storage)\n",
      "Samsung Galaxy M02 (Blue,3GB RAM, 32GB Storage)\n",
      "Redmi 9 Prime (Space Blue, 4GB RAM, 64GB Storage)- Full HD+ Display & AI Quad Camera\n",
      "Redmi Note 9 Pro (Interstellar Black, 4GB RAM, 128GB Storage) - Latest 8nm Snapdragon 720G & Alexa Hands-Free\n",
      "Samsung Galaxy M02s (Black,4GB RAM, 64GB Storage) | 5000 mAh | Triple Camera\n",
      "Redmi 9 (Sporty Orange, 4GB RAM, 64GB Storage)\n",
      "Samsung EVO Plus 64GB microSDXC UHS-I 100MB/s Full HD & 4K UHD Memory Card with Adapter (MB-MC64HA)\n",
      "Samsung Galaxy M02 (Black,3GB RAM, 32GB Storage)\n"
     ]
    }
   ],
   "source": [
    "Model_name = []\n",
    "for name in soup.findAll(\"span\", {\"class\": \"a-size-base-plus a-color-base a-text-normal\"}):\n",
    "    Model_name=Model_name+list(name)\n",
    "    print(name.text)"
   ]
  },
  {
   "cell_type": "code",
   "execution_count": 17,
   "metadata": {},
   "outputs": [
    {
     "name": "stdout",
     "output_type": "stream",
     "text": [
      "['8,799', '11,999', '6,799', '6,799', '16,499', '10,499', '11,999', '11,999', '14,999', '12,999', '9,999', '10,499', '6,799', '7,499', '8,799', '10,499', '12,999', '7,499', '9,499', '13,999', '9,999', '8,799', '699', '7,499']\n"
     ]
    }
   ],
   "source": [
    "Price = []\n",
    "for prices in soup.findAll(\"span\", {\"class\": \"a-price-whole\"}):\n",
    "    Price=Price+list(prices)\n",
    "print(Price)"
   ]
  },
  {
   "cell_type": "code",
   "execution_count": 18,
   "metadata": {},
   "outputs": [
    {
     "name": "stdout",
     "output_type": "stream",
     "text": [
      "['4 Stars & Up', '3 Stars & Up', '2 Stars & Up', '1 Star & Up', '4.0 out of 5 stars', '4.2 out of 5 stars', '4.1 out of 5 stars', '4.1 out of 5 stars', '4.2 out of 5 stars', '3.7 out of 5 stars', '4.2 out of 5 stars', '4.2 out of 5 stars', '4.1 out of 5 stars', '4.2 out of 5 stars', '4.0 out of 5 stars', '3.7 out of 5 stars', '4.1 out of 5 stars', '4.1 out of 5 stars', '4.0 out of 5 stars', '3.7 out of 5 stars', '4.2 out of 5 stars', '3.7 out of 5 stars', '4.2 out of 5 stars', '4.2 out of 5 stars', '4.0 out of 5 stars', '4.0 out of 5 stars', '4.4 out of 5 stars', '3.7 out of 5 stars']\n"
     ]
    }
   ],
   "source": [
    "Ratings = []\n",
    "for rating in soup.findAll(\"span\", {\"class\": \"a-icon-alt\"}):\n",
    "    Ratings=Ratings+list(rating)\n",
    "print(Ratings)"
   ]
  },
  {
   "cell_type": "code",
   "execution_count": 19,
   "metadata": {
    "scrolled": true
   },
   "outputs": [
    {
     "name": "stdout",
     "output_type": "stream",
     "text": [
      "1-24 of 709 results\n",
      "Save ₹2,200 (20%)\n",
      "Get it by \n",
      "FREE Delivery by Amazon\n",
      "Save ₹5,000 (29%)\n",
      "FREE Delivery by Amazon\n",
      "In stock on February 28, 2021.\n",
      "Save ₹1,700 (20%)\n",
      "Get it by \n",
      "FREE Delivery by Amazon\n",
      "Save ₹1,700 (20%)\n",
      "Get it by \n",
      "FREE Delivery by Amazon\n",
      "Save ₹3,500 (18%)\n",
      "Get it by \n",
      "FREE Delivery by Amazon\n",
      "Save ₹3,500 (25%)\n",
      "Get it by \n",
      "FREE Delivery by Amazon\n",
      "Save ₹5,000 (29%)\n",
      "Get it by \n",
      "FREE Delivery by Amazon\n",
      "Save ₹5,000 (29%)\n",
      "Get it by \n",
      "FREE Delivery by Amazon\n",
      "Save ₹4,000 (21%)\n",
      "Get it by \n",
      "FREE Delivery by Amazon\n",
      "Save ₹3,000 (19%)\n",
      "Get it by \n",
      "FREE Delivery by Amazon\n",
      "Save ₹1,500 (13%)\n",
      "Get it by \n",
      "FREE Delivery by Amazon\n",
      "Save ₹3,500 (25%)\n",
      "Get it by \n",
      "FREE Delivery by Amazon\n",
      "Save ₹1,700 (20%)\n",
      "Get it by \n",
      "FREE Delivery by Amazon\n",
      "Save ₹2,000 (21%)\n",
      "Get it by \n",
      "FREE Delivery by Amazon\n",
      "Save ₹2,200 (20%)\n",
      "Get it by \n",
      "FREE Delivery by Amazon\n",
      "Save ₹3,500 (25%)\n",
      "Get it by \n",
      "FREE Delivery by Amazon\n",
      "Save ₹1,000 (7%)\n",
      "Get it by \n",
      "FREE Delivery by Amazon\n",
      "Save ₹1,000 (12%)\n",
      "Get it by \n",
      "FREE Delivery by Amazon\n",
      "Save ₹2,500 (21%)\n",
      "Get it by \n",
      "FREE Delivery by Amazon\n",
      "Save ₹4,000 (22%)\n",
      "Get it by \n",
      "FREE Delivery by Amazon\n",
      "Save ₹1,500 (13%)\n",
      "Get it by \n",
      "FREE Delivery by Amazon\n",
      "Save ₹2,200 (20%)\n",
      "Get it by \n",
      "FREE Delivery by Amazon\n",
      "Save ₹1,200 (63%)\n",
      "Get it by \n",
      "FREE Delivery by Amazon\n",
      "Save ₹1,000 (12%)\n",
      "Get it by \n",
      "FREE Delivery by Amazon\n"
     ]
    }
   ],
   "source": [
    "Delivery=[]\n",
    "for delv in soup.findAll(\"span\", {\"dir\":\"auto\",\"class\":\"\"}):\n",
    "    Delivery=Delivery+list(delv)\n",
    "    print(delv.text)"
   ]
  },
  {
   "cell_type": "code",
   "execution_count": null,
   "metadata": {},
   "outputs": [],
   "source": []
  },
  {
   "cell_type": "code",
   "execution_count": 20,
   "metadata": {},
   "outputs": [],
   "source": [
    "final=list(zip(Model_name,Price,Ratings,Delivery))\n",
    "filename='mob_Details.csv'\n",
    "with open(filename, 'w', newline='', encoding=\"utf-8\") as f:\n",
    "    w=csv.writer(f)\n",
    "    w.writerow(['Model_name','Price','Ratings','Delivery'])\n",
    "    for item in final:\n",
    "        w.writerow(item)\n",
    "    f.close()"
   ]
  },
  {
   "cell_type": "code",
   "execution_count": null,
   "metadata": {},
   "outputs": [],
   "source": []
  }
 ],
 "metadata": {
  "kernelspec": {
   "display_name": "Python 3",
   "language": "python",
   "name": "python3"
  },
  "language_info": {
   "codemirror_mode": {
    "name": "ipython",
    "version": 3
   },
   "file_extension": ".py",
   "mimetype": "text/x-python",
   "name": "python",
   "nbconvert_exporter": "python",
   "pygments_lexer": "ipython3",
   "version": "3.7.9"
  }
 },
 "nbformat": 4,
 "nbformat_minor": 4
}
